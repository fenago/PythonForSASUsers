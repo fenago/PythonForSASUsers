{
 "cells": [
  {
   "cell_type": "markdown",
   "metadata": {},
   "source": [
    "# Chapter 07 -- Pandas, Part2\n",
    " "
   ]
  },
  {
   "cell_type": "markdown",
   "metadata": {},
   "source": [
    "## Topics Covered\n",
    "\n",
    "<a href=\"http://nbviewer.jupyter.org/github/RandyBetancourt/PythonForSASUsers/blob/master/Chapter%2007%20--%20Pandas%2C%20Part%202.ipynb#SAS-Sort-Merge-with-by-group\">SAS Sort Merge with by-group </a>\n",
    "\n",
    "<a href=\"http://nbviewer.jupyter.org/github/RandyBetancourt/PythonForSASUsers/blob/master/Chapter%2007%20--%20Pandas%2C%20Part%202.ipynb#Inner-Join\">Inner Join </a>\n",
    "\n",
    "<a href=\"http://nbviewer.jupyter.org/github/RandyBetancourt/PythonForSASUsers/blob/master/Chapter%2007%20--%20Pandas%2C%20Part%202.ipynb#Right-Outer-Join\">Right Outer Join </a>\n",
    "\n",
    "<a href=\"http://nbviewer.jupyter.org/github/RandyBetancourt/PythonForSASUsers/blob/master/Chapter%2007%20--%20Pandas%2C%20Part%202.ipynb#Left-Outer-Join\">Left Outer Join </a>\n",
    "\n",
    "<a href=\"http://nbviewer.jupyter.org/github/RandyBetancourt/PythonForSASUsers/blob/master/Chapter%2007%20--%20Pandas%2C%20Part%202.ipynb#Full-Outer-Join\">Full Outer Join </a>\n",
    "\n",
    "<a href=\"http://nbviewer.jupyter.org/github/RandyBetancourt/PythonForSASUsers/blob/master/Chapter%2007%20--%20Pandas%2C%20Part%202.ipynb#Outer-Join-no-Matched-Keys\">Outer Join no Matched Keys </a>\n",
    "\n",
    "<a href=\"http://nbviewer.jupyter.org/github/RandyBetancourt/PythonForSASUsers/blob/master/Chapter%2007%20--%20Pandas%2C%20Part%202.ipynb#Outer-Join-no-Matched-Keys-in-Right\">Outer Join no Matched Keys in Right</a>\n",
    "\n",
    "<a href=\"http://nbviewer.jupyter.org/github/RandyBetancourt/PythonForSASUsers/blob/master/Chapter%2007%20--%20Pandas%2C%20Part%202.ipynb#Outer-Join-no-Matched-Keys-in-Left\">Outer Join no Matched Keys in Left</a>\n",
    "\n",
    "<a href=\"http://nbviewer.jupyter.org/github/RandyBetancourt/PythonForSASUsers/blob/master/Chapter%2007%20--%20Pandas%2C%20Part%202.ipynb#Many-to-Many-Join\">Many-to-Many Join</a>\n",
    "\n",
    "<a href=\"http://nbviewer.jupyter.org/github/RandyBetancourt/PythonForSASUsers/blob/master/Chapter%2007%20--%20Pandas%2C%20Part%202.ipynb#Group-by:-split-apply-combine-Introduction\">Group by: split-apply-combine Introduction</a>\n",
    "   \n",
    "<a href=\"http://nbviewer.jupyter.org/github/RandyBetancourt/PythonForSASUsers/blob/master/Chapter%2007%20--%20Pandas%2C%20Part%202.ipynb#Replace-Missing-Values-with-Group-Means\">Replace Missing Values with Group Means</a>\n",
    "\n",
    "<a href=\"http://nbviewer.jupyter.org/github/RandyBetancourt/PythonForSASUsers/blob/master/Chapter%2007%20--%20Pandas%2C%20Part%202.ipynb?flush_cache=true/#FIRST.variable-and-LAST.variable\">FIRST.variable and LAST.variable Processing</a>\n",
    "\n",
    "<a href=\"http://nbviewer.jupyter.org/github/RandyBetancourt/PythonForSASUsers/blob/master/Chapter%2007%20--%20Pandas%2C%20Part%202.ipynb#Resources\">Resources</a>"
   ]
  },
  {
   "cell_type": "markdown",
   "metadata": {},
   "source": [
    "The usual pre-amble to get packages loaded into the namespace."
   ]
  },
  {
   "cell_type": "code",
   "execution_count": null,
   "metadata": {},
   "outputs": [],
   "source": [
    "import numpy as np\n",
    "import pandas as pd\n",
    "from numpy.random import randn\n",
    "from pandas import Series, DataFrame, Index\n",
    "from IPython.display import Image"
   ]
  },
  {
   "cell_type": "markdown",
   "metadata": {},
   "source": [
    "  "
   ]
  },
  {
   "cell_type": "markdown",
   "metadata": {},
   "source": [
    "The display method() defined below is from the Python Data Science Handbook, by Jake VanderPlas, available <a href=\"http://shop.oreilly.com/product/0636920034919.do\"> here </a>.  It is used to render DataFrames side-by-side for comparisons."
   ]
  },
  {
   "cell_type": "code",
   "execution_count": null,
   "metadata": {},
   "outputs": [],
   "source": [
    "class display(object):\n",
    "    \"\"\"Display HTML representation of multiple objects\"\"\"\n",
    "    template = \"\"\"<div style=\"float: left; padding: 10px;\">\n",
    "    <p style='font-family:\"Courier New\", Courier, monospace'>{0}</p>{1}\n",
    "    </div>\"\"\"\n",
    "    def __init__(self, *args):\n",
    "        self.args = args\n",
    "\n",
    "    def _repr_html_(self):\n",
    "        return '\\n'.join(self.template.format(a, eval(a)._repr_html_())\n",
    "                         for a in self.args)\n",
    "\n",
    "    def __repr__(self):\n",
    "        return '\\n\\n'.join(a + '\\n' + repr(eval(a))\n",
    "                           for a in self.args)"
   ]
  },
  {
   "cell_type": "markdown",
   "metadata": {},
   "source": [
    " "
   ]
  },
  {
   "cell_type": "markdown",
   "metadata": {},
   "source": [
    "## SAS Sort Merge with by-group"
   ]
  },
  {
   "cell_type": "markdown",
   "metadata": {},
   "source": [
    "Start with the example data from SAS' Step-by-Step Programming with Base SAS software doc located <a href=\"https://support.sas.com/documentation/cdl/en/basess/58133/HTML/default/viewer.htm#a001304305.htm\"> here</a> .  \n",
    "\n",
    "Create the SAS data sets 'left' and 'right'."
   ]
  },
  {
   "cell_type": "markdown",
   "metadata": {},
   "source": [
    "````\n",
    "    /******************************************************/\n",
    "    /* c07_default_sort_merge.sas                         */\n",
    "    /******************************************************/\n",
    "    data left;\n",
    "       length name $ 32;\n",
    "       input name $ 1-25 age 27-28 gender $ 30;\n",
    "       datalines;\n",
    "    Gunter, Thomas            27 M\n",
    "    Harbinger, Nicholas       36 M\n",
    "    Benito, Gisela            32 F\n",
    "    Rudelich, Herbert         39 M\n",
    "    Sirignano, Emily          12 F\n",
    "    Morrison, Michael         32 M\n",
    "    Morrison, Michael         32 M\n",
    "    Onieda, Jacqueline        31 F\n",
    "    ;;;;\n",
    "\n",
    "    data right;\n",
    "       length name $ 32;\n",
    "       input idnumber $ 1-11 name $ 13-40 salary;\n",
    "       datalines;\n",
    "    929-75-0218 Gunter, Thomas               27500\n",
    "    446-93-2122 Harbinger, Nicholas          33900\n",
    "    228-88-9649 Benito, Gisela               28000\n",
    "    029-46-9261 Rudelich, Herbert            35000\n",
    "    442-21-8075 Sirignano, Emily             5000\n",
    "    321-82-5771 Valpolicella, Vino           88000\n",
    "    ;;;;\n",
    "````"
   ]
  },
  {
   "cell_type": "markdown",
   "metadata": {},
   "source": [
    " "
   ]
  },
  {
   "cell_type": "markdown",
   "metadata": {},
   "source": [
    "The SAS log below shows both data sets sorted by 'name' and subsequently merged on the sort key.  If the keys from both tables match then the observation is merged into a single observation in the output dataset.   \n",
    "\n",
    "Observations not matching in both input data sets are included and their values are set to missing as illustrated in the SAS output below.  This is the equivalent of a full outer join shown <a href=\"http://nbviewer.jupyter.org/github/RandyBetancourt/PythonForSASUsers/blob/master/Chapter%2007%20--%20Pandas%2C%20Part%202.ipynb#Full-Outer-Join\"> below</a>."
   ]
  },
  {
   "cell_type": "markdown",
   "metadata": {},
   "source": [
    "````\n",
    "    /******************************************************/\n",
    "    /* c07_default_sort_merge.sas                         */\n",
    "    /******************************************************/\n",
    "    34       proc sort data=left;\n",
    "    35          by name;\n",
    "    36       \n",
    "    37       proc sort data=right;\n",
    "    38          by name;\n",
    "    39       \n",
    "    40       data merge_both;\n",
    "    41       merge left\n",
    "    42             right;\n",
    "    43          by name;\n",
    "\n",
    "    NOTE: 8 observations were read from \"WORK.left\"\n",
    "    NOTE: 6 observations were read from \"WORK.right\"\n",
    "    NOTE: Data set \"WORK.merge_both\" has 9 observation(s) and 5 variable(s)\n",
    "````"
   ]
  },
  {
   "cell_type": "markdown",
   "metadata": {},
   "source": [
    " "
   ]
  },
  {
   "cell_type": "code",
   "execution_count": null,
   "metadata": {},
   "outputs": [],
   "source": [
    "Image(filename='output/default_match_merge.JPG')"
   ]
  },
  {
   "cell_type": "markdown",
   "metadata": {},
   "source": [
    " "
   ]
  },
  {
   "cell_type": "markdown",
   "metadata": {},
   "source": [
    "Construct the DataFrames 'left' containing demographic information for employees and 'right' containing salary information.  They are replicates of the SAS data sets 'left' and 'right' used with the SAS program above."
   ]
  },
  {
   "cell_type": "code",
   "execution_count": null,
   "metadata": {},
   "outputs": [],
   "source": [
    "left = pd.DataFrame({'name': ['Gunter, Thomas', 'Harbinger, Nicholas', 'Benito, Gisela', 'Rudelich, Herbert', \\\n",
    "                              'Sirignano, Emily', 'Morrison, Michael', 'Morrison, Michael', 'Onieda, Jacqueline'],\n",
    "                     'age':          [27, 36, 32, 39, 22, 32, 32, 31],\n",
    "                     'gender':       ['M', 'M', 'F', 'M', 'F', 'M', 'M', 'F']})\n",
    "\n",
    "right = pd.DataFrame({'name': ['Gunter, Thomas', 'Harbinger, Nicholas', \\\n",
    "                               'Benito, Gisela','Rudelich, Herbert', 'Sirignano, Emily', 'Valpolicella, Vino'],\n",
    "                      'id':           ['929-75-0218', '446-93-2122', \\\n",
    "                                       '228-88-9649', '029-46-9261', '442-21-8075', '321-82-5771'], \n",
    "                      'salary':      [27500, 33900, 28000, 35000, 5000, 80000]})"
   ]
  },
  {
   "cell_type": "markdown",
   "metadata": {},
   "source": [
    " "
   ]
  },
  {
   "cell_type": "code",
   "execution_count": null,
   "metadata": {},
   "outputs": [],
   "source": [
    "display(\"left\", \"right\")"
   ]
  },
  {
   "cell_type": "markdown",
   "metadata": {},
   "source": [
    "panda uses two main constructs for joing and merging dataframes.  There is the <a href=\"http://pandas.pydata.org/pandas-docs/stable/merging.html#merge-join-and-concatenate\"> concat </a> function and the Database-style <a href=\"http://pandas.pydata.org/pandas-docs/stable/merging.html#database-style-dataframe-joining-merging\"> join/merge </a> operations with syntax similar to SQL.\n",
    "\n",
    "The examples below use the Database-style join/merge operations.  An example of the pd.concat() method is found <a href=\"http://nbviewer.jupyter.org/github/RandyBetancourt/PythonForSASUsers/blob/master/Chapter%2012%20--%20Additional%20Data%20Handling%20.ipynb#Concatenating-DataFrames-(Join)\"> here</a>."
   ]
  },
  {
   "cell_type": "markdown",
   "metadata": {},
   "source": [
    "Consider the SAS log below.  It shows 7 different output data sets created in a single Data Step.  Each are produced below with panda.  "
   ]
  },
  {
   "cell_type": "markdown",
   "metadata": {},
   "source": [
    "````\n",
    "    /******************************************************/\n",
    "    /* c07_create_all_data_sets.sas                       */\n",
    "    /******************************************************/\n",
    "    26      data both\n",
    "    27           right\n",
    "    28           left\n",
    "    29           allrows\n",
    "    30           nomatchl\n",
    "    31           nomatchr\n",
    "    32           nomatch;\n",
    "    33      \n",
    "    34            merge left(in=l)\n",
    "    35                   right(in=r);\n",
    "    36            by name;\n",
    "    37      \n",
    "    38      if (l=l and r=1) then output both; *Inner Join;\n",
    "    39      \n",
    "    40      if r = 1 then output right; * Right Outer Join;\n",
    "    41      \n",
    "    42      if l = 1 then output left;  * Left Outer Join;\n",
    "    43      \n",
    "    44      if (l=1 or r=1) then output allrows; *Full Outer Join;\n",
    "    45      \n",
    "    46      if (l=0 and r=1) then output nomatchl;\n",
    "    47      \n",
    "    48      if (l=1 and r=0) then output nomatchr;\n",
    "    49      \n",
    "    50      if (l=0 or r=0) then output nomatch;\n",
    "\n",
    "    NOTE: 8 observations were read from \"WORK.left\"\n",
    "    NOTE: 6 observations were read from \"WORK.right\"\n",
    "    NOTE: Data set \"WORK.both\" has 6 observation(s) and 5 variable(s)\n",
    "    NOTE: Data set \"WORK.right\" has 6 observation(s) and 5 variable(s)\n",
    "    NOTE: Data set \"WORK.left\" has 8 observation(s) and 5 variable(s)\n",
    "    NOTE: Data set \"WORK.allrows\" has 9 observation(s) and 5 variable(s)\n",
    "    NOTE: Data set \"WORK.nomatchl\" has 1 observation(s) and 5 variable(s)\n",
    "    NOTE: Data set \"WORK.nomatchr\" has 3 observation(s) and 5 variable(s)\n",
    "    NOTE: Data set \"WORK.nomatch\" has 4 observation(s) and 5 variable(s)\n",
    "````"
   ]
  },
  {
   "cell_type": "markdown",
   "metadata": {},
   "source": [
    " "
   ]
  },
  {
   "cell_type": "markdown",
   "metadata": {},
   "source": [
    "## Inner Join\n",
    "### If (L=1 and R=1);"
   ]
  },
  {
   "cell_type": "markdown",
   "metadata": {},
   "source": [
    "An INNER JOIN selects only those rows whose key values are found in both tables.  Another way to say this is the intersection of key values."
   ]
  },
  {
   "cell_type": "markdown",
   "metadata": {},
   "source": [
    "````\n",
    "    /******************************************************/\n",
    "    /* c07_inner_join.sas                                 */\n",
    "    /******************************************************/\n",
    "    37       proc sql;\n",
    "    38          select monotonic() as row_num\n",
    "    39                ,*\n",
    "    40       \n",
    "    41        from left, right\n",
    "    42        where left.name = right.name;\n",
    "````"
   ]
  },
  {
   "cell_type": "markdown",
   "metadata": {},
   "source": [
    " "
   ]
  },
  {
   "cell_type": "code",
   "execution_count": null,
   "metadata": {},
   "outputs": [],
   "source": [
    "Image(filename='output/inner_join.JPG')"
   ]
  },
  {
   "cell_type": "markdown",
   "metadata": {},
   "source": [
    " "
   ]
  },
  {
   "cell_type": "markdown",
   "metadata": {},
   "source": [
    "With the panda merge() method, how='inner' is the analog to the SAS example above."
   ]
  },
  {
   "cell_type": "markdown",
   "metadata": {},
   "source": [
    "The panda 'how' argument for the merge() method specifies which keys are to be included in the output table. If a key combination does not appear in either the left or right table then values in the joined table will be NaN for missing.  This is the same as the SAS sort/merge example above. "
   ]
  },
  {
   "cell_type": "markdown",
   "metadata": {},
   "source": [
    "Use the how='inner' argument for an INNER JOIN.  This retrieves the intersection of key values from the 'left' and 'right' DataFrames."
   ]
  },
  {
   "cell_type": "code",
   "execution_count": null,
   "metadata": {},
   "outputs": [],
   "source": [
    "both = pd.merge(left, right, on='name', how='inner', sort=True)"
   ]
  },
  {
   "cell_type": "markdown",
   "metadata": {},
   "source": [
    "  "
   ]
  },
  {
   "cell_type": "code",
   "execution_count": null,
   "metadata": {},
   "outputs": [],
   "source": [
    "both"
   ]
  },
  {
   "cell_type": "markdown",
   "metadata": {},
   "source": [
    "  "
   ]
  },
  {
   "cell_type": "markdown",
   "metadata": {},
   "source": [
    "The SAS Data Step eqivalent of an Inner Join.\n",
    "    \n",
    "    data both;\n",
    "    merge left(in=l)\n",
    "          right(in=r);\n",
    "    by name;\n",
    "    \n",
    "    if (l=1 and r=1) then output both;\n",
    "    "
   ]
  },
  {
   "cell_type": "markdown",
   "metadata": {},
   "source": [
    "  "
   ]
  },
  {
   "cell_type": "markdown",
   "metadata": {},
   "source": [
    "## Right Outer Join\n",
    "### if R = 1;"
   ]
  },
  {
   "cell_type": "markdown",
   "metadata": {},
   "source": [
    "PROC SQL Right Outer Join example."
   ]
  },
  {
   "cell_type": "markdown",
   "metadata": {},
   "source": [
    "````\n",
    "    /******************************************************/\n",
    "    /* c07_right_outer_join.sas                           */\n",
    "    /******************************************************/\n",
    "    38       proc sql;\n",
    "    39       create table r_outer(drop=old_name) as\n",
    "    40          select monotonic() as row_num\n",
    "    41                ,coalesce(left.old_name, right.old_name) as name\n",
    "    42                ,*\n",
    "    43          from left (rename=(name=old_name))\n",
    "    44          right join\n",
    "    45          right (rename=(name=old_name))\n",
    "    46        on left.old_name = right.old_name;\n",
    "    47       \n",
    "    48        select *\n",
    "    49        from r_outer;\n",
    "    50        quit;\n",
    "````"
   ]
  },
  {
   "cell_type": "markdown",
   "metadata": {},
   "source": [
    "The COALESCE function coerces the 'name' variable into a single column.  The 'name' column is renamed 'old_name' to provide a join key and is then dropped.  \n",
    "\n",
    "To produce the output above a second SELECT statement is used to display the single 'name' column in the output."
   ]
  },
  {
   "cell_type": "markdown",
   "metadata": {},
   "source": [
    " "
   ]
  },
  {
   "cell_type": "code",
   "execution_count": null,
   "metadata": {},
   "outputs": [],
   "source": [
    "Image(filename='output/right_outer.JPG')"
   ]
  },
  {
   "cell_type": "markdown",
   "metadata": {},
   "source": [
    " "
   ]
  },
  {
   "cell_type": "markdown",
   "metadata": {},
   "source": [
    "For panda use the how='right' argument for a Right Outer Join.  This returns only those key values found in the 'right' DataFrame with corresponding matches found the 'left' DataFrame."
   ]
  },
  {
   "cell_type": "code",
   "execution_count": null,
   "metadata": {},
   "outputs": [],
   "source": [
    "r_outer = pd.merge(left, right, how='right', sort=True)"
   ]
  },
  {
   "cell_type": "markdown",
   "metadata": {},
   "source": [
    "  "
   ]
  },
  {
   "cell_type": "code",
   "execution_count": null,
   "metadata": {},
   "outputs": [],
   "source": [
    "r_outer"
   ]
  },
  {
   "cell_type": "markdown",
   "metadata": {},
   "source": [
    "  "
   ]
  },
  {
   "cell_type": "markdown",
   "metadata": {},
   "source": [
    "The SAS Data Step equivalent of a RIGHT Outer Join.\n",
    "\n",
    "````\n",
    "    78       data r_outer;\n",
    "    79           merge left(in=l)\n",
    "    80                 right(in=r);\n",
    "    81       \n",
    "    82       if r = 1;\n",
    "````"
   ]
  },
  {
   "cell_type": "markdown",
   "metadata": {},
   "source": [
    " "
   ]
  },
  {
   "cell_type": "markdown",
   "metadata": {},
   "source": [
    "## Left Outer Join\n",
    "### If L = 1;"
   ]
  },
  {
   "cell_type": "markdown",
   "metadata": {},
   "source": [
    "PROC SQL Left Outer Join example.  See the SAS SQL Right Outer Join example <a href=\"http://nbviewer.jupyter.org/github/RandyBetancourt/PythonForSASUsers/blob/master/Chapter%2007%20--%20Pandas%2C%20Part%202.ipynb#Right-Outer-Join\"> above</a> to use the COALESCE function to coerce the name column contributed by both both tables into a single column."
   ]
  },
  {
   "cell_type": "markdown",
   "metadata": {},
   "source": [
    "````\n",
    "    /******************************************************/\n",
    "    /* c07_left_outer_join.sas                            */\n",
    "    /******************************************************/\n",
    "    29       proc sql;\n",
    "    30          select monotonic() as row_num\n",
    "    31                ,*\n",
    "    32          from\n",
    "    33             left\n",
    "    34          left join\n",
    "    35             right\n",
    "    36        on left.name = right.name;\n",
    "    37       \n",
    "    38        quit;\n",
    "````"
   ]
  },
  {
   "cell_type": "markdown",
   "metadata": {},
   "source": [
    " "
   ]
  },
  {
   "cell_type": "code",
   "execution_count": null,
   "metadata": {},
   "outputs": [],
   "source": [
    "Image(filename='output/left_outer.JPG')"
   ]
  },
  {
   "cell_type": "markdown",
   "metadata": {},
   "source": [
    " "
   ]
  },
  {
   "cell_type": "markdown",
   "metadata": {},
   "source": [
    "For panda use the how='left' argument for a LEFT OUTER JOIN.  This returns only those key values found in the 'left' DataFrame with corresponding matches found the 'right' DataFrame."
   ]
  },
  {
   "cell_type": "code",
   "execution_count": null,
   "metadata": {},
   "outputs": [],
   "source": [
    "l_outer = pd.merge(left, right, how='left', sort=True)"
   ]
  },
  {
   "cell_type": "code",
   "execution_count": null,
   "metadata": {},
   "outputs": [],
   "source": [
    "l_outer"
   ]
  },
  {
   "cell_type": "markdown",
   "metadata": {},
   "source": [
    "  "
   ]
  },
  {
   "cell_type": "markdown",
   "metadata": {},
   "source": [
    "The SAS Data Step equivalent of a Left Outer Join."
   ]
  },
  {
   "cell_type": "markdown",
   "metadata": {},
   "source": [
    "````    \n",
    "    73      data l_outer;\n",
    "    74          merge left(in=l)\n",
    "    75                right(in=r);\n",
    "    76      \n",
    "    77      if l = 1;\n",
    "````"
   ]
  },
  {
   "cell_type": "markdown",
   "metadata": {},
   "source": [
    " "
   ]
  },
  {
   "cell_type": "markdown",
   "metadata": {},
   "source": [
    "## Full Outer Join\n",
    "### If (L=1 or R=1);"
   ]
  },
  {
   "cell_type": "markdown",
   "metadata": {},
   "source": [
    "PROC SQL Full Outer Join exanple.  This is the default behavior for the SORT/MERGE example located at the <a href=\"http://nbviewer.jupyter.org/github/RandyBetancourt/PythonForSASUsers/blob/master/Chapter%2007%20--%20Pandas%2C%20Part%202.ipynb#SAS-Sort-Merge-with-by-group\"> beginning</a> of this notebook."
   ]
  },
  {
   "cell_type": "markdown",
   "metadata": {},
   "source": [
    "````\n",
    "    /******************************************************/\n",
    "    /* c07_full_outer_join.sas                            */\n",
    "    /******************************************************/\n",
    "    6       proc sql;\n",
    "    7       create table sas_merge(drop=old_name) as\n",
    "    8       select monotonic() as obs\n",
    "    9             ,coalesce(left.old_name, right.old_name) as name\n",
    "    10             ,*\n",
    "    11          from left (rename=(name=old_name))\n",
    "    12       full join right (rename=(name=old_name))\n",
    "    13           on left.old_name = right.old_name;\n",
    "    14       \n",
    "    15       select * from sas_merge;   \n",
    "````"
   ]
  },
  {
   "cell_type": "markdown",
   "metadata": {},
   "source": [
    " "
   ]
  },
  {
   "cell_type": "code",
   "execution_count": null,
   "metadata": {},
   "outputs": [],
   "source": [
    "Image(filename='output/full_outer_join.JPG')"
   ]
  },
  {
   "cell_type": "markdown",
   "metadata": {},
   "source": [
    " "
   ]
  },
  {
   "cell_type": "code",
   "execution_count": null,
   "metadata": {},
   "outputs": [],
   "source": [
    "merge_both = pd.merge(left, right, on='name', how='outer', sort=True)"
   ]
  },
  {
   "cell_type": "code",
   "execution_count": null,
   "metadata": {
    "scrolled": false
   },
   "outputs": [],
   "source": [
    "merge_both"
   ]
  },
  {
   "cell_type": "markdown",
   "metadata": {},
   "source": [
    " "
   ]
  },
  {
   "cell_type": "markdown",
   "metadata": {},
   "source": [
    "A Full Outer Join is the default behavior for a SAS 'Sort-Merge' with a by-group except in the case of a many-to-many join (see below).  It combines all observations from both data sets.  Said another way, the UNION of all values from both datasets.  \n",
    "\n",
    "This is also the equivalent to setting the MERGE IN= flag as:\n",
    "\n",
    "    if (L=1 or R=1) then output merge_both;"
   ]
  },
  {
   "cell_type": "markdown",
   "metadata": {},
   "source": [
    "````\n",
    "    34       proc sort data=left;\n",
    "    35          by name;\n",
    "    36       \n",
    "    37       proc sort data=right;\n",
    "    38          by name;\n",
    "    39       \n",
    "    40       data merge_both;\n",
    "    41       merge left\n",
    "    42             right;\n",
    "    43          by name;\n",
    "\n",
    "    NOTE: 8 observations were read from \"WORK.left\"\n",
    "    NOTE: 6 observations were read from \"WORK.right\"\n",
    "    NOTE: Data set \"WORK.merge_both\" has 9 observation(s) and 5 variable(s)\n",
    "````"
   ]
  },
  {
   "cell_type": "markdown",
   "metadata": {},
   "source": [
    " "
   ]
  },
  {
   "cell_type": "markdown",
   "metadata": {},
   "source": [
    "## Outer Join no Matched Keys\n",
    "### if (L=0 or R=0); "
   ]
  },
  {
   "cell_type": "markdown",
   "metadata": {},
   "source": [
    "The examples above illustrate joining strategies based on matched key values in the data to be joined.  The next three examples illustrate joining data where keys are not matched.  \n",
    "\n",
    "Every SQL join is either a Cartesian product join or a sub-set of the Cartesian product join.  Thus requiring a different approach to cases involving non-matched key values.   Some form of WHERE processing is required.  This is where the SAS Data Step with its IN= processing logic is a common pattern.  \n",
    "\n",
    "PROC SQL can be used as well.\n",
    "\n",
    "The next three examples use panda's indicator= argument to the pd.merge() method as an analog to the SAS IN= flag.  \n",
    "\n",
    "For panda the WHERE processing filters utilize <a href=\"http://nbviewer.jupyter.org/github/RandyBetancourt/PythonForSASUsers/blob/master/Chapter%2005%20--%20Understanding%20Indexes.ipynb#Mixing-.loc-Indexer-with-Boolean-Operators\"> boolean comparisons</a>.\n",
    "\n",
    "Start with the SAS Data Step for no matched keys in either the 'left' or 'right' data sets. "
   ]
  },
  {
   "cell_type": "markdown",
   "metadata": {},
   "source": [
    "````\n",
    "    /******************************************************/\n",
    "    /* c07_nomatch_left_or_right.sas                      */\n",
    "    /******************************************************/\n",
    "    45      data nomatch;\n",
    "    46            merge left(in=l)\n",
    "    47                   right(in=r);\n",
    "    48            by name;\n",
    "    49      \n",
    "    50      if (l=0 or r=0);\n",
    "    51      \n",
    "    52      title1 \"if (L=0 or R=0)\";\n",
    "````        "
   ]
  },
  {
   "cell_type": "markdown",
   "metadata": {},
   "source": [
    " "
   ]
  },
  {
   "cell_type": "code",
   "execution_count": null,
   "metadata": {},
   "outputs": [],
   "source": [
    " Image(filename='output/nomatch.JPG')"
   ]
  },
  {
   "cell_type": "markdown",
   "metadata": {},
   "source": [
    " "
   ]
  },
  {
   "cell_type": "markdown",
   "metadata": {},
   "source": [
    "panda provisions the indicator= argument to the pd.merge() method.  The indicator argument can be a column name which takes on 1 of 3 possible values:\n",
    "\n",
    "    left_only\n",
    "    right_only\n",
    "    both\n",
    "    \n",
    "By applying a boolean filter in conjunction with these values, we can replicate the behaviors for the SAS IN= flag for MERGEs.  "
   ]
  },
  {
   "cell_type": "markdown",
   "metadata": {},
   "source": [
    " "
   ]
  },
  {
   "cell_type": "markdown",
   "metadata": {},
   "source": [
    "Construct the 'nomatch' DataFrame with an Outer Join using the ['name'] column as the join key for both."
   ]
  },
  {
   "cell_type": "code",
   "execution_count": null,
   "metadata": {},
   "outputs": [],
   "source": [
    "nomatch = pd.merge(left, right, on='name', how='outer', sort=True, indicator='in=')"
   ]
  },
  {
   "cell_type": "markdown",
   "metadata": {},
   "source": [
    "  "
   ]
  },
  {
   "cell_type": "markdown",
   "metadata": {},
   "source": [
    "The 'nomatch' DataFrame displays the nomatch['in= '] column values.  These values are tested with boolean comparisons for the WHERE processing."
   ]
  },
  {
   "cell_type": "code",
   "execution_count": null,
   "metadata": {},
   "outputs": [],
   "source": [
    "nomatch"
   ]
  },
  {
   "cell_type": "markdown",
   "metadata": {},
   "source": [
    " "
   ]
  },
  {
   "cell_type": "markdown",
   "metadata": {},
   "source": [
    "Using <a href=\"http://nbviewer.jupyter.org/github/RandyBetancourt/PythonForSASUsers/blob/master/Chapter%2005%20--%20Understanding%20Indexes.ipynb#Mixing-.loc-Indexer-with-Boolean-Operators\"> boolean logic</a> and the logical 'or' (|) comparison, select those rows with the value 'left_only' and 'right_only'."
   ]
  },
  {
   "cell_type": "code",
   "execution_count": null,
   "metadata": {},
   "outputs": [],
   "source": [
    "nomatch[(nomatch['in='] == 'left_only') | (nomatch['in='] == 'right_only')]"
   ]
  },
  {
   "cell_type": "markdown",
   "metadata": {},
   "source": [
    "  "
   ]
  },
  {
   "cell_type": "markdown",
   "metadata": {},
   "source": [
    "Brievity allows:"
   ]
  },
  {
   "cell_type": "code",
   "execution_count": null,
   "metadata": {},
   "outputs": [],
   "source": [
    "nomatch[nomatch[\"in=\"] != 'both']"
   ]
  },
  {
   "cell_type": "markdown",
   "metadata": {},
   "source": [
    " "
   ]
  },
  {
   "cell_type": "markdown",
   "metadata": {},
   "source": [
    "## Outer Join no Matched Keys in Right"
   ]
  },
  {
   "cell_type": "markdown",
   "metadata": {},
   "source": [
    "Locate the key value rows in the 'right' data set which have no corresponding match in the 'left' data set."
   ]
  },
  {
   "cell_type": "markdown",
   "metadata": {},
   "source": [
    "````  \n",
    "    /******************************************************/\n",
    "    /* c07_nomatch_right.sas                              */\n",
    "    /******************************************************/\n",
    "    12      data nomatchr;\n",
    "    13            merge left(in=l)\n",
    "    14                   right(in=r);\n",
    "    15            by name;\n",
    "    16      \n",
    "    17      if (l=0 and r=1);\n",
    "    18      \n",
    "     \n",
    "````"
   ]
  },
  {
   "cell_type": "markdown",
   "metadata": {},
   "source": [
    " "
   ]
  },
  {
   "cell_type": "code",
   "execution_count": null,
   "metadata": {},
   "outputs": [],
   "source": [
    " Image(filename='output/nomatch_in_right.JPG')"
   ]
  },
  {
   "cell_type": "markdown",
   "metadata": {},
   "source": [
    "Locate the rows in the 'right' DataFrame which have no corresonding key value matches in the 'left' DataFrame."
   ]
  },
  {
   "cell_type": "code",
   "execution_count": null,
   "metadata": {},
   "outputs": [],
   "source": [
    "nomatch_r = pd.merge(left, right, on='name', how='outer', sort=True, indicator='in=')"
   ]
  },
  {
   "cell_type": "markdown",
   "metadata": {},
   "source": [
    "  "
   ]
  },
  {
   "cell_type": "markdown",
   "metadata": {},
   "source": [
    "Display 'nonatch_r' DataFrame as the result of an Outer Join."
   ]
  },
  {
   "cell_type": "code",
   "execution_count": null,
   "metadata": {},
   "outputs": [],
   "source": [
    "nomatch_r"
   ]
  },
  {
   "cell_type": "markdown",
   "metadata": {},
   "source": [
    " "
   ]
  },
  {
   "cell_type": "markdown",
   "metadata": {},
   "source": [
    "Use a boolean comparison to find key value rows contributed by the 'right' DataFrame.  In other words, key values in the 'right' DataFrame not found in the 'left' DataFrame."
   ]
  },
  {
   "cell_type": "code",
   "execution_count": null,
   "metadata": {},
   "outputs": [],
   "source": [
    "nomatch_r[nomatch_r['in='] == 'right_only']"
   ]
  },
  {
   "cell_type": "markdown",
   "metadata": {},
   "source": [
    " "
   ]
  },
  {
   "cell_type": "markdown",
   "metadata": {},
   "source": [
    "The non-matching key value rows from the 'right' DataFrame can also be sub-setted from the 'nomatch' DataFrame created above with:"
   ]
  },
  {
   "cell_type": "code",
   "execution_count": null,
   "metadata": {},
   "outputs": [],
   "source": [
    "nomatch[nomatch['in='] == 'right_only']"
   ]
  },
  {
   "cell_type": "markdown",
   "metadata": {},
   "source": [
    " "
   ]
  },
  {
   "cell_type": "markdown",
   "metadata": {},
   "source": [
    "## Outer Join no Matched Keys in Left"
   ]
  },
  {
   "cell_type": "markdown",
   "metadata": {},
   "source": [
    "Locate the key value rows in the 'left' data set having no corresonding match in the 'right' data set."
   ]
  },
  {
   "cell_type": "markdown",
   "metadata": {},
   "source": [
    "````\n",
    "    /******************************************************/\n",
    "    /* c07_nomatch_left.sas                               */\n",
    "    /******************************************************/\n",
    "    96      data nomatchl;\n",
    "    97            merge left(in=l)\n",
    "    98                   right(in=r);\n",
    "    99            by name;\n",
    "    100      \n",
    "    101      if (l=1 and r=0);\n",
    "    102      \n",
    "````"
   ]
  },
  {
   "cell_type": "code",
   "execution_count": null,
   "metadata": {},
   "outputs": [],
   "source": [
    "Image(filename='output/nomatch_in_left.JPG')"
   ]
  },
  {
   "cell_type": "markdown",
   "metadata": {},
   "source": [
    " "
   ]
  },
  {
   "cell_type": "markdown",
   "metadata": {},
   "source": [
    "Locate the key value rows in the 'left' DataFrame which have no corresonding matches in the 'right' DataFrame."
   ]
  },
  {
   "cell_type": "code",
   "execution_count": null,
   "metadata": {},
   "outputs": [],
   "source": [
    "nomatch_l = pd.merge(left, right, on='name', how='outer', sort=True, indicator='in=')"
   ]
  },
  {
   "cell_type": "markdown",
   "metadata": {},
   "source": [
    " "
   ]
  },
  {
   "cell_type": "markdown",
   "metadata": {},
   "source": [
    "Display 'nonatch_r' DataFrame as the result of an Outer Join."
   ]
  },
  {
   "cell_type": "code",
   "execution_count": null,
   "metadata": {},
   "outputs": [],
   "source": [
    "nomatch_l"
   ]
  },
  {
   "cell_type": "markdown",
   "metadata": {},
   "source": [
    "  "
   ]
  },
  {
   "cell_type": "markdown",
   "metadata": {},
   "source": [
    "Use a boolean comparison to find key values rows contributed by the 'left' DataFrame only.  In other words key values in the 'left' DataFrame not found in the 'right' DataFrame."
   ]
  },
  {
   "cell_type": "code",
   "execution_count": null,
   "metadata": {},
   "outputs": [],
   "source": [
    "nomatch_l[nomatch_l['in='] == 'left_only']"
   ]
  },
  {
   "cell_type": "markdown",
   "metadata": {},
   "source": [
    "  "
   ]
  },
  {
   "cell_type": "markdown",
   "metadata": {},
   "source": [
    "## Many-to-Many Join"
   ]
  },
  {
   "cell_type": "markdown",
   "metadata": {},
   "source": [
    "Construct the DataFrames with duplicate ['name'] column values in each. "
   ]
  },
  {
   "cell_type": "code",
   "execution_count": null,
   "metadata": {},
   "outputs": [],
   "source": [
    "left = pd.DataFrame({'name': ['Gunter, Thomas', 'Harbinger, Nicholas', 'Benito, Gisela', 'Rudelich, Herbert', \\\n",
    "                              'Sirignano, Emily', 'Morrison, Michael', 'Morrison, Michael', 'Onieda, Jacqueline'],\n",
    "                     'age':          [27, 36, 32, 39, 22, 32, 32, 31],\n",
    "                     'gender':       ['M', 'M', 'F', 'M', 'F', 'M', 'M', 'F']})\n",
    "\n",
    "right = pd.DataFrame({'name': ['Gunter, Thomas', 'Harbinger, Nicholas', \\\n",
    "                               'Benito, Gisela','Rudelich, Herbert', 'Sirignano, Emily', 'Valpolicella, Vino', \\\n",
    "                                'Morrison, Michael', 'Morrison, Michael'],\n",
    "                      'id':           ['929-75-0218', '446-93-2122', \\\n",
    "                                       '228-88-9649', '029-46-9261', '442-21-8075', '321-82-5771', \\\n",
    "                                       '222-33-4444', '222-33-4444'], \n",
    "                      'salary':      [27500, 33900, 28000, 35000, 5000, 80000, 75000, 75000]})"
   ]
  },
  {
   "cell_type": "markdown",
   "metadata": {},
   "source": [
    "  "
   ]
  },
  {
   "cell_type": "code",
   "execution_count": null,
   "metadata": {},
   "outputs": [],
   "source": [
    "display(\"left\", \"right\")"
   ]
  },
  {
   "cell_type": "markdown",
   "metadata": {},
   "source": [
    " "
   ]
  },
  {
   "cell_type": "markdown",
   "metadata": {},
   "source": [
    "Construct the 'm2m' DataFrame with an Outer Join using the 'left' and 'right' DataFrames on the ['name']' column."
   ]
  },
  {
   "cell_type": "code",
   "execution_count": null,
   "metadata": {},
   "outputs": [],
   "source": [
    "m2m = pd.merge(left, right, on='name', how='outer', sort=True, indicator='in=')"
   ]
  },
  {
   "cell_type": "markdown",
   "metadata": {},
   "source": [
    " "
   ]
  },
  {
   "cell_type": "markdown",
   "metadata": {},
   "source": [
    "Display the 'm2m' DataFrame."
   ]
  },
  {
   "cell_type": "code",
   "execution_count": null,
   "metadata": {},
   "outputs": [],
   "source": [
    "m2m"
   ]
  },
  {
   "cell_type": "markdown",
   "metadata": {},
   "source": [
    " "
   ]
  },
  {
   "cell_type": "markdown",
   "metadata": {},
   "source": [
    "The PROC SQL illustrating a many-to-many Outer Join. "
   ]
  },
  {
   "cell_type": "markdown",
   "metadata": {},
   "source": [
    "````\n",
    "    /******************************************************/\n",
    "    /* c07_many_2_many_join.sas                           */\n",
    "    /******************************************************/\n",
    "    6      proc sql;\n",
    "    7      create table m2m(drop=old_name) as\n",
    "    8      select monotonic() as obs\n",
    "    9            ,coalesce(left.old_name, right.old_name) as name\n",
    "    10            ,*\n",
    "    11         from left (rename=(name=old_name))\n",
    "    12      full join right (rename=(name=old_name))\n",
    "    13          on left.old_name = right.old_name;\n",
    "    14      \n",
    "    15      select * from m2m;\n",
    "````"
   ]
  },
  {
   "cell_type": "markdown",
   "metadata": {},
   "source": [
    " "
   ]
  },
  {
   "cell_type": "code",
   "execution_count": null,
   "metadata": {},
   "outputs": [],
   "source": [
    "Image(filename='output/many_2_many.JPG')"
   ]
  },
  {
   "cell_type": "markdown",
   "metadata": {},
   "source": [
    " "
   ]
  },
  {
   "cell_type": "markdown",
   "metadata": {},
   "source": [
    "The SAS Data Step using the equivalent Full Outer Join with (L=1 or R=1) for the IN= option for MERGE does not produce the same results as PROC SQL in the case of a many-to-many join.  The SAS NOTE in the log 'At least one BY group was repeated in multiple datasets while merging' is an indication you may not be producing the desired results."
   ]
  },
  {
   "cell_type": "markdown",
   "metadata": {},
   "source": [
    "````\n",
    "    /******************************************************/\n",
    "    /* c07_many_2_many_join.sas                           */\n",
    "    /******************************************************/\n",
    "    17      proc sort data = left;\n",
    "    18         by name;\n",
    "    19      \n",
    "    20      proc sort data = right;\n",
    "    21         by name;\n",
    "    22      \n",
    "    23      data m2m;\n",
    "    24         merge left(in=l)\n",
    "    25               right(in=r);\n",
    "    26         by name;\n",
    "    27      if (l=1 or r=1);\n",
    "    NOTE: At least one BY group was repeated in multiple datasets while merging\n",
    "    28      \n",
    "    29      proc print data=m2m;\n",
    "````"
   ]
  },
  {
   "cell_type": "code",
   "execution_count": null,
   "metadata": {},
   "outputs": [],
   "source": [
    "Image(filename='output/m2m_datastep_merge.JPG')"
   ]
  },
  {
   "cell_type": "markdown",
   "metadata": {},
   "source": [
    " "
   ]
  },
  {
   "cell_type": "markdown",
   "metadata": {},
   "source": [
    "## Group by: split-apply-combine Introduction"
   ]
  },
  {
   "cell_type": "markdown",
   "metadata": {},
   "source": [
    "  "
   ]
  },
  {
   "cell_type": "markdown",
   "metadata": {},
   "source": [
    "To illustrate the capabilities of panda group add the additional column in the 'left' DataFrame left['status'] as an additional categorical column."
   ]
  },
  {
   "cell_type": "code",
   "execution_count": null,
   "metadata": {},
   "outputs": [],
   "source": [
    "left = pd.DataFrame({'name': ['Gunter, Thomas', 'Harbinger, Nicholas', 'Benito, Gisela', 'Rudelich, Herbert', \\\n",
    "                              'Sirignano, Emily', 'Morrison, Michael', 'Morrison, Michael', 'Onieda, Jacqueline'],\n",
    "                     'age':          [27, 36, 32, 39, 22, 32, 32, 31],\n",
    "                     'gender':       ['M', 'M', 'F', 'M', 'F', 'M', 'M', 'F'],\n",
    "                     'status':       ['Pro', 'Amature', 'Amature', 'Pro', 'Amature', 'Amature', 'Pro', 'Pro']})\n",
    "\n",
    "right = pd.DataFrame({'name': ['Gunter, Thomas', 'Harbinger, Nicholas', \\\n",
    "                               'Benito, Gisela','Rudelich, Herbert', 'Sirignano, Emily', 'Valpolicella, Vino'],\n",
    "                      'id':           ['929-75-0218', '446-93-2122', \\\n",
    "                                       '228-88-9649', '029-46-9261', '442-21-8075', '321-82-5771'], \n",
    "                      'salary':      [27500, 33900, 28000, 35000, 5000, 80000]})"
   ]
  },
  {
   "cell_type": "markdown",
   "metadata": {},
   "source": [
    " "
   ]
  },
  {
   "cell_type": "markdown",
   "metadata": {},
   "source": [
    "  "
   ]
  },
  {
   "cell_type": "markdown",
   "metadata": {},
   "source": [
    "Data if often collected at one level with analysis needed at a different level.  For example, retailers collect data from invidiauls and need to aggregate to the household level.  Group by involves data splitting to create sub-populations and applying functions or transformation.  Then re-combining the grouped results into a single set of data. \n",
    "\n",
    "GroupBy is analogous to SAS BY group processing.  More details on panda's GroupBy are located in <a href=\"http://nbviewer.jupyter.org/github/RandyBetancourt/PythonForSASUsers/blob/master/Chapter%2010%20--%20Groupby.ipynb\"> Chapter 10--GroupBy</a>."
   ]
  },
  {
   "cell_type": "markdown",
   "metadata": {},
   "source": [
    "## Replace Missing Values with Group Means"
   ]
  },
  {
   "cell_type": "markdown",
   "metadata": {},
   "source": [
    "The steps for replacing values with a group mean below are:\n",
    "    1. Construct the 'df' DataFrame\n",
    "    2. Drop duplicates values for df['name'] column\n",
    "    3. Create the grouper 'gb1' grouping df['gender'] column values\n",
    "    4. Define the function 'func' to call the .fillna missing method & replace missing values with the group mean\n",
    "    5. Extract the transformed trans['salary'] column as the new df['salary'] column."
   ]
  },
  {
   "cell_type": "markdown",
   "metadata": {},
   "source": [
    "    1. Construct the 'df DataFrame\n",
    "\n",
    "Outer Join to contruct the 'df' DataFrame on the ['name'] key value column."
   ]
  },
  {
   "cell_type": "code",
   "execution_count": null,
   "metadata": {},
   "outputs": [],
   "source": [
    "df = pd.merge(left, right, on='name', how='outer', sort=True, indicator='in=')"
   ]
  },
  {
   "cell_type": "markdown",
   "metadata": {},
   "source": [
    " "
   ]
  },
  {
   "cell_type": "markdown",
   "metadata": {},
   "source": [
    "    2. Drop duplicate rows using the 'df['name'] column values. "
   ]
  },
  {
   "cell_type": "code",
   "execution_count": null,
   "metadata": {},
   "outputs": [],
   "source": [
    "df = df.drop_duplicates('name')"
   ]
  },
  {
   "cell_type": "markdown",
   "metadata": {},
   "source": [
    "  "
   ]
  },
  {
   "cell_type": "markdown",
   "metadata": {},
   "source": [
    "Display the 'df' DataFrame containing missing (NaN) values for the df['salary'] column."
   ]
  },
  {
   "cell_type": "code",
   "execution_count": null,
   "metadata": {},
   "outputs": [],
   "source": [
    "df"
   ]
  },
  {
   "cell_type": "markdown",
   "metadata": {},
   "source": [
    "  "
   ]
  },
  {
   "cell_type": "markdown",
   "metadata": {},
   "source": [
    "Missing value replacement can be approached with a range a methods described <a href=\"http://nbviewer.jupyter.org/github/RandyBetancourt/PythonForSASUsers/blob/master/Chapter%2004%20--%20Pandas%2C%20Part%201.ipynb#Missing-Value-Replacement\"> here</a> in detail.  Create the 'gb1' Series."
   ]
  },
  {
   "cell_type": "code",
   "execution_count": null,
   "metadata": {},
   "outputs": [],
   "source": [
    "gb1 = df.groupby('gender')['salary'].mean()"
   ]
  },
  {
   "cell_type": "markdown",
   "metadata": {},
   "source": [
    " "
   ]
  },
  {
   "cell_type": "markdown",
   "metadata": {},
   "source": [
    "Display the Series df['salary'] values grouped by df['gender'] values."
   ]
  },
  {
   "cell_type": "code",
   "execution_count": null,
   "metadata": {},
   "outputs": [],
   "source": [
    "gb1"
   ]
  },
  {
   "cell_type": "markdown",
   "metadata": {},
   "source": [
    "  "
   ]
  },
  {
   "cell_type": "markdown",
   "metadata": {},
   "source": [
    "PROC SQL illustrating the aggregation method (mean) grouped by the gender column.  The \\_null\\_ data step is used to print values to the SAS log."
   ]
  },
  {
   "cell_type": "markdown",
   "metadata": {},
   "source": [
    "````\n",
    "    /******************************************************/\n",
    "    /* c07_merge_both_groupby_mean_salary.sas             */\n",
    "    /******************************************************/\n",
    "    30       proc sql;\n",
    "    31          create table sal_by_gender as\n",
    "    32          select gender, mean(salary) as mean_sal\n",
    "    33          from left as l,\n",
    "    34               right as r\n",
    "    35          where l.name = r.name\n",
    "    36          group by gender;\n",
    "    NOTE: Data set \"WORK.sal_by_gender\" has 2 observation(s) and 2 variable(s)\n",
    "    37       quit;\n",
    "    38       \n",
    "    39       data _null_;\n",
    "    40          set sal_by_gender;\n",
    "    41          put _all_;\n",
    "\n",
    "    _N_=1 _ERROR_=0 gender=F mean_sal=16500\n",
    "    _N_=2 _ERROR_=0 gender=M mean_sal=32133.333333\n",
    "````"
   ]
  },
  {
   "cell_type": "markdown",
   "metadata": {},
   "source": [
    " "
   ]
  },
  {
   "cell_type": "markdown",
   "metadata": {},
   "source": [
    "    3. Create the DataFrameGroupBy (grouper) object from the df['gender'] column."
   ]
  },
  {
   "cell_type": "code",
   "execution_count": null,
   "metadata": {},
   "outputs": [],
   "source": [
    "gb2 = df.groupby('gender')"
   ]
  },
  {
   "cell_type": "markdown",
   "metadata": {},
   "source": [
    "  "
   ]
  },
  {
   "cell_type": "markdown",
   "metadata": {},
   "source": [
    ".count() attribute used to return the number of unique levels from the group."
   ]
  },
  {
   "cell_type": "code",
   "execution_count": null,
   "metadata": {},
   "outputs": [],
   "source": [
    "gb2.count()"
   ]
  },
  {
   "cell_type": "markdown",
   "metadata": {},
   "source": [
    " "
   ]
  },
  {
   "cell_type": "markdown",
   "metadata": {},
   "source": [
    "    4. Define the 'func' function.\n",
    "    \n",
    "Lambda x is a short-hand for defining a function using the local variable x.  The argument to .fillna method defines a call replacing the missing values with the .mean() attribute. The function is defined and is called in step 5 below.\n",
    "\n",
    "More examples on handling and replacing missing data are located <a  href=\"http://nbviewer.jupyter.org/github/RandyBetancourt/PythonForSASUsers/blob/master/Chapter%2004%20--%20Pandas%2C%20Part%201.ipynb#Missing-Value-Replacement\"> here. </a>"
   ]
  },
  {
   "cell_type": "markdown",
   "metadata": {},
   "source": [
    "  "
   ]
  },
  {
   "cell_type": "code",
   "execution_count": null,
   "metadata": {},
   "outputs": [],
   "source": [
    "func = lambda x: x.fillna(x)\n",
    "type(func)"
   ]
  },
  {
   "cell_type": "markdown",
   "metadata": {},
   "source": [
    "  "
   ]
  },
  {
   "cell_type": "markdown",
   "metadata": {},
   "source": [
    "Display the 'df' DataFrame with df['salary'] column values."
   ]
  },
  {
   "cell_type": "code",
   "execution_count": null,
   "metadata": {},
   "outputs": [],
   "source": [
    "df"
   ]
  },
  {
   "cell_type": "markdown",
   "metadata": {},
   "source": [
    "  "
   ]
  },
  {
   "cell_type": "markdown",
   "metadata": {},
   "source": [
    "## FIRST.variable and LAST.variable"
   ]
  },
  {
   "cell_type": "markdown",
   "metadata": {},
   "source": [
    "The .first() attribute chained to a GroupBy for the df['status'] column as an analog to SAS' By Group processing using FIRST.variable and LAST.variable."
   ]
  },
  {
   "cell_type": "code",
   "execution_count": null,
   "metadata": {},
   "outputs": [],
   "source": [
    "df.groupby('status').first()"
   ]
  },
  {
   "cell_type": "markdown",
   "metadata": {},
   "source": [
    " "
   ]
  },
  {
   "cell_type": "code",
   "execution_count": null,
   "metadata": {},
   "outputs": [],
   "source": [
    "df.groupby('status').last()"
   ]
  },
  {
   "cell_type": "markdown",
   "metadata": {},
   "source": [
    " "
   ]
  },
  {
   "cell_type": "markdown",
   "metadata": {},
   "source": [
    "## Resources"
   ]
  },
  {
   "cell_type": "markdown",
   "metadata": {},
   "source": [
    "MERGING vs. JOINING: Comparing the DATA Step with SQL, by Malachy J. Foley, University of North Carolina at Chapel Hill, located <a href=\"http://www2.sas.com/proceedings/sugi30/249-30.pdf\"> here</a>.\n",
    "\n",
    "pandas.DataFrame.merge() method documumented <a href=\"<http://pandas.pydata.org/pandas-docs/stable/generated/pandas.DataFrame.merge.html\"> here</a>.\n",
    "\n",
    "pandas Group By: split-apply-combine located <a href=\"http://pandas.pydata.org/pandas-docs/stable/groupby.html\"> here</a>.\n",
    "\n",
    "SAS 9.2 SQL Procedure User's Guide located <a href=\"http://support.sas.com/documentation/cdl/en/sqlproc/62086/HTML/default/viewer.htm\"> here</a>.\n",
    "\n",
    "Combining SAS Data Sets: Methods: in the SAS Language Reference: Concepts Manual, Second Edition, found <a href=\"https://support.sas.com/documentation/cdl/en/lrcon/65287/HTML/default/viewer.htm#n1tgk0uanvisvon1r26lc036k0w7.htm\"> here</a>."
   ]
  },
  {
   "cell_type": "markdown",
   "metadata": {
    "collapsed": true
   },
   "source": [
    "## Navigation\n",
    "\n",
    "<a href=\"http://nbviewer.jupyter.org/github/RandyBetancourt/PythonForSASUsers/tree/master/\"> Return to Chapter List </a>    "
   ]
  }
 ],
 "metadata": {
  "anaconda-cloud": {},
  "kernelspec": {
   "display_name": "Python 3",
   "language": "python",
   "name": "python3"
  },
  "language_info": {
   "codemirror_mode": {
    "name": "ipython",
    "version": 3
   },
   "file_extension": ".py",
   "mimetype": "text/x-python",
   "name": "python",
   "nbconvert_exporter": "python",
   "pygments_lexer": "ipython3",
   "version": "3.7.3"
  }
 },
 "nbformat": 4,
 "nbformat_minor": 1
}
