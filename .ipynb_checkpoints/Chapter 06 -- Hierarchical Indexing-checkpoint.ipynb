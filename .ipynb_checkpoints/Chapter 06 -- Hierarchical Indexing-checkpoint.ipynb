{
 "cells": [
  {
   "cell_type": "markdown",
   "metadata": {},
   "source": [
    "# Chapter 06 -- Hierarchical Indexing"
   ]
  },
  {
   "cell_type": "markdown",
   "metadata": {
    "collapsed": true
   },
   "source": [
    "## Topics Covered\n",
    "\n",
    "<a href=\"http://nbviewer.jupyter.org/github/RandyBetancourt/PythonForSASUsers/blob/master/Chapter%2006%20--%20Hierarchical%20Indexing.ipynb#MultiIndexing\">MultiIndexing </a>\n",
    "    \n",
    "<a href=\"http://nbviewer.jupyter.org/github/RandyBetancourt/PythonForSASUsers/blob/master/Chapter%2006%20--%20Hierarchical%20Indexing.ipynb#Basic-Indexing\">Multi-Indexed Selection</a>   \n",
    "    \n",
    "<a href=\"http://nbviewer.jupyter.org/github/RandyBetancourt/PythonForSASUsers/blob/master/Chapter%2006%20--%20Hierarchical%20Indexing.ipynb#xs()-method-for-cross-sections\"> xs() method for cross sections </a>\n",
    "    \n",
    "<a href=\"http://nbviewer.jupyter.org/github/RandyBetancourt/PythonForSASUsers/blob/master/Chapter%2006%20--%20Hierarchical%20Indexing.ipynb#Advanced-Indexing-with-.loc-indexer\">    Advanced Indexing with .loc indexer\n",
    "\n",
    "<a href=\"http://nbviewer.jupyter.org/github/RandyBetancourt/PythonForSASUsers/blob/master/Chapter%2006%20--%20Hierarchical%20Indexing.ipynb#Using-Boolean-operators-with-.loc-indexer\"> Using Boolean operators with .loc indexer </a>\n",
    "\n",
    "<a href=\"http://nbviewer.jupyter.org/github/RandyBetancourt/PythonForSASUsers/blob/master/Chapter%2006%20--%20Hierarchical%20Indexing.ipynb#stack()-and-unstack()-methods\"> stack() and unstack() methods </a> \n",
    "\n",
    "<a href=\"http://nbviewer.jupyter.org/github/RandyBetancourt/PythonForSASUsers/blob/master/Chapter%2006%20--%20Hierarchical%20Indexing.ipynb#Resources\"> Resources </a> "
   ]
  },
  {
   "cell_type": "code",
   "execution_count": null,
   "metadata": {},
   "outputs": [],
   "source": [
    "import pandas as pd\n",
    "import numpy as np\n",
    "from pandas import Series, DataFrame, Index\n",
    "from IPython.display import Image"
   ]
  },
  {
   "cell_type": "markdown",
   "metadata": {},
   "source": [
    " "
   ]
  },
  {
   "cell_type": "markdown",
   "metadata": {},
   "source": [
    "Simply put, a MultiIndex (also referred to as a hierarchical index) allows multiple index levels within a single index.  Higher dimensional data can be represented in a one-dimensional Series or a two-dimensional DataFrame.  Start with the creation of a synthetic DataFrame whose values are used to represent the number of traffic violations issued in cell #3 below.  "
   ]
  },
  {
   "cell_type": "markdown",
   "metadata": {},
   "source": [
    "pandas provide constructor methods allowing components to be defined separately.  The construction of the index and columns below is self-explanatory.\n",
    "\n",
    "For the data component:  The first data = assignment constructs an array using numpy's random number generator with the round() method used to return the integer portion.  The second date = assignment multiples the array of integers by 100 and floor divides by 5, and finally taking the absolute value.\n",
    "\n",
    "The tickets = assignment constructs the DataFrame from the constituents."
   ]
  },
  {
   "cell_type": "markdown",
   "metadata": {},
   "source": [
    "## MultiIndexing"
   ]
  },
  {
   "cell_type": "code",
   "execution_count": null,
   "metadata": {},
   "outputs": [],
   "source": [
    "index = pd.MultiIndex.from_product([[2012, 2013, 2014, 2015], ['1', '2', '3']],\n",
    "                                   names=['year', 'month'])\n",
    "columns=pd.MultiIndex.from_product([['city', 'suburbs', 'rural'], ['day', 'night']],\n",
    "                                    names=['area', 'when'])\n",
    "\n",
    "data = np.round(np.random.randn(12, 6),2)\n",
    "data = abs(np.floor_divide(data[:] * 100, 5))\n",
    "\n",
    "tickets = pd.DataFrame(data, index=index, columns=columns).sort_index().sort_index(axis=1)"
   ]
  },
  {
   "cell_type": "markdown",
   "metadata": {},
   "source": [
    " "
   ]
  },
  {
   "cell_type": "markdown",
   "metadata": {},
   "source": [
    "  "
   ]
  },
  {
   "cell_type": "code",
   "execution_count": null,
   "metadata": {},
   "outputs": [],
   "source": [
    "index"
   ]
  },
  {
   "cell_type": "markdown",
   "metadata": {},
   "source": [
    "Notice how the MultiIndex displayed above contains multiple levels of indexing, in this case 'year' and 'month' along the row dimension. The levels act as labels for each data value encoding these names.\n",
    "\n",
    "In SAS, the terminology is 'month' nested within 'year'.  Said another way, 'month' is the inner-most level of the index."
   ]
  },
  {
   "cell_type": "markdown",
   "metadata": {},
   "source": [
    " "
   ]
  },
  {
   "cell_type": "code",
   "execution_count": null,
   "metadata": {},
   "outputs": [],
   "source": [
    "tickets.columns"
   ]
  },
  {
   "cell_type": "markdown",
   "metadata": {},
   "source": [
    " "
   ]
  },
  {
   "cell_type": "markdown",
   "metadata": {},
   "source": [
    "Similiarly, the indexing for columns contains multiple levels, with the name 'area' labeling the outer levels 'city', 'rural', and 'suburbs'.  'when' is the name for the inner levels 'day' and 'night'."
   ]
  },
  {
   "cell_type": "markdown",
   "metadata": {},
   "source": [
    "  "
   ]
  },
  {
   "cell_type": "code",
   "execution_count": null,
   "metadata": {},
   "outputs": [],
   "source": [
    "tickets"
   ]
  },
  {
   "cell_type": "markdown",
   "metadata": {},
   "source": [
    " "
   ]
  },
  {
   "cell_type": "markdown",
   "metadata": {},
   "source": [
    "  "
   ]
  },
  {
   "cell_type": "code",
   "execution_count": null,
   "metadata": {},
   "outputs": [],
   "source": [
    "tickets.shape"
   ]
  },
  {
   "cell_type": "markdown",
   "metadata": {},
   "source": [
    " "
   ]
  },
  {
   "cell_type": "markdown",
   "metadata": {},
   "source": [
    "Another SAS-like way to think of a MultiIndex is nested group-by's illustrated in cell below with PROC SORT.  The resulting SAS data set tickets is 'tall' and 'skinny' with one observation for each of the nested levels.   \n",
    "\n",
    "Below, we will illustrate how <a href=\"http://nbviewer.jupyter.org/github/RandyBetancourt/PythonForSASUsers/blob/master/Chapter%206%20--%20Hierarchical%20Indexing.ipynb#stack-and-unstack-methods\"> 'stacking' </a> the DataFrame can be used to reshape it to a form similiar to the SAS data set tickets.\n"
   ]
  },
  {
   "cell_type": "markdown",
   "metadata": {},
   "source": [
    "````\n",
    "    /******************************************************/\n",
    "    /* c06_tickets_proc_sort.sas                          */\n",
    "    /******************************************************/\n",
    "    34       proc sort;\n",
    "    35       by year month area nd;\n",
    "    NOTE: 72 observations were read from \"WORK.tickets\"\n",
    "    NOTE: Data set \"WORK.tickets\" has 72 observation(s) and 5 variable(s)\n",
    "````"
   ]
  },
  {
   "cell_type": "markdown",
   "metadata": {},
   "source": [
    " "
   ]
  },
  {
   "cell_type": "markdown",
   "metadata": {},
   "source": [
    "A SAS analog of the tickets Dataframe is rendered using PROC TABULATE.  Unlike the DataFrame methods illustrated here, the physical shape of the SAS data set is not changed.  In this case PROC TABULATE processes the 'tall' SAS data set to produce printed output shaped like the 'tickets' DataFrame."
   ]
  },
  {
   "cell_type": "markdown",
   "metadata": {},
   "source": [
    "````\n",
    "    /******************************************************/\n",
    "    /* c06_tickets_proc_tabulate.sas                      */\n",
    "    /******************************************************/\n",
    "    12       data tickets;\n",
    "    13       length area $ 7;\n",
    "    14       call streaminit(time());\n",
    "    15       do year = 2012 to 2015;\n",
    "    16          do month = 1 to 3;\n",
    "    17             do area = 'City', 'Suburbs', 'Rural';\n",
    "    18                do nd = 'Night', 'Day';\n",
    "    19                   tickets = abs(int(rand( 'NORMAL')*100));\n",
    "    20                   output;\n",
    "    21                end;\n",
    "    22             end;\n",
    "    23          end;\n",
    "    24       end;\n",
    "    25       proc tabulate;\n",
    "    26          var tickets;;\n",
    "    27          class area nd year month;\n",
    "    28             table year * month ,\n",
    "    29                   area=' ' * nd=' ' * sum=' ' * tickets=' ';\n",
    "````"
   ]
  },
  {
   "cell_type": "markdown",
   "metadata": {},
   "source": [
    "  "
   ]
  },
  {
   "cell_type": "code",
   "execution_count": null,
   "metadata": {},
   "outputs": [],
   "source": [
    "Image(filename='output/tabulate.JPG')"
   ]
  },
  {
   "cell_type": "markdown",
   "metadata": {},
   "source": [
    " "
   ]
  },
  {
   "cell_type": "markdown",
   "metadata": {},
   "source": [
    "## Multi-Indexed Selection\n",
    "\n",
    "The tickets DataFrame is essentially four-dimensional with area nested within when for columns, and month nested within year for rows.  The multi-indexing for both rows and columns make sub-setting operations straightforward.  In this case, selecting by the index label 'rural' returns an entire DataFrame.  Strictly speaking, 'rural' is a level in the column MultiIndex illustrated in cell #5 above."
   ]
  },
  {
   "cell_type": "markdown",
   "metadata": {},
   "source": [
    "  "
   ]
  },
  {
   "cell_type": "markdown",
   "metadata": {},
   "source": [
    "Select all rows by the 'rural' level."
   ]
  },
  {
   "cell_type": "code",
   "execution_count": null,
   "metadata": {},
   "outputs": [],
   "source": [
    "tickets['rural']"
   ]
  },
  {
   "cell_type": "markdown",
   "metadata": {},
   "source": [
    "  "
   ]
  },
  {
   "cell_type": "markdown",
   "metadata": {},
   "source": [
    "Select all rows for tickets issued in the city at night."
   ]
  },
  {
   "cell_type": "code",
   "execution_count": null,
   "metadata": {},
   "outputs": [],
   "source": [
    "tickets['city', 'night']"
   ]
  },
  {
   "cell_type": "markdown",
   "metadata": {},
   "source": [
    " "
   ]
  },
  {
   "cell_type": "markdown",
   "metadata": {},
   "source": [
    "Multiple keys can be specified.  Above, the request is for those tickets issued at 'night' in the 'city'.   In this instance a Series is returned."
   ]
  },
  {
   "cell_type": "markdown",
   "metadata": {},
   "source": [
    "The examples in cells #8 and #9 work by selecting labels from 'area' which is the outer-most MultiIndex level for columns in the tickets DataFrame.  Said another way, 'when' ('day' or 'night') is nested inside 'area'.\n",
    "\n",
    "Another method to select rows and columns nested inside a hierarchical index is the DataFrame xs() method.  This cross-section method generally results in a smaller DataFrame than the original."
   ]
  },
  {
   "cell_type": "markdown",
   "metadata": {},
   "source": [
    "## xs() method for cross sections\n",
    "\n",
    "The DataFrame xs() method uses the level argument to select data for rows and columns.  The example in the cell below selects the 1st month for each year."
   ]
  },
  {
   "cell_type": "code",
   "execution_count": null,
   "metadata": {},
   "outputs": [],
   "source": [
    "tickets.xs(('1'), level='month')"
   ]
  },
  {
   "cell_type": "markdown",
   "metadata": {},
   "source": [
    " "
   ]
  },
  {
   "cell_type": "markdown",
   "metadata": {},
   "source": [
    "Likewise, you can request just the rows for 2013."
   ]
  },
  {
   "cell_type": "code",
   "execution_count": null,
   "metadata": {},
   "outputs": [],
   "source": [
    "tickets.xs((2013), level='year')"
   ]
  },
  {
   "cell_type": "markdown",
   "metadata": {},
   "source": [
    "  "
   ]
  },
  {
   "cell_type": "markdown",
   "metadata": {},
   "source": [
    "Selections can use multiple keys.  In this case, 2013 and month '1'."
   ]
  },
  {
   "cell_type": "code",
   "execution_count": null,
   "metadata": {},
   "outputs": [],
   "source": [
    "tickets.xs((2013, '1'), level=('year', 'month'))"
   ]
  },
  {
   "cell_type": "markdown",
   "metadata": {},
   "source": [
    " "
   ]
  },
  {
   "cell_type": "markdown",
   "metadata": {},
   "source": [
    "The .xs method also works for columns with the optional axis=1 (for columns) argument.  In this case, the column 'night' in each of the 3 areas is selected."
   ]
  },
  {
   "cell_type": "code",
   "execution_count": null,
   "metadata": {},
   "outputs": [],
   "source": [
    "tickets.xs(('night'), level='when', axis=1)"
   ]
  },
  {
   "cell_type": "markdown",
   "metadata": {},
   "source": [
    " "
   ]
  },
  {
   "cell_type": "markdown",
   "metadata": {},
   "source": [
    "## Advanced Indexing with .loc indexer\n",
    "\n",
    "Chapter 5, Understanding Indexes covers the <a href=\"http://nbviewer.jupyter.org/github/RandyBetancourt/PythonForSASUsers/blob/master/Chapter%205%20--%20Understanding%20Indexes.ipynb#.loc-Indexer\"> .loc indexer </a> which can also be used with hierarchical indicies.   \n",
    "\n",
    "The colon (:) to the left of the comma (,) selects all rows.  The selection to the right of the comma (,) requests the levels 'city' and 'suburbs' from 'area'."
   ]
  },
  {
   "cell_type": "code",
   "execution_count": null,
   "metadata": {},
   "outputs": [],
   "source": [
    "tickets.loc[:,['city', 'suburbs']]"
   ]
  },
  {
   "cell_type": "markdown",
   "metadata": {},
   "source": [
    " "
   ]
  },
  {
   "cell_type": "markdown",
   "metadata": {},
   "source": [
    "Below is a an example of partial slicing."
   ]
  },
  {
   "cell_type": "code",
   "execution_count": null,
   "metadata": {},
   "outputs": [],
   "source": [
    "tickets.loc[2013:2014, ['city', 'suburbs']]"
   ]
  },
  {
   "cell_type": "markdown",
   "metadata": {},
   "source": [
    " "
   ]
  },
  {
   "cell_type": "markdown",
   "metadata": {},
   "source": [
    "The example below illustrates slicing with a range of values by providing <a href=\"http://nbviewer.jupyter.org/github/RandyBetancourt/PythonForSASUsers/blob/master/Chapter%202%20--%20Data%20Structures.ipynb#tuple\"> tuples </a> containing both the row slice ( 2nd month, 2013 to 3rd month 2014) and the column slice ('rural' 'day' to 'suburbs' 'day')."
   ]
  },
  {
   "cell_type": "code",
   "execution_count": null,
   "metadata": {},
   "outputs": [],
   "source": [
    "tickets.loc[(2013, '2') : (2014, '3'), ('rural', 'day') : ('suburbs', 'day')]"
   ]
  },
  {
   "cell_type": "markdown",
   "metadata": {},
   "source": [
    " "
   ]
  },
  {
   "cell_type": "markdown",
   "metadata": {},
   "source": [
    "The example below illustrates the .loc() indexer using multiple keys for row and column slices."
   ]
  },
  {
   "cell_type": "code",
   "execution_count": null,
   "metadata": {},
   "outputs": [],
   "source": [
    "tickets.loc[(2013, '3'): (2014, '1')]"
   ]
  },
  {
   "cell_type": "markdown",
   "metadata": {},
   "source": [
    " "
   ]
  },
  {
   "cell_type": "code",
   "execution_count": null,
   "metadata": {},
   "outputs": [],
   "source": [
    "tickets.loc[(2013, '3'): (2014, '1'), \"city\"]"
   ]
  },
  {
   "cell_type": "markdown",
   "metadata": {},
   "source": [
    " "
   ]
  },
  {
   "cell_type": "markdown",
   "metadata": {},
   "source": [
    "## Using Boolean operators with .loc indexer"
   ]
  },
  {
   "cell_type": "markdown",
   "metadata": {},
   "source": [
    "Using boolean operators with the .loc indexer permits boolean evaluations across the Dataframe values. You can use a pd.IndexSlice to permit syntax using the colon (:) rather then slice(None) syntax when specifying ranges.\n",
    "\n",
    "The mask object returns the boolean value True which is applied to the column MultiIndex 'night' as the inner-most index level within 'city'.  Notice the shape of the DataFrame is defined by just those rows in the 'night' within 'city' column construct that evaluate True."
   ]
  },
  {
   "cell_type": "code",
   "execution_count": null,
   "metadata": {},
   "outputs": [],
   "source": [
    "idx = pd.IndexSlice\n",
    "mask = tickets[('city','night')]>25\n",
    "tickets.loc[idx[mask,:,]]"
   ]
  },
  {
   "cell_type": "markdown",
   "metadata": {},
   "source": [
    "  "
   ]
  },
  {
   "cell_type": "markdown",
   "metadata": {},
   "source": [
    "The example in the cell below applies the boolean 'mask2' to all values in the DataFrame"
   ]
  },
  {
   "cell_type": "code",
   "execution_count": null,
   "metadata": {},
   "outputs": [],
   "source": [
    "mask2 = tickets[('rural', 'day')]>15\n",
    "tickets.loc[idx[mask2, 'city':'rurual']]"
   ]
  },
  {
   "cell_type": "markdown",
   "metadata": {},
   "source": [
    "  "
   ]
  },
  {
   "cell_type": "markdown",
   "metadata": {},
   "source": [
    "The example below applies boolean 'mask2' and also scopes the column request.  "
   ]
  },
  {
   "cell_type": "code",
   "execution_count": null,
   "metadata": {},
   "outputs": [],
   "source": [
    "tickets.loc[idx[mask2, 'rural']]"
   ]
  },
  {
   "cell_type": "markdown",
   "metadata": {},
   "source": [
    "  "
   ]
  },
  {
   "cell_type": "markdown",
   "metadata": {},
   "source": [
    "## stack() and unstack() methods"
   ]
  },
  {
   "cell_type": "markdown",
   "metadata": {},
   "source": [
    "DataFrames with hierarchical indices can use the .stack and .unstack attributes to reshape data from 'tall and skinny' to 'short and fat' formats and vice-versa.  \n",
    "\n",
    "The .stack() attribute pivots columns into rows.  The .unstack() attribute pivots rows into columns.  Consider the examples in the cell below.  \n",
    "\n",
    "The .unstack() attribute used without any arguments in this case pivots the 'month' rows to the inner-most index level of the columns.  'month' was the inner-most index level for rows.  Also notice how we assigned the 'unstacked' DataFrame to create the new one, df_u."
   ]
  },
  {
   "cell_type": "code",
   "execution_count": null,
   "metadata": {},
   "outputs": [],
   "source": [
    "df_u = tickets.unstack()\n",
    "df_u"
   ]
  },
  {
   "cell_type": "markdown",
   "metadata": {},
   "source": [
    " "
   ]
  },
  {
   "cell_type": "markdown",
   "metadata": {},
   "source": [
    "The MultiIndex for the columns from DataFrame df_u is shown below.  Contrast this column index with the one for tickets in cell #4 above."
   ]
  },
  {
   "cell_type": "code",
   "execution_count": null,
   "metadata": {},
   "outputs": [],
   "source": [
    "df_u.columns"
   ]
  },
  {
   "cell_type": "markdown",
   "metadata": {},
   "source": [
    " "
   ]
  },
  {
   "cell_type": "markdown",
   "metadata": {},
   "source": [
    "The .stack() attribute performs the reverse operation of the .unstack() attribute.  The .stack() attribute takes the inner most index level of the columns level and pivots them to the inner-most index level of the rows.  In this case the new DataFrame is called df_s."
   ]
  },
  {
   "cell_type": "code",
   "execution_count": null,
   "metadata": {},
   "outputs": [],
   "source": [
    "df_s = tickets.stack()\n",
    "df_s"
   ]
  },
  {
   "cell_type": "markdown",
   "metadata": {},
   "source": [
    " "
   ]
  },
  {
   "cell_type": "markdown",
   "metadata": {},
   "source": [
    "DataFrames containing MultiIndexes can 'stack' and 'unstack' multiple levels at a time."
   ]
  },
  {
   "cell_type": "code",
   "execution_count": null,
   "metadata": {},
   "outputs": [],
   "source": [
    "df_like_sas = pd.DataFrame(tickets.stack(level=['when', 'area']))"
   ]
  },
  {
   "cell_type": "markdown",
   "metadata": {},
   "source": [
    " "
   ]
  },
  {
   "cell_type": "markdown",
   "metadata": {},
   "source": [
    "We can 'stack' the original tickets DataFrame by the levels 'when' and 'area' from the column MultiIndex to create a new DataFrame shaped similiarly to the SAS data set tickets. "
   ]
  },
  {
   "cell_type": "code",
   "execution_count": null,
   "metadata": {},
   "outputs": [],
   "source": [
    "df_like_sas.shape"
   ]
  },
  {
   "cell_type": "markdown",
   "metadata": {},
   "source": [
    " "
   ]
  },
  {
   "cell_type": "markdown",
   "metadata": {},
   "source": [
    "Display the first 12 rows."
   ]
  },
  {
   "cell_type": "code",
   "execution_count": null,
   "metadata": {},
   "outputs": [],
   "source": [
    "df_like_sas.head(12)"
   ]
  },
  {
   "cell_type": "markdown",
   "metadata": {},
   "source": [
    "  "
   ]
  },
  {
   "cell_type": "markdown",
   "metadata": {},
   "source": [
    "## Resources\n",
    "\n",
    "<a href=\"http://shop.oreilly.com/product/0636920034919.do\"> Python Data Science Handbook </a>, Essential Tools for Working With Data, by Jake VanderPlas.\n",
    "\n",
    "<a href=\"http://pandas.pydata.org/pandas-docs/stable/reshaping.html#reshaping-by-pivoting-dataframe-objects\"> Reshaping by pivoting DataFrame objects </a>, from the pandas 0.19.0 documentation.\n",
    "\n",
    "<a href=\"http://pandas.pydata.org/pandas-docs/stable/reshaping.html#reshaping-by-stacking-and-unstacking\"> Reshaping by stacking and unstacking </a> from the pandas 0.19.0 documentation.\n",
    "\n",
    "<a href=\"http://pandas.pydata.org/pandas-docs/stable/advanced.html#multiindex-advanced-indexing\"> MultiIndex / Advanced Indexing </a> from the pandas 0.19.0 documentation."
   ]
  },
  {
   "cell_type": "markdown",
   "metadata": {},
   "source": [
    "## Navigation\n",
    "\n",
    "<a href=\"http://nbviewer.jupyter.org/github/RandyBetancourt/PythonForSASUsers/tree/master/\"> Return to Chapter List </a>    "
   ]
  }
 ],
 "metadata": {
  "anaconda-cloud": {},
  "kernelspec": {
   "display_name": "Python 3",
   "language": "python",
   "name": "python3"
  },
  "language_info": {
   "codemirror_mode": {
    "name": "ipython",
    "version": 3
   },
   "file_extension": ".py",
   "mimetype": "text/x-python",
   "name": "python",
   "nbconvert_exporter": "python",
   "pygments_lexer": "ipython3",
   "version": "3.7.3"
  }
 },
 "nbformat": 4,
 "nbformat_minor": 1
}
