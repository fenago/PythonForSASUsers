{
 "cells": [
  {
   "cell_type": "markdown",
   "metadata": {},
   "source": [
    "# Chapter 04 -- Pandas, Part 1"
   ]
  },
  {
   "cell_type": "markdown",
   "metadata": {},
   "source": [
    "## Topics covered:\n",
    "\n",
    "<a href=\"http://nbviewer.jupyter.org/github/RandyBetancourt/PythonForSASUsers/blob/master/Chapter%2004%20--%20Pandas%2C%20Part%201.ipynb#Importing-Packages\">Importing Packages</a>\n",
    "\n",
    "<a href=\"http://nbviewer.jupyter.org/github/RandyBetancourt/PythonForSASUsers/blob/master/Chapter%2004%20--%20Pandas%2C%20Part%201.ipynb#Series\">Series</a>\n",
    "\n",
    "<a href=\"http://nbviewer.jupyter.org/github/RandyBetancourt/PythonForSASUsers/blob/master/Chapter%2004%20--%20Pandas%2C%20Part%201.ipynb#DataFrames\"> DataFrames </a>\n",
    "\n",
    "<a href=\"http://nbviewer.jupyter.org/github/RandyBetancourt/PythonForSASUsers/blob/master/Chapter%2004%20--%20Pandas%2C%20Part%201.ipynb#pd.read_csv()\"> Read .csv files </a>\n",
    "\n",
    "<a href=\"http://nbviewer.jupyter.org/github/RandyBetancourt/PythonForSASUsers/blob/master/Chapter%2004%20--%20Pandas%2C%20Part%201.ipynb#Insepction\"> Inspection </a>\n",
    "\n",
    "<a href=\"http://nbviewer.jupyter.org/github/RandyBetancourt/PythonForSASUsers/blob/master/Chapter%2004%20--%20Pandas%2C%20Part%201.ipynb#Handling-Missing-Data\"> Handling Missing Data </a>\n",
    "\n",
    "<a href=\"http://nbviewer.jupyter.org/github/RandyBetancourt/PythonForSASUsers/blob/master/Chapter%2004%20--%20Pandas%2C%20Part%201.ipynb#Missing-Value-Identification\"> Missing Data Detection</a>\n",
    "\n",
    "<a href=\"http://nbviewer.jupyter.org/github/RandyBetancourt/PythonForSASUsers/blob/master/Chapter%2004%20--%20Pandas%2C%20Part%201.ipynb#Missing-Value-Replacement\"> Missing Value Replacement </a>\n",
    "\n",
    "<a href=\"http://nbviewer.jupyter.org/github/RandyBetancourt/PythonForSASUsers/blob/master/Chapter%2004%20--%20Pandas%2C%20Part%201.ipynb#Resources\"> Resources </a>\n"
   ]
  },
  {
   "cell_type": "markdown",
   "metadata": {},
   "source": [
    "This chapter introduces the Pandas library (or package).  panda is a package built using NumPy (pronounced 'numb pie').  \n",
    "\n",
    "Up until this point, the examples seen in this notebook utilize Python's built-in types and functions.  NumPy has its ndarray object for array arithmetic.  NumPy is a package built to support scientific computing in Python.  We will illustrate a few useful NumPy objects as a way of illustrating pandas\n",
    "\n",
    "panda was developed to support data analysis with added flexibility than offered by the ndarray object in NumPy.  For data analysis tasks we often need to group dis-similar data types together.  An examples are categorical data using strings, frequencies and counts using ints and floats for continuous values.  In addition, we would like to be able to attach labels to columns, pivot data, and so on.\n",
    "\n",
    "We begin by introducing the Series object as a component of the DataFrame objects.  A Series can be thought of as an indexed, one-dimensional array, similar to a column of values.  DataFrames can be thought of as a two-dimensional array indexed by both rows and columns. A good analogy is an Excel cell addressable by row and column location. \n",
    "\n",
    "In other words, a DataFrame looks a great deal like a SAS data set (or relational table).  The table below compares panda components to those found in SAS.\n",
    "\n",
    "<table border=\"1\">\n",
    "  <tr>\n",
    "    <td> <b>Pandas </b></td>\n",
    "    <td> <b>SAS </b></td>\n",
    "  </tr>\n",
    "    <td> DataFrame </td>\n",
    "    <td> SAS data set </td>\n",
    "  </tr>\n",
    "  <tr>\n",
    "    <td> row </td>\n",
    "    <td> observation </td>\n",
    "  </tr>\n",
    "  <tr>\n",
    "    <td> column </td>\n",
    "    <td> variable </td>\n",
    "  </tr>\n",
    "  <tr>\n",
    "    <td> groupby </td>\n",
    "    <td> BY-Group </td>\n",
    "  </tr>\n",
    "  <tr>\n",
    "    <td> NaN </td>\n",
    "    <td><b>.</b> </td>\n",
    "  </tr>\n",
    "    <tr>\n",
    "    <td> slice </td>\n",
    "    <td>sub-set</td>\n",
    "  </tr>\n",
    "    <tr>\n",
    "    <td> axis 0 </td>\n",
    "    <td>observation</td>\n",
    "  </tr>\n",
    "    </tr>\n",
    "    <tr>\n",
    "    <td> axis 1 </td>\n",
    "    <td>column</td>\n",
    "  </tr>\n",
    "</table>"
   ]
  },
  {
   "cell_type": "markdown",
   "metadata": {},
   "source": [
    "  "
   ]
  },
  {
   "cell_type": "markdown",
   "metadata": {},
   "source": [
    "#### Panda Pre-requisites\n",
    "\n",
    "panda have three main data structures:\n",
    "\n",
    "    1. Series\n",
    "    2. DataFrame\n",
    "    3. Index\n",
    "    \n",
    "Indexes are covered in detail in <a href=\"http://nbviewer.jupyter.org/github/RandyBetancourt/PythonForSASUsers/blob/master/Chapter%206%20--%20Understanding%20Indexes.ipynb\"> Chapter 6, Understanding Indexes</a>."
   ]
  },
  {
   "cell_type": "markdown",
   "metadata": {},
   "source": [
    "  "
   ]
  },
  {
   "cell_type": "markdown",
   "metadata": {},
   "source": [
    "## Importing Packages\n",
    "\n",
    "To begin utilizing panda objects, or other objects, begin by importing libraies by name into our namespace.  To avoid having to re-typing package name repeatedly, use the standard aliases of np for NumPy and pd for panda."
   ]
  },
  {
   "cell_type": "markdown",
   "metadata": {},
   "source": [
    "  "
   ]
  },
  {
   "cell_type": "code",
   "execution_count": null,
   "metadata": {},
   "outputs": [],
   "source": [
    "import numpy as np\n",
    "import pandas as pd\n",
    "from numpy.random import randn\n",
    "from pandas import Series, DataFrame, Index\n",
    "from IPython.display import Image"
   ]
  },
  {
   "cell_type": "markdown",
   "metadata": {},
   "source": [
    " "
   ]
  },
  {
   "cell_type": "markdown",
   "metadata": {},
   "source": [
    "## Series\n",
    "A Series can be thought of as a one-dimensional array with labels.  This structure includes an index of labels used as keys to locate values.  Data in a Series can be any data type.  panda data types are covered in detail <a href=\"http://nbviewer.jupyter.org/github/RandyBetancourt/PythonForSASUsers/blob/master/Chapter%2003%20%20--%20Data%20Types%20and%20Formatting.ipynb\"> here </a>.  In the SAS examples, we use Data Step ARRAYs as an analog to the Series."
   ]
  },
  {
   "cell_type": "markdown",
   "metadata": {},
   "source": [
    "Start by creating a Series of random values."
   ]
  },
  {
   "cell_type": "markdown",
   "metadata": {},
   "source": [
    "  "
   ]
  },
  {
   "cell_type": "code",
   "execution_count": null,
   "metadata": {},
   "outputs": [],
   "source": [
    "s1 = Series(randn(10))\n",
    "print(s1.head(5))"
   ]
  },
  {
   "cell_type": "markdown",
   "metadata": {},
   "source": [
    "  "
   ]
  },
  {
   "cell_type": "markdown",
   "metadata": {},
   "source": [
    "Notice the index start position begins with 0.  Most SAS automatic variables like \\_n\\_ use 1 as the index start position.   Iteration of the SAS DO loop 0 to 9 in conjunction with an ARRAY produces an array subscript out of range error.\n",
    "\n",
    "In the SAS example below the DO loop is used to iterate over the array elements locating the target elements. \n",
    "\n",
    "Arrays in SAS are used primarily for iteratively processing like variables together.  SAS/IML is a closer analog to NumPy arrays.  <a href=\"http://support.sas.com/documentation/cdl/en/imlug/68150/HTML/default/viewer.htm#imlug_imlstart_toc.htm\"> SAS/IML </a>is outside the scope of these examples."
   ]
  },
  {
   "cell_type": "markdown",
   "metadata": {},
   "source": [
    "````\n",
    "    /******************************************************/\n",
    "    /* c04_array_random_values.sas                        */\n",
    "    /******************************************************/\n",
    "    4         data _null_;\n",
    "    5         \n",
    "    6         call streaminit(54321);\n",
    "    7         \n",
    "    8         array s2 {10} ;\n",
    "    9         do i = 1 to 10;\n",
    "    10           s2{i} = rand(\"Uniform\");\n",
    "    11        \n",
    "    12           if i <= 5 then put\n",
    "    13              s2{i};\n",
    "    14        end;\n",
    "\n",
    "    0.4322317772\n",
    "    0.5977982976\n",
    "    0.7785986473\n",
    "    0.1748250183\n",
    "    0.3941470125\n",
    "````"
   ]
  },
  {
   "cell_type": "markdown",
   "metadata": {},
   "source": [
    "A Series can have a <a href=\"http://nbviewer.jupyter.org/github/RandyBetancourt/PythonForSASUsers/blob/master/Chapter%2002%20--%20Data%20Structures.ipynb#list\"> list </a> of index labels."
   ]
  },
  {
   "cell_type": "markdown",
   "metadata": {},
   "source": [
    "  "
   ]
  },
  {
   "cell_type": "code",
   "execution_count": null,
   "metadata": {},
   "outputs": [],
   "source": [
    "s2 = Series(randn(10), index=['a', 'b', 'c', 'd', 'e', 'f', 'g', 'h', 'i', 'j'])\n",
    "print(s2.head(5))"
   ]
  },
  {
   "cell_type": "markdown",
   "metadata": {},
   "source": [
    "The Series is indexed by integer value with the start position at 0.  "
   ]
  },
  {
   "cell_type": "markdown",
   "metadata": {},
   "source": [
    "  "
   ]
  },
  {
   "cell_type": "code",
   "execution_count": null,
   "metadata": {},
   "outputs": [],
   "source": [
    "print(s2[0])"
   ]
  },
  {
   "cell_type": "markdown",
   "metadata": {},
   "source": [
    "The SAS example uses a DO loop as the index subscript into the array."
   ]
  },
  {
   "cell_type": "markdown",
   "metadata": {},
   "source": [
    "````\n",
    "    /******************************************************/\n",
    "    /* c04_return_1st_array_element.sas                   */\n",
    "    /******************************************************/\n",
    "    4         data _null_;\n",
    "    5         \n",
    "    6         call streaminit(54321);\n",
    "    7         \n",
    "    8         array s2 {10} ;\n",
    "    9         do i = 1 to 10;\n",
    "    10           s2{i} = rand(\"Uniform\");\n",
    "    11        \n",
    "    12           if i = 1 then put\n",
    "    13              s2{i};\n",
    "    14        end;\n",
    "\n",
    "    0.4322317772\n",
    "````"
   ]
  },
  {
   "cell_type": "markdown",
   "metadata": {},
   "source": [
    "Return the first 3 elements in the Series."
   ]
  },
  {
   "cell_type": "markdown",
   "metadata": {},
   "source": [
    "  "
   ]
  },
  {
   "cell_type": "code",
   "execution_count": null,
   "metadata": {},
   "outputs": [],
   "source": [
    "print(s2[:3])"
   ]
  },
  {
   "cell_type": "markdown",
   "metadata": {},
   "source": [
    "````\n",
    "    /******************************************************/\n",
    "    /* c04_return_first_3_array_elements.sas              */\n",
    "    /******************************************************/\n",
    "    20        data _null_;\n",
    "    21        \n",
    "    22        call streaminit(54321);\n",
    "    23        \n",
    "    24        array s2 {10} ;\n",
    "    25        do i = 1 to 10;\n",
    "    26           s2{i} = rand(\"Uniform\");\n",
    "    27        \n",
    "    28           if i <= 3 then put\n",
    "    29              s2{i};\n",
    "    30        end;\n",
    "\n",
    "    0.4322317772\n",
    "    0.5977982976\n",
    "    0.7785986473\n",
    "````"
   ]
  },
  {
   "cell_type": "markdown",
   "metadata": {},
   "source": [
    "The example has two operations.  The s2.mean() method calculates mean followed by a boolen test less than this calculated mean."
   ]
  },
  {
   "cell_type": "markdown",
   "metadata": {},
   "source": [
    "  "
   ]
  },
  {
   "cell_type": "code",
   "execution_count": null,
   "metadata": {},
   "outputs": [],
   "source": [
    "s2[s2 < s2.mean()]"
   ]
  },
  {
   "cell_type": "markdown",
   "metadata": {},
   "source": [
    "  "
   ]
  },
  {
   "cell_type": "markdown",
   "metadata": {},
   "source": [
    "Series and other objects have attributes using a dot (.) chaining-style syntax.  .name is one a number of attributes for the Series object."
   ]
  },
  {
   "cell_type": "markdown",
   "metadata": {},
   "source": [
    "  "
   ]
  },
  {
   "cell_type": "code",
   "execution_count": null,
   "metadata": {},
   "outputs": [],
   "source": [
    "s2.name='Arbitrary Name'\n",
    "print(s2.head(5))"
   ]
  },
  {
   "cell_type": "markdown",
   "metadata": {},
   "source": [
    "  "
   ]
  },
  {
   "cell_type": "markdown",
   "metadata": {},
   "source": [
    "## DataFrames\n",
    "\n",
    "DataFrames are relational-like structures with labels.  Alternatively, a DataFrame with a single column is a Series.\n",
    "\n",
    "Like SAS, DataFrames have different methods for creation.  DataFrames can be created by loading values from other Python objects.  Data values can also be loaded from a range of non-Python input sources, including .csv files, DBMS tables, Web API's, and even SAS data sets (.sas7bdat), etc.  Details are discussed in <a href=\"http://nbviewer.jupyter.org/github/RandyBetancourt/PythonForSASUsers/blob/master/Chapter%2011%20--%20Panda%20Readers.ipynb\"> Chapter 11 -- Panda Readers </a>\n",
    "\n",
    "Start by reading the UK_Accidents .csv file.  It contains vehicular accident data in the U.K from January 1, 2015 to December 31, 2015.  The .csv file is located <a href=\"https://github.com/RandyBetancourt/PythonForSASUsers/blob/master/data/uk_accidents.csv\"> here</a>.\n",
    "\n",
    "There are multiple reports for each day of the year.  The values are mostly integer values using the Road-Accident_Safety-Data_Guide.xls file found <a href=\"https://github.com/RandyBetancourt/PythonForSASUsers/blob/master/data/Road-Accident-Safety-Data-Guide.xls\"> here</a> to map values to descriptive labels. "
   ]
  },
  {
   "cell_type": "markdown",
   "metadata": {},
   "source": [
    "  "
   ]
  },
  {
   "cell_type": "markdown",
   "metadata": {},
   "source": [
    "## pd.read_csv()\n",
    "\n",
    "The default values are used in the example below.  Pandas provide a number of readers having parameters for controling missing values, date parsing, line skipping, data type mapping, etc.  These parameters are analogous to SAS' INFILE/INPUT processing.\n",
    "\n",
    "Additional examples of reading various data inputs into a DataFrame are covered in <a href=\"http://nbviewer.jupyter.org/github/RandyBetancourt/PythonForSASUsers/blob/master/Chapter%2011%20--%20Panda%20Readers.ipynb\">Chapter 11 -- Panda Readers</a>\n",
    "\n",
    "Notice the backslash (\\\\) to normalize the Window's path name."
   ]
  },
  {
   "cell_type": "code",
   "execution_count": null,
   "metadata": {},
   "outputs": [],
   "source": [
    "file_loc2 = \"data/uk_accidents.csv\"\n",
    "df = pd.read_csv(file_loc2, low_memory=False)"
   ]
  },
  {
   "cell_type": "markdown",
   "metadata": {},
   "source": [
    "  "
   ]
  },
  {
   "cell_type": "markdown",
   "metadata": {},
   "source": [
    "PROC IMPORT is used to read the same .csv file.  This is one of several methods for SAS to read a .csv file.  Here we have taken the defaults."
   ]
  },
  {
   "cell_type": "markdown",
   "metadata": {},
   "source": [
    "````\n",
    "    /******************************************************/\n",
    "    /* c04_read_csv_proc_import.sas                       */\n",
    "    /******************************************************/\n",
    "    5  proc import datafile='data/uk_accidents.csv' out=uk_accidents;\n",
    "     \n",
    "    NOTE: The file 'data/uk_accidents.csv' is:\n",
    "          File Name 'data/uk_accidents.csv',\n",
    "          Lrecl=32760, Recfm=V\n",
    "\n",
    "    NOTE: 266776 records were read from file 'data/uk_accidents.csv'\n",
    "          The minimum record length was 65\n",
    "          The maximum record length was 77\n",
    "    NOTE: Data set \"WORK.uk_accidents\" has 266776 observation(s) and 27 variable(s)\n",
    "````"
   ]
  },
  {
   "cell_type": "markdown",
   "metadata": {},
   "source": [
    "Unlike SAS, the Python interpreter is mainly silent upon normal execution.  When debugging it is helpful to invoke methods and functions to return information about these objects.  This is somewhat analogous to use PUT statements in the SAS log to examine variable values.\n",
    "\n",
    "The size, shape, and ndim attributes report respectively, number of cells, rows/columns, and number of dimensions are shown below. "
   ]
  },
  {
   "cell_type": "code",
   "execution_count": null,
   "metadata": {},
   "outputs": [],
   "source": [
    "print(df.size, df.shape, df.ndim)"
   ]
  },
  {
   "cell_type": "markdown",
   "metadata": {},
   "source": [
    "#### Read Verification\n",
    "\n",
    "After reading a file, you often want to understand its content and structure.  The DataFrame .info() method returns descriptions of the DataFrame's attributes.  In SAS, this same information is generally found in the output from PROC CONTENTS."
   ]
  },
  {
   "cell_type": "markdown",
   "metadata": {},
   "source": [
    "  "
   ]
  },
  {
   "cell_type": "code",
   "execution_count": null,
   "metadata": {},
   "outputs": [],
   "source": [
    "df.info()"
   ]
  },
  {
   "cell_type": "markdown",
   "metadata": {},
   "source": [
    "  "
   ]
  },
  {
   "cell_type": "markdown",
   "metadata": {},
   "source": [
    " "
   ]
  },
  {
   "cell_type": "code",
   "execution_count": null,
   "metadata": {},
   "outputs": [],
   "source": [
    "Image(filename='output/contents1.JPG')"
   ]
  },
  {
   "cell_type": "markdown",
   "metadata": {},
   "source": [
    " "
   ]
  },
  {
   "cell_type": "code",
   "execution_count": null,
   "metadata": {},
   "outputs": [],
   "source": [
    "Image(filename='output/contents2.JPG')"
   ]
  },
  {
   "cell_type": "markdown",
   "metadata": {
    "collapsed": true
   },
   "source": [
    " "
   ]
  },
  {
   "cell_type": "markdown",
   "metadata": {},
   "source": [
    "## Inspection\n",
    "\n",
    "panda have methods which used to inspect to data values.  The DataFrame .head() method displays the first 5 rows by default.  The .tail() method displays the last 5 rows by default.  The row count value can be an arbitrary integer value such as:\n",
    "\n",
    "    # display the last 20 rows of the DataFrame\n",
    "    df.tail(20)\n",
    "    \n",
    "SAS uses the FIRSTOBS and OBS options with procedures to determine input observations. The SAS code to print the last 20 observations of the uk_accidents data set is:\n",
    "\n",
    "    proc print data=uk_accidents (firstobs = 266756);"
   ]
  },
  {
   "cell_type": "markdown",
   "metadata": {},
   "source": [
    "  "
   ]
  },
  {
   "cell_type": "markdown",
   "metadata": {},
   "source": [
    " "
   ]
  },
  {
   "cell_type": "code",
   "execution_count": null,
   "metadata": {},
   "outputs": [],
   "source": [
    "df.head()"
   ]
  },
  {
   "cell_type": "markdown",
   "metadata": {},
   "source": [
    " "
   ]
  },
  {
   "cell_type": "markdown",
   "metadata": {},
   "source": [
    "OBS=n in SAS determines the number of observations used as input."
   ]
  },
  {
   "cell_type": "markdown",
   "metadata": {},
   "source": [
    "````\n",
    "    /******************************************************/\n",
    "    /* c_04_display_1st_5_obs.sas                         */\n",
    "    /******************************************************/\n",
    "    39       proc print data = uk_accidents (obs=5);\n",
    "\n",
    "    The output from PROC PRINT is not displayed here. \n",
    "````"
   ]
  },
  {
   "cell_type": "markdown",
   "metadata": {},
   "source": [
    " "
   ]
  },
  {
   "cell_type": "markdown",
   "metadata": {},
   "source": [
    "Scoping output by columns is shown in the cell below. The column list is analogous to the VAR statement in PROC PRINT. Note the double set of square brackets for this syntax.  This is slicing operating by column label. The square braces ([]) is the slicing operator.  The details are explained <a href=\"http://pandas.pydata.org/pandas-docs/stable/indexing.html#slicing-ranges\"> here </a>"
   ]
  },
  {
   "cell_type": "markdown",
   "metadata": {},
   "source": [
    "  "
   ]
  },
  {
   "cell_type": "markdown",
   "metadata": {},
   "source": [
    "This example uses the slicing operator to request columns by labels.  Slicers work along rows as well."
   ]
  },
  {
   "cell_type": "code",
   "execution_count": null,
   "metadata": {},
   "outputs": [],
   "source": [
    "df[['Sex_of_Driver', 'Time']].head(10)"
   ]
  },
  {
   "cell_type": "markdown",
   "metadata": {},
   "source": [
    "  "
   ]
  },
  {
   "cell_type": "markdown",
   "metadata": {},
   "source": [
    "Notice the DataFrame default index (incrementing from 0 to 9).  This is analogous to the SAS automatic variable \\_n\\_.  Later, we illustrate using other columns in the DataFrame as the index.  \n",
    "\n",
    "Below is the SAS program to print the first 10 observations of a data set along with the variables 'sex_of_driver' and 'time'."
   ]
  },
  {
   "cell_type": "markdown",
   "metadata": {},
   "source": [
    "````\n",
    "    /******************************************************/\n",
    "    /* c04_scoping_obs_and_variables.sas                  */\n",
    "    /******************************************************/\n",
    "    40       proc print data = uk_accidents (obs=10);\n",
    "    41          var sex_of_driver time;\n",
    "\n",
    "    The output from PROC PRINT is not displayed here.\n",
    "````"
   ]
  },
  {
   "cell_type": "markdown",
   "metadata": {},
   "source": [
    "## Handling Missing Data\n",
    "\n",
    "Before analyzing data a common task is dealing with missing data.  pandas uses two designations to indicate missing data, NaN (not a number) and the Python None object.\n",
    "\n",
    "Consider cells #15, #16, and #17 below.  Cell #15 uses the Python None object to represent a missing value in the array.  In turn, Python infers the data type for the array to be an object.  Unfortuantely, the use of a Python None object with an aggregation function for arrays raises an error. Cell #17 addresses the error raised in cell #16."
   ]
  },
  {
   "cell_type": "markdown",
   "metadata": {},
   "source": [
    " "
   ]
  },
  {
   "cell_type": "code",
   "execution_count": null,
   "metadata": {},
   "outputs": [],
   "source": [
    "s1 = np.array([32, None, 17, 109, 201])\n",
    "s1"
   ]
  },
  {
   "cell_type": "markdown",
   "metadata": {},
   "source": [
    "    "
   ]
  },
  {
   "cell_type": "markdown",
   "metadata": {},
   "source": [
    " "
   ]
  },
  {
   "cell_type": "code",
   "execution_count": null,
   "metadata": {},
   "outputs": [],
   "source": [
    "s1.sum()"
   ]
  },
  {
   "cell_type": "markdown",
   "metadata": {},
   "source": [
    " "
   ]
  },
  {
   "cell_type": "markdown",
   "metadata": {},
   "source": [
    "To aliviate the error raised above, use the np.nan (missing value indicator) in the array example below.  Also notice how Python chose floating point (or up-casting) for the array compared to the same example two cells above.  "
   ]
  },
  {
   "cell_type": "code",
   "execution_count": null,
   "metadata": {},
   "outputs": [],
   "source": [
    "s1 = np.array([32, np.nan, 17, 109, 201])\n",
    "print(s1)\n",
    "s1.dtype"
   ]
  },
  {
   "cell_type": "markdown",
   "metadata": {},
   "source": [
    " "
   ]
  },
  {
   "cell_type": "markdown",
   "metadata": {},
   "source": [
    "Not all arithmetic operations using NaN's will result in a NaN. "
   ]
  },
  {
   "cell_type": "code",
   "execution_count": null,
   "metadata": {},
   "outputs": [],
   "source": [
    "s1.mean()"
   ]
  },
  {
   "cell_type": "markdown",
   "metadata": {},
   "source": [
    " "
   ]
  },
  {
   "cell_type": "markdown",
   "metadata": {},
   "source": [
    "Contrast the Python program in the cell above for calculating the mean of the array elements with the SAS example below.  SAS excludes the missing value and utilizes the remaining array elements to calculate a mean."
   ]
  },
  {
   "cell_type": "markdown",
   "metadata": {},
   "source": [
    "````\n",
    "    /******************************************************/\n",
    "    /* c04_mean_of_array_elements.sas                     */\n",
    "    /******************************************************/\n",
    "    4         data _null_;\n",
    "    5         \n",
    "    6         array s2 {5} (32 . 17 109 201);\n",
    "    7         avg = mean(of s2[*]);\n",
    "    8         \n",
    "    9         put avg;\n",
    "\n",
    "    89.75\n",
    "````"
   ]
  },
  {
   "cell_type": "markdown",
   "metadata": {},
   "source": [
    " "
   ]
  },
  {
   "cell_type": "markdown",
   "metadata": {},
   "source": [
    "## Missing Value Identification"
   ]
  },
  {
   "cell_type": "markdown",
   "metadata": {},
   "source": [
    "Returning to our DataFrame, we need an analysis of missing values for all the columns.  Pandas provide four methods for the detection and replacement of missing values.  They are:\n",
    "\n",
    "<table border=\"1\">\n",
    "  <tr>\n",
    "    <td> <b>Method </b></td>\n",
    "    <td> <b>Action Taken </b></td>\n",
    "  </tr>\n",
    "    <td> isnull() </td>\n",
    "    <td> generates a boolean mask to indicate missing values </td>\n",
    "  </tr>\n",
    "  <tr>\n",
    "    <td> notnull() </td>\n",
    "    <td> opposite of isnull() </td>\n",
    "  </tr>\n",
    "  <tr>\n",
    "    <td> dropna() </td>\n",
    "    <td> returns a filtered version of the data </td>\n",
    "  </tr>\n",
    "  <tr>\n",
    "    <td> fillna() </td>\n",
    "    <td> returns a copy of data with missing values filled or imputed </td>\n",
    "  </tr>\n",
    "\n",
    "</table>\n",
    "\n",
    "We will look at each of these in detail below.  "
   ]
  },
  {
   "cell_type": "markdown",
   "metadata": {},
   "source": [
    " "
   ]
  },
  {
   "cell_type": "markdown",
   "metadata": {},
   "source": [
    "A typical SAS-programming approach to address the missing data analysis is to write a program to traverses all columns using counter variables with IF/THEN testing for missing values.  \n",
    "\n",
    "This can be along the lines of the example in cell #19 below.  df.columns returns the sequence of column names in the DataFrame.  "
   ]
  },
  {
   "cell_type": "code",
   "execution_count": null,
   "metadata": {},
   "outputs": [],
   "source": [
    "for col_name in df.columns:\n",
    "    print (col_name, end=\"---->\")\n",
    "    print (sum(df[col_name].isnull()))"
   ]
  },
  {
   "cell_type": "markdown",
   "metadata": {},
   "source": [
    " "
   ]
  },
  {
   "cell_type": "markdown",
   "metadata": {},
   "source": [
    "While this give the desired results, there is a better approach.  \n",
    "\n",
    "As an aside, if you find yourself thinking of solving a pandas' operation (or Python for that matter) using iterative processing, stop and take a little time to do research.  Chances are, a method or function already exists!\n",
    "\n",
    "Case-in-point is illustrated below.  It chains the .sum() attribute to the .isnull() attribute to return a count of the missing values for the columns in the DataFrame."
   ]
  },
  {
   "cell_type": "markdown",
   "metadata": {},
   "source": [
    "The .isnull() method returns True for missing values.  By chaining the .sum() method to the .isnull() method it produces a count of the missing values for each columns."
   ]
  },
  {
   "cell_type": "code",
   "execution_count": null,
   "metadata": {},
   "outputs": [],
   "source": [
    "df.isnull().sum()"
   ]
  },
  {
   "cell_type": "markdown",
   "metadata": {},
   "source": [
    "  "
   ]
  },
  {
   "cell_type": "markdown",
   "metadata": {},
   "source": [
    "To identify missing values the SAS example below uses PROC Format to bin missing and non-missing values.  Missing values are represented by default as (*.*) for numeric and blank (' ') for character variables.  Therefore, a user-defined format is needed for both types.  \n",
    "\n",
    "PROC FREQ is used with the automatic variables \\_CHARACTER\\_ and \\_NUMERIC\\_ to produce a frequency listing for each variable type.  \n",
    "\n",
    "Only a portion of the SAS output is shown since separate output is produced for each variable.  As with the example in cell # 19 above, the 'time' variable is the only variable with missing values."
   ]
  },
  {
   "cell_type": "markdown",
   "metadata": {},
   "source": [
    " "
   ]
  },
  {
   "cell_type": "markdown",
   "metadata": {},
   "source": [
    "````\n",
    "    /******************************************************/\n",
    "    /* c04_find_missing_numerics_characters.sas           */\n",
    "    /******************************************************/\n",
    "    26       proc format;\n",
    "    27        value $missfmt ' '='Missing' other='Not Missing';\n",
    "    28        value  missfmt  . ='Missing' other='Not Missing';\n",
    "    29       run;\n",
    "\n",
    "    30       \n",
    "    31       proc freq data=uk_accidents;\n",
    "    32          format _CHARACTER_ $missfmt.;\n",
    "    33          tables _CHARACTER_ / missing missprint nocum nopercent;\n",
    "    34       \n",
    "    35          format _NUMERIC_ missfmt.;\n",
    "    36          tables _NUMERIC_ / missing missprint nocum nopercent;\n",
    "````"
   ]
  },
  {
   "cell_type": "code",
   "execution_count": null,
   "metadata": {},
   "outputs": [],
   "source": [
    "Image(filename='output/freq.JPG')"
   ]
  },
  {
   "cell_type": "markdown",
   "metadata": {},
   "source": [
    " "
   ]
  },
  {
   "cell_type": "markdown",
   "metadata": {},
   "source": [
    "Another method for detecting missing values is to search column-wise by using the axis=1 parameter to the chained attributes .isnull().any().  The operation is then performed along columns."
   ]
  },
  {
   "cell_type": "markdown",
   "metadata": {},
   "source": [
    "  "
   ]
  },
  {
   "cell_type": "code",
   "execution_count": null,
   "metadata": {},
   "outputs": [],
   "source": [
    "null_data = df[df.isnull().any(axis=1)]\n",
    "null_data.head()"
   ]
  },
  {
   "cell_type": "markdown",
   "metadata": {},
   "source": [
    " "
   ]
  },
  {
   "cell_type": "markdown",
   "metadata": {},
   "source": [
    "## Missing Value Replacement\n",
    "\n",
    "The code below is used to render multiple objects side-by-side.  It is from  Essential Tools for Working With Data, by Jake VanderPlas found <a href=\"http://shop.oreilly.com/product/0636920034919.do\"> here </a>.  It displays the 'before' and 'after' effects of changes to objects together.  "
   ]
  },
  {
   "cell_type": "markdown",
   "metadata": {},
   "source": [
    "  "
   ]
  },
  {
   "cell_type": "code",
   "execution_count": null,
   "metadata": {},
   "outputs": [],
   "source": [
    "class display(object):\n",
    "    \"\"\"Display HTML representation of multiple objects\"\"\"\n",
    "    template = \"\"\"<div style=\"float: left; padding: 10px;\">\n",
    "    <p style='font-family:\"Courier New\", Courier, monospace'>{0}</p>{1}\n",
    "    </div>\"\"\"\n",
    "    def __init__(self, *args):\n",
    "        self.args = args\n",
    "\n",
    "    def _repr_html_(self):\n",
    "        return '\\n'.join(self.template.format(a, eval(a)._repr_html_())\n",
    "                         for a in self.args)\n",
    "\n",
    "    def __repr__(self):\n",
    "        return '\\n\\n'.join(a + '\\n' + repr(eval(a))\n",
    "                           for a in self.args)"
   ]
  },
  {
   "cell_type": "markdown",
   "metadata": {},
   "source": [
    " "
   ]
  },
  {
   "cell_type": "markdown",
   "metadata": {},
   "source": [
    "To illustrate the .fillna() method, consider the following to create a DataFrame.  "
   ]
  },
  {
   "cell_type": "code",
   "execution_count": null,
   "metadata": {},
   "outputs": [],
   "source": [
    "df2 = pd.DataFrame([['cold','slow', np.nan, 2., 6., 3.], \n",
    "                    ['warm', 'medium', 4, 5, 7, 9],\n",
    "                    ['hot', 'fast', 9, 4, np.nan, 6],\n",
    "                    ['cool', None, np.nan, np.nan, 17, 89],\n",
    "                    ['cool', 'medium', 16, 44, 21, 13],\n",
    "                    ['cold', 'slow', np.nan, 29, 33, 17]],\n",
    "                    columns=['col1', 'col2', 'col3', 'col4', 'col5', 'col6'],\n",
    "                    index=(list('abcdef')))\n",
    "display(\"df2\")"
   ]
  },
  {
   "cell_type": "markdown",
   "metadata": {},
   "source": [
    " "
   ]
  },
  {
   "cell_type": "code",
   "execution_count": null,
   "metadata": {
    "scrolled": false
   },
   "outputs": [],
   "source": [
    "df_tf = df2.isnull()\n",
    "display(\"df2\", \"df_tf\")"
   ]
  },
  {
   "cell_type": "markdown",
   "metadata": {},
   "source": [
    " "
   ]
  },
  {
   "cell_type": "markdown",
   "metadata": {},
   "source": [
    "By default the .dropna() method drops either the entire row or column in which any null value is found."
   ]
  },
  {
   "cell_type": "code",
   "execution_count": null,
   "metadata": {},
   "outputs": [],
   "source": [
    "df3 = df2.dropna()\n",
    "display(\"df2\", \"df3\")"
   ]
  },
  {
   "cell_type": "markdown",
   "metadata": {},
   "source": [
    " "
   ]
  },
  {
   "cell_type": "markdown",
   "metadata": {},
   "source": [
    "The .dropna() method also works along a column axis.  axis = 1 or axis = 'columns' is equivalent."
   ]
  },
  {
   "cell_type": "code",
   "execution_count": null,
   "metadata": {},
   "outputs": [],
   "source": [
    "df4 = df2.dropna(axis='columns')\n",
    "display(\"df2\", \"df4\")"
   ]
  },
  {
   "cell_type": "markdown",
   "metadata": {},
   "source": [
    " "
   ]
  },
  {
   "cell_type": "markdown",
   "metadata": {},
   "source": [
    "Clearly this drops a fair amount of 'good' data.  The thresh parameter allows you to specify a minimum of non-null values to be kept for the row or column.  In this case, row 'd' is dropped because it contains only 3 non-null values."
   ]
  },
  {
   "cell_type": "code",
   "execution_count": null,
   "metadata": {},
   "outputs": [],
   "source": [
    "df5 = df2.dropna(thresh=5)\n",
    "display(\"df2\", \"df5\")"
   ]
  },
  {
   "cell_type": "markdown",
   "metadata": {},
   "source": [
    " "
   ]
  },
  {
   "cell_type": "markdown",
   "metadata": {},
   "source": [
    "Rather than dropping rows and columns, missing values can be imputed or replaced.  The .fillna() method returns either a Series or a DataFrame with null values replaced.  The example below replaces all NaN's with zero."
   ]
  },
  {
   "cell_type": "code",
   "execution_count": null,
   "metadata": {},
   "outputs": [],
   "source": [
    "df6 = df2.fillna(0)\n",
    "display(\"df2\", \"df6\")"
   ]
  },
  {
   "cell_type": "markdown",
   "metadata": {},
   "source": [
    " "
   ]
  },
  {
   "cell_type": "markdown",
   "metadata": {},
   "source": [
    "As you can see from the example in cell #28 above, the .fillna() method is applied to all DataFrame cells.  We may not wish to have missing values in df['col2'] replaced with zeros since they are strings.  The method is applied to a list of target columns using the .loc method.  The details for .loc method are discussed in <a href=\"http://nbviewer.jupyter.org/github/RandyBetancourt/PythonForSASUsers/blob/master/Chapter%2005%20--%20Understanding%20Indexes.ipynb#.loc-Indexer\"> Chapter 05--Understanding Indexes </a>."
   ]
  },
  {
   "cell_type": "code",
   "execution_count": null,
   "metadata": {},
   "outputs": [],
   "source": [
    "df7 = df2[['col3', 'col4', 'col5', 'col6']].fillna(0)\n",
    "display(\"df2\", \"df7\")"
   ]
  },
  {
   "cell_type": "markdown",
   "metadata": {},
   "source": [
    " "
   ]
  },
  {
   "cell_type": "markdown",
   "metadata": {},
   "source": [
    "An imputation method based on the mean value of df['col6'] is shown below.  The .fillna() method finds and then replaces all occurences of NaN with this calculated value."
   ]
  },
  {
   "cell_type": "markdown",
   "metadata": {},
   "source": [
    "  "
   ]
  },
  {
   "cell_type": "code",
   "execution_count": null,
   "metadata": {},
   "outputs": [],
   "source": [
    "df8 = df2[[\"col3\", \"col4\", \"col5\"]].fillna(df2.col6.mean())\n",
    "display(\"df2\", \"df8\")"
   ]
  },
  {
   "cell_type": "markdown",
   "metadata": {},
   "source": [
    " "
   ]
  },
  {
   "cell_type": "markdown",
   "metadata": {},
   "source": [
    "The corresponding SAS program is shown below.  The PROC SQL SELECT INTO clause stores the calculated mean for the variable \"col6\" into the macro variable &col6_mean.  This is followed by a Data Step iterating the array 'x' for \"col3 - col5\" replacing missing values with &col6_mean. \n",
    "\n",
    "A more detailed example of replacing missing values with group means is located <a href=\"http://nbviewer.jupyter.org/github/RandyBetancourt/PythonForSASUsers/blob/master/Chapter%2007%20--%20Pandas%2C%20Part%202.ipynb#Replace-Missing-Values-with-Group-Means\"> here</a>. \n",
    "\n",
    "SAS/Stat has PROC MI for imputation of missing values with a range of methods described <a href=\"https://support.sas.com/documentation/cdl/en/statug/63962/HTML/default/viewer.htm#statug_mi_sect001.htm\">\n",
    "here.</a>  PROC MI is outside the scope of these examples."
   ]
  },
  {
   "cell_type": "markdown",
   "metadata": {},
   "source": [
    "````\n",
    "    /******************************************************/\n",
    "    /* c04_replace_missing_with_mean_values.sas           */\n",
    "    /******************************************************/\n",
    "    4         data df;\n",
    "    5         infile cards dlm=',';\n",
    "    6         \n",
    "    7         input col1 $\n",
    "    8               col2 $\n",
    "    9               col3\n",
    "    10              col4\n",
    "    11              col5\n",
    "    12              col6 ;\n",
    "    13        \n",
    "    14        datalines;\n",
    "    15        cold, slow, ., 2, 6, 3\n",
    "    16        warm, medium, 4, 5, 7, 9\n",
    "    17        hot, fast, 9, 4, ., 6\n",
    "    18        cool, , ., ., 17, 89\n",
    "    19        cool,  medium, 16, 44, 21, 13\n",
    "    20        cold, slow, . ,29, 33, 17\n",
    "    21        ;;;;\n",
    "\n",
    "    22        proc sql;\n",
    "    23           select mean(col6) into :col6_mean\n",
    "    24           from df;\n",
    "    25        quit;\n",
    "\n",
    "    26        \n",
    "    27        data df2;\n",
    "    28           set df;\n",
    "    29         array x {3} col3-col5  ;\n",
    "    30        \n",
    "    31         do i = 1 to 3;\n",
    "    32            if x(i) = . then x(i) = &col6_mean;\n",
    "    33         end;\n",
    "````"
   ]
  },
  {
   "cell_type": "markdown",
   "metadata": {},
   "source": [
    " "
   ]
  },
  {
   "cell_type": "markdown",
   "metadata": {},
   "source": [
    "The .fillna(method='ffill') is a 'forward' fill method.  NaN's are replaced by the adjacent cell above traversing 'down' the columns.  Cell #32 below constrasts the DataFrame df2, created in cell #24 above with the DataFrame df9 created with the 'forward' fill method."
   ]
  },
  {
   "cell_type": "code",
   "execution_count": null,
   "metadata": {},
   "outputs": [],
   "source": [
    "df9 = df2.fillna(method='ffill')\n",
    "display(\"df2\", \"df9\")"
   ]
  },
  {
   "cell_type": "markdown",
   "metadata": {},
   "source": [
    " "
   ]
  },
  {
   "cell_type": "markdown",
   "metadata": {},
   "source": [
    "Simalarly, the .fillna(bfill) is a 'backwards' fill method.  NaN's are replaced by the adjecent cell traversing 'up' the columns.  Cell #32 constrasts the  DataFrame df2, created in cell #23 above with the DataFrame df10 created with the 'backward' fill method."
   ]
  },
  {
   "cell_type": "code",
   "execution_count": null,
   "metadata": {},
   "outputs": [],
   "source": [
    "df10 = df2.fillna(method='bfill')\n",
    "display(\"df2\", \"df10\")"
   ]
  },
  {
   "cell_type": "markdown",
   "metadata": {},
   "source": [
    " "
   ]
  },
  {
   "cell_type": "markdown",
   "metadata": {},
   "source": [
    "Cell #34 contrasts DataFrame df9 created in cell #32 using the 'forward' fill method with DataFrame df10 created in cell #33 with the 'backward' fill method."
   ]
  },
  {
   "cell_type": "code",
   "execution_count": null,
   "metadata": {},
   "outputs": [],
   "source": [
    "display(\"df9\", \"df10\")"
   ]
  },
  {
   "cell_type": "markdown",
   "metadata": {},
   "source": [
    " "
   ]
  },
  {
   "cell_type": "markdown",
   "metadata": {},
   "source": [
    "Before dropping the missing rows, calculate the portion of records lost in the accidents DataFrame, df created above."
   ]
  },
  {
   "cell_type": "code",
   "execution_count": null,
   "metadata": {},
   "outputs": [],
   "source": [
    "print(\"{} records in the DataFrame will be dropped.\".format(df.Time.isnull().sum()))\n",
    "print('The portion of records dropped is {0:6.3%}'.format(df.Time.isnull().sum() / (len(df) - df.Time.isnull().sum())))"
   ]
  },
  {
   "cell_type": "markdown",
   "metadata": {},
   "source": [
    "  "
   ]
  },
  {
   "cell_type": "markdown",
   "metadata": {},
   "source": [
    "The .dropna() method is silent except in the case of errors.  We can verify the DataFrame's shape after the method is applied."
   ]
  },
  {
   "cell_type": "code",
   "execution_count": null,
   "metadata": {},
   "outputs": [],
   "source": [
    "print(df.shape)\n",
    "df = df.dropna()\n",
    "print(df.shape)"
   ]
  },
  {
   "cell_type": "markdown",
   "metadata": {},
   "source": [
    "    "
   ]
  },
  {
   "cell_type": "markdown",
   "metadata": {},
   "source": [
    "# Resources\n",
    "\n",
    "<a href=\"http://pandas.pydata.org/pandas-docs/stable/10min.html\"> 10 Minutes to pandas </a> from pandas.pydata.org.\n",
    "\n",
    "<a href=\"http://pandas.pydata.org/pandas-docs/stable/tutorials.html\"> Tutorials </a>, and just below this link is the link for the pandas Cookbook, from the pandas 0.19.0 documentation at pandas.pydata.org.\n",
    "\n",
    "<a href=\"http://pandas.pydata.org/\"> pandas </a> Home page for Python Data Analysis Library.\n",
    "\n",
    "<a href=\"http://shop.oreilly.com/product/0636920034919.do\"> Python Data Science Handbook </a>, Essential Tools for Working With Data, by Jake VanderPlas.\n",
    "\n",
    "<a href=\"http://byumcl.bitbucket.org/bootcamp2013/labs/pandas.html\"> pandas: Data Handling and Analysis in Python </a> from 2013 BYU MCL Bootcamp documentation.\n",
    "\n",
    "<a href=\"http://www.gregreda.com/2013/10/26/intro-to-pandas-data-structures/\"> Intro to pandas data structures </a> by Greg Reda.  This is a three-part series using the Movie Lens data set nicely to illustrate pandas.\n",
    "\n",
    "<a href=\"http://www.webpages.uidaho.edu/~stevel/504/Pandas%20DataFrame%20Notes.pdf\"> Cheat Sheet: The pandas DataFrame Object </a>by Mark Graph and located at the University of Idaho's web-site.\n",
    "\n",
    "<a href=\"http://pandas.pydata.org/pandas-docs/stable/missing_data.html\"> Working with missing data </a> pandas 0.19.0 documentation."
   ]
  },
  {
   "cell_type": "markdown",
   "metadata": {
    "collapsed": true
   },
   "source": [
    "## Navigation\n",
    "\n",
    "<a href=\"http://nbviewer.jupyter.org/github/RandyBetancourt/PythonForSASUsers/tree/master/\"> Return to Chapter List </a>    "
   ]
  }
 ],
 "metadata": {
  "anaconda-cloud": {},
  "kernelspec": {
   "display_name": "Python 3",
   "language": "python",
   "name": "python3"
  },
  "language_info": {
   "codemirror_mode": {
    "name": "ipython",
    "version": 3
   },
   "file_extension": ".py",
   "mimetype": "text/x-python",
   "name": "python",
   "nbconvert_exporter": "python",
   "pygments_lexer": "ipython3",
   "version": "3.7.3"
  }
 },
 "nbformat": 4,
 "nbformat_minor": 1
}
