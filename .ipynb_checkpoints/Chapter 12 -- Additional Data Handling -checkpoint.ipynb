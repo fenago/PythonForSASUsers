{
 "cells": [
  {
   "cell_type": "markdown",
   "metadata": {},
   "source": [
    "# Chapter 12 -- Additional Data Handling"
   ]
  },
  {
   "cell_type": "markdown",
   "metadata": {},
   "source": [
    "## Topics Covered:\n",
    "\n",
    "<a href=\"http://nbviewer.jupyter.org/github/RandyBetancourt/PythonForSASUsers/blob/master/Chapter%2012%20--%20Additional%20Data%20Handling%20.ipynb#Sort-and-Sort-Sequences\">Sort and Sort Sequences</a>\n",
    "\n",
    "<a href=\"http://nbviewer.jupyter.org/github/RandyBetancourt/PythonForSASUsers/blob/master/Chapter%2012%20--%20Additional%20Data%20Handling%20.ipynb#Drop/Keep-Columns\">Drop/Keep Columns</a> \n",
    "\n",
    "<a href=\"http://nbviewer.jupyter.org/github/RandyBetancourt/PythonForSASUsers/blob/master/Chapter%2012%20--%20Additional%20Data%20Handling%20.ipynb#Rename-Columns\">Rename Columns</a>\n",
    "\n",
    "<a href=\"http://nbviewer.jupyter.org/github/RandyBetancourt/PythonForSASUsers/blob/master/Chapter%2012%20--%20Additional%20Data%20Handling%20.ipynb#Finding-Duplicate-Values\">Find Duplicate Values</a>\n",
    "\n",
    "<a href=\"http://nbviewer.jupyter.org/github/RandyBetancourt/PythonForSASUsers/blob/master/Chapter%2012%20--%20Additional%20Data%20Handling%20.ipynb#Extract-Duplicate-Values\">Extract Duplicate Rows to a new DataFrame</a>\n",
    "\n",
    "<a href=\"http://nbviewer.jupyter.org/github/RandyBetancourt/PythonForSASUsers/blob/master/Chapter%2012%20--%20Additional%20Data%20Handling%20.ipynb#Drop-Duplicate-Rows\">Drop Duplicate Rows</a>\n",
    "\n",
    "<a href=\"http://nbviewer.jupyter.org/github/RandyBetancourt/PythonForSASUsers/blob/master/Chapter%2012%20--%20Additional%20Data%20Handling%20.ipynb#Add-a-New-DataFrame-Column\">Add a New DataFrame Column</a>\n",
    "\n",
    "<a href=\"http://nbviewer.jupyter.org/github/RandyBetancourt/PythonForSASUsers/blob/master/Chapter%2012%20--%20Additional%20Data%20Handling%20.ipynb#Cast-Strings-to-Floats\">Cast Strings to Float</a>\n",
    "\n",
    "<a href=\"http://nbviewer.jupyter.org/github/RandyBetancourt/PythonForSASUsers/blob/master/Chapter%2012%20--%20Additional%20Data%20Handling%20.ipynb#Concatenating-DataFrames-(Join)\">Concatenating DataFrames (Join)</a>\n",
    "\n",
    "<a href=\"http://nbviewer.jupyter.org/github/RandyBetancourt/PythonForSASUsers/blob/master/Chapter%2012%20--%20Additional%20Data%20Handling%20.ipynb#Crosstabs\">Crosstabs</a>\n",
    "\n",
    "<a href=\"http://nbviewer.jupyter.org/github/RandyBetancourt/PythonForSASUsers/blob/master/Chapter%2012%20--%20Additional%20Data%20Handling%20.ipynb#Sampling\">Sampling</a>\n",
    "\n",
    "<a href=\"http://nbviewer.jupyter.org/github/RandyBetancourt/PythonForSASUsers/blob/master/Chapter%2012%20--%20Additional%20Data%20Handling%20.ipynb#Binning-Continuous-Values\">Binning Continuous Values</a>\n",
    "\n",
    "<a href=\"http://nbviewer.jupyter.org/github/RandyBetancourt/PythonForSASUsers/blob/master/Chapter%2012%20--%20Additional%20Data%20Handling%20.ipynb#Save-to-Disk\">Save to Disk</a>\n",
    "\n",
    "<a href=\"http://nbviewer.jupyter.org/github/RandyBetancourt/PythonForSASUsers/blob/master/Chapter%2012%20--%20Additional%20Data%20Handling%20.ipynb#Resources\">Resources</a>"
   ]
  },
  {
   "cell_type": "markdown",
   "metadata": {},
   "source": [
    " "
   ]
  },
  {
   "cell_type": "code",
   "execution_count": null,
   "metadata": {},
   "outputs": [],
   "source": [
    "import numpy as np\n",
    "import pandas as pd\n",
    "from pandas import Series, DataFrame, Index\n",
    "from IPython.display import Image"
   ]
  },
  {
   "cell_type": "markdown",
   "metadata": {},
   "source": [
    "  "
   ]
  },
  {
   "cell_type": "markdown",
   "metadata": {},
   "source": [
    "## Sort and Sort Sequences"
   ]
  },
  {
   "cell_type": "markdown",
   "metadata": {},
   "source": [
    "The example below is used in <a href=\"http://nbviewer.jupyter.org/github/RandyBetancourt/PythonForSASUsers/blob/master/Chapter%2009%20--%20Panda%20Time%20Series%20and%20Date%20Handling.ipynb#Time-Series-Walk-Through\">Time Series Walk-Through</a> in Chapter 09 -- Panda Time Series and Date Handling.  It uses the <a href=\"http://nbviewer.jupyter.org/github/RandyBetancourt/PythonForSASUsers/blob/master/Chapter%2011%20--%20Panda%20Readers.ipynb#pd.read_csv(URL)-method\"> read_csv() method</a> to construct the 'df_us' DataFrame begining its read on row 3,082."
   ]
  },
  {
   "cell_type": "code",
   "execution_count": null,
   "metadata": {},
   "outputs": [],
   "source": [
    "df_states = pd.read_csv(\"data/HPI_master.csv\",                 \n",
    "            skiprows=3082,\n",
    "            usecols=(0, 1, 2, 3, 4, 5, 6, 7, 8),\n",
    "            names=('hpi_type', 'hpi_flavor', 'frequency', 'level', 'place_name', 'place_id', 'yr', 'period', 'index_nsa'),\n",
    "            header=None)"
   ]
  },
  {
   "cell_type": "markdown",
   "metadata": {},
   "source": [
    "   "
   ]
  },
  {
   "cell_type": "markdown",
   "metadata": {},
   "source": [
    "The following SAS Data Step reads the same .csv file using FIRSTOBS= to begin reading from an arbitary row position."
   ]
  },
  {
   "cell_type": "markdown",
   "metadata": {},
   "source": [
    "````\n",
    "    /********************************/\n",
    "    /* c09_read()_csv_df_states.sas */\n",
    "    /********************************/\n",
    "    data df_states;\n",
    "          infile 'data/HPI_master.csv' delimiter=',' missover dsd firstobs=3081; \n",
    "          informat hpi_type $12.\n",
    "                   hpi_flavor $16.\n",
    "                   frequency $9.\n",
    "                   level $28.\n",
    "                   place_name $33.\n",
    "                   place_id $8.\n",
    "                   yr $5.\n",
    "                   period $6.\n",
    "                   index_nsa 8.;\n",
    "             input hpi_type $\n",
    "                   hpi_flavor $\n",
    "                   frequency $\n",
    "                   level $\n",
    "                   place_name $\n",
    "                   place_id $\n",
    "                   yr $\n",
    "                   period $\n",
    "                   index_nsa ;\n",
    "````"
   ]
  },
  {
   "cell_type": "markdown",
   "metadata": {},
   "source": [
    " "
   ]
  },
  {
   "cell_type": "markdown",
   "metadata": {},
   "source": [
    "Verify the read using the .shape attribute."
   ]
  },
  {
   "cell_type": "code",
   "execution_count": null,
   "metadata": {},
   "outputs": [],
   "source": [
    "df_states.shape"
   ]
  },
  {
   "cell_type": "markdown",
   "metadata": {},
   "source": [
    "  "
   ]
  },
  {
   "cell_type": "markdown",
   "metadata": {},
   "source": [
    "Inspect the first 5 rows of the 'df_states' DataFrame."
   ]
  },
  {
   "cell_type": "code",
   "execution_count": null,
   "metadata": {},
   "outputs": [],
   "source": [
    "df_states.head()"
   ]
  },
  {
   "cell_type": "markdown",
   "metadata": {},
   "source": [
    "  "
   ]
  },
  {
   "cell_type": "markdown",
   "metadata": {},
   "source": [
    "Inspect the first 5 rows of the SAS data set df_states."
   ]
  },
  {
   "cell_type": "code",
   "execution_count": null,
   "metadata": {},
   "outputs": [],
   "source": [
    "Image(filename='output/df_states_output.JPG')  "
   ]
  },
  {
   "cell_type": "markdown",
   "metadata": {},
   "source": [
    "  "
   ]
  },
  {
   "cell_type": "markdown",
   "metadata": {},
   "source": [
    "Exam the default sort by supplying the the sort key as the minimum argument to the .sort_values() attribute.  The sort operation creates the new 'default_srt' DataFrame."
   ]
  },
  {
   "cell_type": "code",
   "execution_count": null,
   "metadata": {},
   "outputs": [],
   "source": [
    "default_srt = df_states.sort_values('index_nsa')"
   ]
  },
  {
   "cell_type": "markdown",
   "metadata": {},
   "source": [
    "  "
   ]
  },
  {
   "cell_type": "markdown",
   "metadata": {},
   "source": [
    "Display the first 4 rows of the sorted DataFrame 'default_srt'"
   ]
  },
  {
   "cell_type": "code",
   "execution_count": null,
   "metadata": {},
   "outputs": [],
   "source": [
    "default_srt.iloc[0:4]"
   ]
  },
  {
   "cell_type": "markdown",
   "metadata": {},
   "source": [
    "   "
   ]
  },
  {
   "cell_type": "markdown",
   "metadata": {},
   "source": [
    "By examing the first the first four rows of the sorted DataFrame, 'default_srt' we see the default sort sequence is ascending.  Of course, by reading the doc for <a href=\"http://pandas.pydata.org/pandas-docs/stable/generated/pandas.DataFrame.sort_values.html\"> pandas.DataFrame.sort_values </a> we could 'see' this as well. "
   ]
  },
  {
   "cell_type": "markdown",
   "metadata": {},
   "source": [
    "  "
   ]
  },
  {
   "cell_type": "markdown",
   "metadata": {},
   "source": [
    "The default SAS sort syntax is:"
   ]
  },
  {
   "cell_type": "markdown",
   "metadata": {},
   "source": [
    "````\n",
    "    /******************************************************/\n",
    "    /* c12_print_first4_rows_sorted.sas                   */\n",
    "    /******************************************************/\n",
    "84  proc sort data=df_states;\n",
    "85      by index_nsa;\n",
    "NOTE: 96244 observations were read from \"WORK.df_states\"\n",
    "NOTE: Data set \"WORK.df_states\" has 96244 observation(s) and 9 variable(s)\n",
    "86         \n",
    "87   proc print data=df_states (obs=4);\n",
    "````"
   ]
  },
  {
   "cell_type": "markdown",
   "metadata": {},
   "source": [
    "  "
   ]
  },
  {
   "cell_type": "markdown",
   "metadata": {},
   "source": [
    "Like panda the default SAS sort sequence is ascending.  This is confirmed by the SAS doc located <a href=\"https://support.sas.com/documentation/cdl/en/proc/61895/HTML/default/viewer.htm#sort-overview.htm\"> here </a>."
   ]
  },
  {
   "cell_type": "code",
   "execution_count": null,
   "metadata": {},
   "outputs": [],
   "source": [
    "Image(filename='output/default_first_four.JPG')  "
   ]
  },
  {
   "cell_type": "markdown",
   "metadata": {},
   "source": [
    " "
   ]
  },
  {
   "cell_type": "markdown",
   "metadata": {},
   "source": [
    "In contrast to the panda default sort the default SAS sort sequence places its missing values first in the data set as illustrated above."
   ]
  },
  {
   "cell_type": "markdown",
   "metadata": {},
   "source": [
    " "
   ]
  },
  {
   "cell_type": "markdown",
   "metadata": {},
   "source": [
    "Displaying the last 4 rows in the 'default_srt' DataFrame finds the 2 NaN's sorted last since this is the default location panda places its missing values."
   ]
  },
  {
   "cell_type": "code",
   "execution_count": null,
   "metadata": {},
   "outputs": [],
   "source": [
    "default_srt.tail(4)  "
   ]
  },
  {
   "cell_type": "markdown",
   "metadata": {},
   "source": [
    "  "
   ]
  },
  {
   "cell_type": "markdown",
   "metadata": {},
   "source": [
    "panda's default sort sequence places NaN's last in the sort sequence by default and can be used as an alternative to <a href=\"http://nbviewer.jupyter.org/github/RandyBetancourt/PythonForSASUsers/blob/master/Chapter%2005%20--%20Understanding%20Indexes.ipynb#Mixing-.loc-Indexer-with-Boolean-Operators\">boolean operators and the .loc() method</a> to detect missing values."
   ]
  },
  {
   "cell_type": "markdown",
   "metadata": {},
   "source": [
    "  "
   ]
  },
  {
   "cell_type": "markdown",
   "metadata": {},
   "source": [
    "The SAS program to access the last four observations in the data set is:"
   ]
  },
  {
   "cell_type": "markdown",
   "metadata": {},
   "source": [
    "````\n",
    "    /******************************************************/\n",
    "    /* c12_print_last4_rows_sorted.sas                    */\n",
    "    /******************************************************/\n",
    "    79         data last4;  \n",
    "    80           set df_states (firstobs=96241);\n",
    "    81           by index_nsa;\n",
    "\n",
    "    NOTE: 4 observations were read from \"WORK.last4\"\n",
    "````    "
   ]
  },
  {
   "cell_type": "code",
   "execution_count": null,
   "metadata": {},
   "outputs": [],
   "source": [
    "Image(filename='output/sort_last_four.JPG')  "
   ]
  },
  {
   "cell_type": "markdown",
   "metadata": {},
   "source": [
    "  "
   ]
  },
  {
   "cell_type": "markdown",
   "metadata": {},
   "source": [
    "Alter the organization of the 'states_desc' DataFrame by supplying arguments and values to the sort_values() attribute.  The example below sorts descending placeing missing values at the beginning of the DataFrame."
   ]
  },
  {
   "cell_type": "code",
   "execution_count": null,
   "metadata": {},
   "outputs": [],
   "source": [
    "states_desc = df_states.sort_values('index_nsa', ascending=False, na_position='first')"
   ]
  },
  {
   "cell_type": "markdown",
   "metadata": {},
   "source": [
    "  "
   ]
  },
  {
   "cell_type": "markdown",
   "metadata": {},
   "source": [
    "Setting the na_position= argument to 'first' places NaN's at the beginning of the sort sequence.  This is the same beavhior for SAS' sort sequence.  Details describing SAS sort order for missing values is descried <a href=\"http://support.sas.com/documentation/cdl/en/lrcon/68089/HTML/default/viewer.htm#p0tmoipp0ci6wkn0z27ev47sv0ov.htm\"> here </a>.\n",
    "\n",
    "The first two rows in the DataFrame 'states_desc' contain the NaN's values for the 'index_nsa' column, while the next 2 rows contain the highest values."
   ]
  },
  {
   "cell_type": "markdown",
   "metadata": {},
   "source": [
    "  "
   ]
  },
  {
   "cell_type": "code",
   "execution_count": null,
   "metadata": {},
   "outputs": [],
   "source": [
    "states_desc.iloc[0:4,]"
   ]
  },
  {
   "cell_type": "markdown",
   "metadata": {},
   "source": [
    " "
   ]
  },
  {
   "cell_type": "markdown",
   "metadata": {},
   "source": [
    "SAS has missing 28 missing value indicators for numerics described <a href=\"http://support.sas.com/documentation/cdl/en/lrcon/68089/HTML/default/viewer.htm#p175x77t7k6kggn1io94yedqagl3.htm\"> here </a>.  However, if you want missing values to be 'first' in a data set using an ascending sort sequence, then the missing value indicator must be an actual numeric value larger than the largest non-missing value.  In other words, by default, the SAS missing value indicator for numerics is always the smallest numeric value."
   ]
  },
  {
   "cell_type": "markdown",
   "metadata": {},
   "source": [
    "The SAS example below sorts the df_states data set in descending order by the 'index_nsa' variable.  Like the panda example above, the \n",
    "\n",
    "    out=states_srt2\n",
    "    \n",
    "syntax creates the new SAS data set 'states_srt2'. "
   ]
  },
  {
   "cell_type": "markdown",
   "metadata": {},
   "source": [
    "````\n",
    "    /******************************************************/\n",
    "    /* c12_print_last4_rows_sorted_descending.sas        */\n",
    "    /*****************************************************/\n",
    "    44        proc sort data=df_states\n",
    "    45           out=states_srt2;\n",
    "    46           by descending index_nsa;\n",
    "    NOTE: 96244 observations were read from \"WORK.df_states\"\n",
    "    NOTE: Data set \"WORK.states_srt2\" has 96244 observation(s) and 9 variable(s)\n",
    "    47        \n",
    "    48         data first4;\n",
    "    49           set states_srt2 (obs=4);\n",
    "    50           by descending index_nsa;\n",
    "````"
   ]
  },
  {
   "cell_type": "code",
   "execution_count": null,
   "metadata": {},
   "outputs": [],
   "source": [
    "Image(filename='output/sort_last4_descending.JPG')  "
   ]
  },
  {
   "cell_type": "markdown",
   "metadata": {},
   "source": [
    " "
   ]
  },
  {
   "cell_type": "markdown",
   "metadata": {},
   "source": [
    "The section below examines a number of common data management patterns for analysis. "
   ]
  },
  {
   "cell_type": "markdown",
   "metadata": {},
   "source": [
    "####    1. Read the Lending Club Loan Status file."
   ]
  },
  {
   "cell_type": "code",
   "execution_count": null,
   "metadata": {},
   "outputs": [],
   "source": [
    "lc = pd.read_csv(\"data/LC_Loan_Stats.csv\",\n",
    "                 low_memory=False)     \n",
    "lc.shape"
   ]
  },
  {
   "cell_type": "markdown",
   "metadata": {},
   "source": [
    "Check for <a href=\"http://nbviewer.jupyter.org/github/RandyBetancourt/PythonForSASUsers/blob/master/Chapter%2004%20--%20Pandas%2C%20Part%201.ipynb#Missing-Value-Identification\">missing values</a>.  Clearly, some columns are not useful."
   ]
  },
  {
   "cell_type": "code",
   "execution_count": null,
   "metadata": {},
   "outputs": [],
   "source": [
    "lc.isnull().sum()"
   ]
  },
  {
   "cell_type": "markdown",
   "metadata": {},
   "source": [
    "## Drop/Keep Columns"
   ]
  },
  {
   "cell_type": "markdown",
   "metadata": {},
   "source": [
    "Keep some of the columns in the 'lc' DataFrame."
   ]
  },
  {
   "cell_type": "code",
   "execution_count": null,
   "metadata": {},
   "outputs": [],
   "source": [
    "lc = lc[['ID', 'Member_ID', 'Loan_Amnt', 'Term', 'Int_Rate', 'Installment', 'Grade', 'Sub_Grade', 'Emp_Length',\n",
    "                     'Home_Ownership', 'Annual_Inc', 'Verification_Status', 'Loan_Status', 'Purpose', 'Zip_Code',\n",
    "                     'Addr_State', 'DTI', 'Delinq_2yrs', 'Earliest_Cr_Line', 'Inq_Last_6mths', 'Open_Acc', 'Revol_Bal',                          \n",
    "                     'Revol_Util']]"
   ]
  },
  {
   "cell_type": "markdown",
   "metadata": {},
   "source": [
    " "
   ]
  },
  {
   "cell_type": "markdown",
   "metadata": {},
   "source": [
    "## Rename Columns"
   ]
  },
  {
   "cell_type": "code",
   "execution_count": null,
   "metadata": {},
   "outputs": [],
   "source": [
    "lc = lc.rename(columns = {\n",
    "           'Member_ID'              :'mem_id',\n",
    "           'Loan_Amtn'              :'ln_amt',\n",
    "           'Int_Rate'               :'rate',\n",
    "           'Home_Ownership'         :'own_rnt',\n",
    "           'Verification_Status'    :'vrfy_stat',\n",
    "           'Loan_Status'            :'ln_stat',\n",
    "           'Addr_State'             :'state',\n",
    "           'Earliest_Cr_Line'       :'earliest_ln'\n",
    "    })"
   ]
  },
  {
   "cell_type": "markdown",
   "metadata": {},
   "source": [
    " "
   ]
  },
  {
   "cell_type": "markdown",
   "metadata": {},
   "source": [
    "Lower-case all the 'lc' DataFrame column names."
   ]
  },
  {
   "cell_type": "code",
   "execution_count": null,
   "metadata": {},
   "outputs": [],
   "source": [
    "lc.columns = map(str.lower, lc.columns)"
   ]
  },
  {
   "cell_type": "markdown",
   "metadata": {},
   "source": [
    " "
   ]
  },
  {
   "cell_type": "markdown",
   "metadata": {},
   "source": [
    "An investigation of the LC_Loan_Stats.csv file reveals it has 2 parts.  The first part, rows 0 to 39786 contain data for those loans meeting their credit policies.  Rows 39790 to the end contain data for those loans that are outside their normal lending policies.  \n",
    "\n",
    "Create the 'lc1' DataFrame by reading a sub-set of columns and rows. "
   ]
  },
  {
   "cell_type": "code",
   "execution_count": null,
   "metadata": {},
   "outputs": [],
   "source": [
    "lc1 = pd.read_csv(\"data/LC_Loan_Stats.csv\", \n",
    "          low_memory=False,            \n",
    "          usecols=(0, 1, 2, 3, 4, 5, 6, 7, 8, 9, 10, 12, 13, 15, 16, 17, 18, 19, 22, 24, 25),\n",
    "          names=('id','mem_id', 'ln_amt', 'term','rate', 'm_pay', 'grade', 'sub_grd', 'emp_len',\n",
    "                 'own_rnt', 'income', 'ln_stat', 'purpose', 'state', 'dti', 'delinq_2yrs', 'ln_fst',\n",
    "                'inq_6mnth', 'open_acc', 'revol_bal', 'revol_util' ),\n",
    "          skiprows=1,\n",
    "          nrows=39786,\n",
    "          header=None)\n",
    "lc1.shape"
   ]
  },
  {
   "cell_type": "markdown",
   "metadata": {},
   "source": [
    " "
   ]
  },
  {
   "cell_type": "markdown",
   "metadata": {},
   "source": [
    "The analog SAS program for reading sub-sets of rows and columns from the 'LC_Loan_Stats.csv' file."
   ]
  },
  {
   "cell_type": "markdown",
   "metadata": {},
   "source": [
    "````\n",
    "    /******************************************************/\n",
    "    /* c12_read_1st_half_loan_cvs.sas                     */\n",
    "    /******************************************************/\n",
    "    4         options obs=39787;\n",
    "    5         proc import datafile=\"data/LC_Loan_Stats.csv\"\n",
    "    6              dbms=csv\n",
    "    7              out=loans\n",
    "    8              replace;\n",
    "    9\n",
    "    10          data lc1(rename=(Member_ID     = mem_id\n",
    "    12                        Loan_Amnt        = ln_amt\n",
    "    13                        Int_Rate         = rate\n",
    "    14                        Installment      = m_pay\n",
    "    15                        Sub_Grade        = sub_grd\n",
    "    16                        Emp_Length       = emp_len\n",
    "    17                        Home_Ownership   = own_rnt\n",
    "    18                        Annual_Inc       = income\n",
    "    19                        Loan_Status      = ln_stat\n",
    "    20                        Addr_State       = state\n",
    "    21                        Earliest_Cr_Line = ln_fst\n",
    "    22                        Inq_Last_6mths   = inq_6mnth));\n",
    "    23       \n",
    "    24         set loans(keep =  ID\n",
    "    25                           Member_ID\n",
    "    26                           Loan_Amnt\n",
    "    27                           Term\n",
    "    28                           Int_Rate\n",
    "    29                           Installment\n",
    "    30                           Grade\n",
    "    31                           Sub_Grade\n",
    "    32                           Emp_Length\n",
    "    33                           Home_Ownership\n",
    "    34                           Annual_Inc\n",
    "    35                           Loan_Status\n",
    "    36                           Purpose\n",
    "    37                           Addr_State\n",
    "    38                           DTI\n",
    "    39                           Delinq_2yrs\n",
    "    40                           Earliest_Cr_Line\n",
    "    41                           Inq_Last_6mths\n",
    "    42                           Open_Acc\n",
    "    43                           Revol_Bal\n",
    "    44                           Revol_Util);\n",
    "    45\n",
    "    46        ln_plcy = 'True';\n",
    "\n",
    "    NOTE: 39786 observations were read from \"WORK.loans\"\n",
    "    NOTE: Data set \"WORK.lc1\" has 39786 observation(s) and 22 variable(s)\n",
    "````"
   ]
  },
  {
   "cell_type": "markdown",
   "metadata": {},
   "source": [
    "## Find Duplicate Values"
   ]
  },
  {
   "cell_type": "markdown",
   "metadata": {},
   "source": [
    "In the 'lc1' DataFrame we expect to find no duplicate id values.  Setting the .duplicated attribute to False returns all of the duplicate values, in our case for the lc1['id'] column.  The .duplicated() attribute for DataFrames is documented <a href=\"http://pandas.pydata.org/pandas-docs/stable/generated/pandas.DataFrame.duplicated.html\"> here</a>.\n",
    "\n",
    "False marks all duplicate values as True.  Create the new 'lc1_dups' DataFrame containing the duplicates for the lc1['id'] column.  If its length is zero then there are no duplicates.  Locating the duplicate rows is not the same as removing then which is illustrated below."
   ]
  },
  {
   "cell_type": "markdown",
   "metadata": {},
   "source": [
    "Begin by setting the index to the lc1['id'] column.  Next, \n",
    "create a <a href=\"http://nbviewer.jupyter.org/github/RandyBetancourt/PythonForSASUsers/blob/master/Chapter%2005%20--%20Understanding%20Indexes.ipynb#Mixing-.loc-Indexer-with-Boolean-Operators\"> Boolean mask</a> locating the duplicate values for the lc1['id'] column.  The keep='first' argument behaves similiar to SAS FIRST.variable in BY-Group processing.  We want to ignore the first occurance of the **duplicate** 'index' column value and extract the remaining ones."
   ]
  },
  {
   "cell_type": "code",
   "execution_count": null,
   "metadata": {},
   "outputs": [],
   "source": [
    "lc1.set_index('id', inplace=True, drop=False)\n",
    "dup_mask = lc1.duplicated('id', keep='first')"
   ]
  },
  {
   "cell_type": "markdown",
   "metadata": {},
   "source": [
    "## Extract Duplicate Values"
   ]
  },
  {
   "cell_type": "markdown",
   "metadata": {},
   "source": [
    "Apply the <a href=\"http://nbviewer.jupyter.org/github/RandyBetancourt/PythonForSASUsers/blob/master/Chapter%2005%20--%20Understanding%20Indexes.ipynb#Mixing-.loc-Indexer-with-Boolean-Operators\"> Boolean mask using the .loc attribute</a> to create the new 'lc1_dups' DataFrame.  The .shape attribute shows there are 35 rows with duplicate 'id' values."
   ]
  },
  {
   "cell_type": "code",
   "execution_count": null,
   "metadata": {},
   "outputs": [],
   "source": [
    "lc1_dups = lc1.loc[dup_mask]\n",
    "lc1_dups.shape"
   ]
  },
  {
   "cell_type": "markdown",
   "metadata": {},
   "source": [
    " "
   ]
  },
  {
   "cell_type": "markdown",
   "metadata": {},
   "source": [
    "The SAS SORT option <a href=\"https://support.sas.com/documentation/cdl/en/proc/61895/HTML/default/viewer.htm#a000146878.htm\"> NODUPKEY</a> checks for and eliminates observations with duplicate BY values.  The DUPOUT= option names the target SAS data set to write the duplicates."
   ]
  },
  {
   "cell_type": "markdown",
   "metadata": {},
   "source": [
    "````\n",
    "    /******************************************************/\n",
    "    /* c12_sort_nodupkey.sas                              */\n",
    "    /******************************************************/\n",
    "    50       proc sort data = lc1 dupout=lc1_dups nodupkey;\n",
    "    51          by id;\n",
    "    NOTE: 39786 observations were read from \"WORK.lc1\"\n",
    "    NOTE: 35 observations were found and deleted due to having duplicate sort keys\n",
    "    NOTE: Data set \"WORK.lc1\" has 39751 observation(s) and 21 variable(s)\n",
    "    NOTE: Data set \"WORK.lc1_dups\" has 35 observation(s) and 21 variable(s)\n",
    "````"
   ]
  },
  {
   "cell_type": "markdown",
   "metadata": {},
   "source": [
    "## Drop Duplicate Rows"
   ]
  },
  {
   "cell_type": "code",
   "execution_count": null,
   "metadata": {},
   "outputs": [],
   "source": [
    "lc1.shape"
   ]
  },
  {
   "cell_type": "markdown",
   "metadata": {},
   "source": [
    " "
   ]
  },
  {
   "cell_type": "markdown",
   "metadata": {},
   "source": [
    "Use the <a href=\"http://pandas.pydata.org/pandas-docs/stable/generated/pandas.DataFrame.drop_duplicates.html\">.drop_duplicates attribute</a> to drop duplicate values.  "
   ]
  },
  {
   "cell_type": "code",
   "execution_count": null,
   "metadata": {},
   "outputs": [],
   "source": [
    "lc1.drop_duplicates(['id'], keep='first', inplace=True)"
   ]
  },
  {
   "cell_type": "markdown",
   "metadata": {},
   "source": [
    " "
   ]
  },
  {
   "cell_type": "code",
   "execution_count": null,
   "metadata": {},
   "outputs": [],
   "source": [
    "lc1.shape "
   ]
  },
  {
   "cell_type": "markdown",
   "metadata": {},
   "source": [
    "  "
   ]
  },
  {
   "cell_type": "markdown",
   "metadata": {},
   "source": [
    "## Add a New DataFrame Column"
   ]
  },
  {
   "cell_type": "markdown",
   "metadata": {},
   "source": [
    "Create the new column lc1['ln_plcy'] as a flag to indicate all rows read from row 2 to 39786 are loans granted within standard lending guidelines."
   ]
  },
  {
   "cell_type": "code",
   "execution_count": null,
   "metadata": {},
   "outputs": [],
   "source": [
    "lc1['ln_plcy'] = lc1['id'].map(lambda x: True)\n",
    "lc1.shape"
   ]
  },
  {
   "cell_type": "markdown",
   "metadata": {},
   "source": [
    " "
   ]
  },
  {
   "cell_type": "markdown",
   "metadata": {},
   "source": [
    "## Cast Strings to Floats"
   ]
  },
  {
   "cell_type": "markdown",
   "metadata": {},
   "source": [
    " "
   ]
  },
  {
   "cell_type": "code",
   "execution_count": null,
   "metadata": {},
   "outputs": [],
   "source": [
    "lc1.describe(include=['O'])"
   ]
  },
  {
   "cell_type": "markdown",
   "metadata": {},
   "source": [
    " "
   ]
  },
  {
   "cell_type": "markdown",
   "metadata": {},
   "source": [
    "Both the lc1['rate'] and lc1['revol_util'] column values are formatted with Excel's percent format (%), making them string values.  The <a href=\"http://pandas.pydata.org/pandas-docs/stable/generated/pandas.DataFrame.replace.html\"> .replace() method</a> replaces the '%' with a white-space.  The <a href=\"http://pandas.pydata.org/pandas-docs/stable/generated/pandas.DataFrame.astype.html\"> .astype attribute</a> converts the string into a float.  The resulting float is divided by 100."
   ]
  },
  {
   "cell_type": "code",
   "execution_count": null,
   "metadata": {},
   "outputs": [],
   "source": [
    "lc1['revol_util'] = lc1.revol_util.replace('%','',regex=True).astype('float')/100\n",
    "lc1['rate'] = lc1.rate.replace('%','',regex=True).astype('float')/100"
   ]
  },
  {
   "cell_type": "markdown",
   "metadata": {},
   "source": [
    " "
   ]
  },
  {
   "cell_type": "markdown",
   "metadata": {},
   "source": [
    "With the lc1['revol_util'] column values cast to floats use the <a href=\"http://nbviewer.jupyter.org/github/RandyBetancourt/PythonForSASUsers/blob/master/Chapter%2004%20--%20Pandas%2C%20Part%201.ipynb#Missing-Value-Replacement\"> .fillna() attribute</a> to replace missing values with the calculated mean value from the lc1['revol_util'] column."
   ]
  },
  {
   "cell_type": "code",
   "execution_count": null,
   "metadata": {},
   "outputs": [],
   "source": [
    "lc1[\"revol_util\"] = lc1[[\"revol_util\"]].fillna(lc1.revol_util.mean())\n",
    "lc1.revol_util.isnull().sum()"
   ]
  },
  {
   "cell_type": "markdown",
   "metadata": {},
   "source": [
    " "
   ]
  },
  {
   "cell_type": "markdown",
   "metadata": {},
   "source": [
    "The analog SAS program uses PROC SQL to insert the mean value for 'revol_util' into the SAS Macro variable 'mean_revol'.  A WHERE statement is used to locate the NULL values for the variable 'revol_util' and if found then the UPDATE statement inserts the value from the SAS MACRO variable &mean_revol into the 'revol_util' column.\n",
    "\n",
    "The CREATE TABLE statement starting at line 13 tests if there are missing values found for the column 'revol_util'."
   ]
  },
  {
   "cell_type": "markdown",
   "metadata": {},
   "source": [
    "````\n",
    "    /******************************************************/\n",
    "    /* c12_update_missing_revol_until.sas                 */\n",
    "    /******************************************************/\n",
    "    6       proc sql;\n",
    "    7          select mean(revol_util) format 6.2 into :mean_revol\n",
    "    8          from lc1;\n",
    "    9       update lc1\n",
    "    10            set revol_util = &mean_revol\n",
    "    11            where revol_util is null;\n",
    "    NOTE: 50 record(s) updated in table WORK.lc1\n",
    "    12       \n",
    "    13       create table miss as\n",
    "    14          select revol_util\n",
    "    15          from lc1\n",
    "    16          where revol_util is null;\n",
    "    NOTE: Data set \"WORK.miss\" has 0 observation(s) and 1 variable(s)\n",
    "    17       quit;\n",
    "\n",
    "````"
   ]
  },
  {
   "cell_type": "markdown",
   "metadata": {},
   "source": [
    "  "
   ]
  },
  {
   "cell_type": "markdown",
   "metadata": {},
   "source": [
    " ####    2. Read the second portion of the LC_Loan_Stats.csv file beginning with row 39790."
   ]
  },
  {
   "cell_type": "markdown",
   "metadata": {},
   "source": [
    "Create the 'lc0' DataFrame by reading the loan status file, supplying a <a href=\"http://nbviewer.jupyter.org/github/RandyBetancourt/PythonForSASUsers/blob/master/Chapter%2002%20--%20Data%20Structures.ipynb#tuple\"> tuple</a> of integers for the usecols= argument and a tuple of names for the column labels."
   ]
  },
  {
   "cell_type": "code",
   "execution_count": null,
   "metadata": {},
   "outputs": [],
   "source": [
    "lc0 = pd.read_csv(\"data/LC_Loan_Stats.csv\", \n",
    "          low_memory=False,            \n",
    "          usecols=(0, 1, 2, 3, 4, 5, 6, 7, 8, 9, 10, 12, 13, 15, 16, 17, 18, 19, 22, 24, 25),\n",
    "          names=('id','mem_id', 'ln_amt', 'term','rate', 'm_pay', 'grade', 'sub_grd', 'emp_len',\n",
    "                 'own_rnt', 'income', 'ln_stat', 'purpose', 'state', 'dti', 'delinq_2yrs', 'ln_fst',\n",
    "                'inq_6mnth', 'open_acc', 'revol_bal', 'revol_util' ),\n",
    "          skiprows=39790,\n",
    "          header=None)\n",
    "lc0.shape"
   ]
  },
  {
   "cell_type": "markdown",
   "metadata": {},
   "source": [
    " "
   ]
  },
  {
   "cell_type": "markdown",
   "metadata": {},
   "source": [
    "Create the column lc0['ln_plcy'] with a value of False to indicate rows 39790 to the end of the file are loans made outside the standard credit lending policy. The assignment below uses the .map() attribute and calls the anonymous lambda function to create the new column lc0[''ln_plcy']."
   ]
  },
  {
   "cell_type": "code",
   "execution_count": null,
   "metadata": {},
   "outputs": [],
   "source": [
    "lc0['ln_plcy'] = lc0['id'].map(lambda x: False)"
   ]
  },
  {
   "cell_type": "markdown",
   "metadata": {},
   "source": [
    " "
   ]
  },
  {
   "cell_type": "markdown",
   "metadata": {},
   "source": [
    "Similiar to above, the lc0['rate'] and lc0['revol_util'] column values are formatted with Excel's percent format (%), making them string values. The .replace() method replaces the '%' with a white-space. The .astype() attribute converts the string into a float. The resulting float is divided by 100."
   ]
  },
  {
   "cell_type": "code",
   "execution_count": null,
   "metadata": {},
   "outputs": [],
   "source": [
    "lc0['revol_util'] = lc0.revol_util.replace('%','',regex=True).astype('float')/100\n",
    "lc0['rate'] = lc0.rate.replace('%','',regex=True).astype('float')/100"
   ]
  },
  {
   "cell_type": "markdown",
   "metadata": {},
   "source": [
    " "
   ]
  },
  {
   "cell_type": "markdown",
   "metadata": {},
   "source": [
    "Calculate the mean value for 'revol_util' and use the .fillna method to replace the missing values."
   ]
  },
  {
   "cell_type": "code",
   "execution_count": null,
   "metadata": {},
   "outputs": [],
   "source": [
    "lc0['revol_util'] = lc0[[\"revol_util\"]].fillna(lc0.revol_util.mean())"
   ]
  },
  {
   "cell_type": "markdown",
   "metadata": {},
   "source": [
    " "
   ]
  },
  {
   "cell_type": "markdown",
   "metadata": {},
   "source": [
    "Return the number of missing values."
   ]
  },
  {
   "cell_type": "markdown",
   "metadata": {},
   "source": [
    "lc0.revol_util.isnull().sum() "
   ]
  },
  {
   "cell_type": "markdown",
   "metadata": {},
   "source": [
    "## Concatenating DataFrames (Join)"
   ]
  },
  {
   "cell_type": "markdown",
   "metadata": {},
   "source": [
    "<a href=\"http://nbviewer.jupyter.org/github/RandyBetancourt/PythonForSASUsers/blob/master/Chapter%2007%20--%20Pandas%2C%20Part%202.ipynb\"> Chapter 7 -- Pandas, Part 2</a> covers joining operations by illustrating the pd.merge() method which follows SQL's relational algebraic statements.  An alternative is the concat function described <a href=\"http://pandas.pydata.org/pandas-docs/stable/merging.html#concatenating-objects\"> here</a>."
   ]
  },
  {
   "cell_type": "markdown",
   "metadata": {},
   "source": [
    "  "
   ]
  },
  {
   "cell_type": "code",
   "execution_count": null,
   "metadata": {},
   "outputs": [],
   "source": [
    "print(lc0.shape)\n",
    "print(lc1.shape)"
   ]
  },
  {
   "cell_type": "markdown",
   "metadata": {},
   "source": [
    " "
   ]
  },
  {
   "cell_type": "markdown",
   "metadata": {},
   "source": [
    "Use the pd.concat() method to join the 'lc1' and 'lc0' DataFrames.  "
   ]
  },
  {
   "cell_type": "code",
   "execution_count": null,
   "metadata": {},
   "outputs": [],
   "source": [
    "frames = [lc1, lc0]\n",
    "df = pd.concat(frames)\n",
    "df.shape"
   ]
  },
  {
   "cell_type": "markdown",
   "metadata": {},
   "source": [
    " "
   ]
  },
  {
   "cell_type": "markdown",
   "metadata": {},
   "source": [
    "The analog SAS program uses the SET statement to join the data sets 'lc0' and 'lc1' together.  The variable names are identical in both data sets. "
   ]
  },
  {
   "cell_type": "markdown",
   "metadata": {},
   "source": [
    "````\n",
    "    /******************************************************/\n",
    "    /* c12_concatenate_lc0_lc1.sas                        */\n",
    "    /******************************************************/\n",
    "    7       data df;\n",
    "    8          set lc0\n",
    "    9              lc1;\n",
    "    10       run;\n",
    "\n",
    "    NOTE: 2844 observations were read from \"WORK.lc0\"\n",
    "    NOTE: 39751 observations were read from \"WORK.lc1\"\n",
    "    NOTE: Data set \"WORK.df\" has 42595 observation(s) and 22 variable(s)\n",
    "````"
   ]
  },
  {
   "cell_type": "markdown",
   "metadata": {},
   "source": [
    "  "
   ]
  },
  {
   "cell_type": "markdown",
   "metadata": {},
   "source": [
    "## Crosstabs"
   ]
  },
  {
   "cell_type": "code",
   "execution_count": null,
   "metadata": {},
   "outputs": [],
   "source": [
    "pd.crosstab(df.grade, df.own_rnt , margins=True)"
   ]
  },
  {
   "cell_type": "markdown",
   "metadata": {},
   "source": [
    " "
   ]
  },
  {
   "cell_type": "code",
   "execution_count": null,
   "metadata": {},
   "outputs": [],
   "source": [
    "pd.crosstab([df.grade, df.own_rnt], df.purpose, margins=True)"
   ]
  },
  {
   "cell_type": "markdown",
   "metadata": {},
   "source": [
    " "
   ]
  },
  {
   "cell_type": "markdown",
   "metadata": {},
   "source": [
    "## Sampling"
   ]
  },
  {
   "cell_type": "code",
   "execution_count": null,
   "metadata": {},
   "outputs": [],
   "source": [
    "samp = df.sample(n=300)"
   ]
  },
  {
   "cell_type": "code",
   "execution_count": null,
   "metadata": {},
   "outputs": [],
   "source": [
    "import bokeh.charts\n",
    "import bokeh.charts.utils\n",
    "import bokeh.io\n",
    "import bokeh.models\n",
    "import bokeh.palettes\n",
    "import bokeh.plotting\n",
    "from bokeh.charts import Bar, Scatter, BoxPlot, Histogram\n",
    "bokeh.io.output_notebook()"
   ]
  },
  {
   "cell_type": "code",
   "execution_count": null,
   "metadata": {},
   "outputs": [],
   "source": [
    "p = BoxPlot(samp, values='income', label='grade', color='firebrick',\n",
    "                      title=\"Average Interest Rate by Credit Grade\")\n",
    "\n",
    "bokeh.io.show(p)"
   ]
  },
  {
   "cell_type": "markdown",
   "metadata": {},
   "source": [
    "## Binning Continuous Values"
   ]
  },
  {
   "cell_type": "markdown",
   "metadata": {},
   "source": [
    "Locate the minimum and maximum values.  Scalars are returned.  Returning a row using a minimum value is illustrated <a href=\"http://nbviewer.jupyter.org/github/RandyBetancourt/PythonForSASUsers/blob/master/Chapter%2009%20--%20Panda%20Time%20Series%20and%20Date%20Handling.ipynb#Return-a-Row-using-a-Minimum-Value\"> here</a>  and for maximum value <a href=\"http://nbviewer.jupyter.org/github/RandyBetancourt/PythonForSASUsers/blob/master/Chapter%2009%20--%20Panda%20Time%20Series%20and%20Date%20Handling.ipynb#Return-a-Row-using-a-Maximum-Value\"> here</a>."
   ]
  },
  {
   "cell_type": "code",
   "execution_count": null,
   "metadata": {},
   "outputs": [],
   "source": [
    "print(df.dti.min())\n",
    "print(df.dti.max())"
   ]
  },
  {
   "cell_type": "markdown",
   "metadata": {},
   "source": [
    " "
   ]
  },
  {
   "cell_type": "markdown",
   "metadata": {},
   "source": [
    "Create the <a href=\"http://nbviewer.jupyter.org/github/RandyBetancourt/PythonForSASUsers/blob/master/Chapter%2002%20--%20Data%20Structures.ipynb#list\"> list</a> 'bins' containing integer values used to define bin levels.  Construct the list 'names' to define the labels for the bins. "
   ]
  },
  {
   "cell_type": "code",
   "execution_count": null,
   "metadata": {},
   "outputs": [],
   "source": [
    "bins = [0, 5, 10, 15, 20, 25, 30]\n",
    "names=['0-5%', '5-10%', '10-15%', '15-20%', '20-25%', '25-30%']\n",
    "df['dti_cat'] = pd.cut(df['dti'], bins, labels=names, include_lowest=True)"
   ]
  },
  {
   "cell_type": "markdown",
   "metadata": {},
   "source": [
    " "
   ]
  },
  {
   "cell_type": "markdown",
   "metadata": {},
   "source": [
    "Call pd.value_counts() method to return a count of values for each bin level. "
   ]
  },
  {
   "cell_type": "code",
   "execution_count": null,
   "metadata": {},
   "outputs": [],
   "source": [
    "pd.value_counts(df['dti_cat'])"
   ]
  },
  {
   "cell_type": "markdown",
   "metadata": {},
   "source": [
    " "
   ]
  },
  {
   "cell_type": "markdown",
   "metadata": {},
   "source": [
    "Return the count of missing values for the df['income'] column."
   ]
  },
  {
   "cell_type": "code",
   "execution_count": null,
   "metadata": {},
   "outputs": [],
   "source": [
    "df['income'].isnull().sum()"
   ]
  },
  {
   "cell_type": "markdown",
   "metadata": {},
   "source": [
    " "
   ]
  },
  {
   "cell_type": "markdown",
   "metadata": {},
   "source": [
    "Call the .fillna() method to replace missing values for the df['income'] column with the calcuated column mean.  Additional examples for detecting and replacing missing values are described <a href=\"http://nbviewer.jupyter.org/github/RandyBetancourt/PythonForSASUsers/blob/master/Chapter%2004%20--%20Pandas%2C%20Part%201.ipynb#Handling-Missing-Data\"> here</a>."
   ]
  },
  {
   "cell_type": "code",
   "execution_count": null,
   "metadata": {},
   "outputs": [],
   "source": [
    "df['income'] = df[[\"income\"]].fillna(df.income.mean())"
   ]
  },
  {
   "cell_type": "markdown",
   "metadata": {},
   "source": [
    " "
   ]
  },
  {
   "cell_type": "code",
   "execution_count": null,
   "metadata": {},
   "outputs": [],
   "source": [
    "print(df.income.max())\n",
    "print(df.income.min())"
   ]
  },
  {
   "cell_type": "markdown",
   "metadata": {},
   "source": [
    " "
   ]
  },
  {
   "cell_type": "markdown",
   "metadata": {},
   "source": [
    "Call the pd.qcut() method for creating deciles for the df['income'] column and copy them into the new df['inc_cat'] column.  A more detailed example of creating deciles is described in the section <a href=\"http://nbviewer.jupyter.org/github/RandyBetancourt/PythonForSASUsers/blob/master/Chapter%2010%20--%20Groupby.ipynb#Understanding-Binning\"> Understanding Binning</a> in Chapter 10--GroupBy."
   ]
  },
  {
   "cell_type": "code",
   "execution_count": null,
   "metadata": {},
   "outputs": [],
   "source": [
    "df['inc_cat'] = pd.qcut(df['income'].values, 10).codes"
   ]
  },
  {
   "cell_type": "markdown",
   "metadata": {},
   "source": [
    " "
   ]
  },
  {
   "cell_type": "markdown",
   "metadata": {},
   "source": [
    "Return the count of values from the income decile values in the df['inc_cat'] column."
   ]
  },
  {
   "cell_type": "code",
   "execution_count": null,
   "metadata": {},
   "outputs": [],
   "source": [
    "pd.value_counts(df['inc_cat'])"
   ]
  },
  {
   "cell_type": "markdown",
   "metadata": {},
   "source": [
    " "
   ]
  },
  {
   "cell_type": "markdown",
   "metadata": {},
   "source": [
    "The df['inc_cat'] column containing income deciles used as the rows and values for df['grade'] nested inside values from the df['ln_plcy'] column as the header in a Crosstab."
   ]
  },
  {
   "cell_type": "code",
   "execution_count": null,
   "metadata": {
    "scrolled": true
   },
   "outputs": [],
   "source": [
    "pd.crosstab(df.inc_cat, [df.ln_plcy, df.grade] , margins=True)"
   ]
  },
  {
   "cell_type": "markdown",
   "metadata": {
    "collapsed": true
   },
   "source": [
    " "
   ]
  },
  {
   "cell_type": "markdown",
   "metadata": {},
   "source": [
    "## Save to Disk"
   ]
  },
  {
   "cell_type": "markdown",
   "metadata": {},
   "source": [
    "The .to_pickle() method serializes the 'df' DataFrame in order to write to disk.  The .to_pickle() method is documented <a href=\"http://pandas.pydata.org/pandas-docs/stable/generated/pandas.DataFrame.to_pickle.html\"> here</a>.  The DataFrame is read in <a href=\"http://nbviewer.jupyter.org/github/RandyBetancourt/PythonForSASUsers/blob/master/Chapter%2010%20--%20Groupby.ipynb\"> Chapter 10-- GroupBy</a>."
   ]
  },
  {
   "cell_type": "code",
   "execution_count": null,
   "metadata": {},
   "outputs": [],
   "source": [
    "df.to_pickle('lending_club.pkl')"
   ]
  },
  {
   "cell_type": "markdown",
   "metadata": {},
   "source": [
    " "
   ]
  },
  {
   "cell_type": "markdown",
   "metadata": {},
   "source": [
    "We can also write the 'lc0' and 'lc1' DataFrames out as a .csv files."
   ]
  },
  {
   "cell_type": "code",
   "execution_count": null,
   "metadata": {},
   "outputs": [],
   "source": [
    "lc0.to_csv(\"data/Loans_lc0.csv\")\n",
    "lc1.to_csv(\"data/Loans_lc1.csv\")"
   ]
  },
  {
   "cell_type": "markdown",
   "metadata": {},
   "source": [
    "## Resources\n",
    "\n",
    "Delete Duplicates in Pandas, by Chris Albon located <a href=\"http://chrisalbon.com/python/pandas_delete_duplicates.html\"> here</a>.\n",
    "\n",
    "pandas.cut API doc located <a href=\"http://pandas.pydata.org/pandas-docs/stable/generated/pandas.cut.html\"> here</a>."
   ]
  },
  {
   "cell_type": "markdown",
   "metadata": {
    "collapsed": true
   },
   "source": [
    "## Navigation\n",
    "\n",
    "<a href=\"http://nbviewer.jupyter.org/github/RandyBetancourt/PythonForSASUsers/tree/master/\"> Return to Chapter List </a>    "
   ]
  }
 ],
 "metadata": {
  "anaconda-cloud": {},
  "kernelspec": {
   "display_name": "Python 3",
   "language": "python",
   "name": "python3"
  },
  "language_info": {
   "codemirror_mode": {
    "name": "ipython",
    "version": 3
   },
   "file_extension": ".py",
   "mimetype": "text/x-python",
   "name": "python",
   "nbconvert_exporter": "python",
   "pygments_lexer": "ipython3",
   "version": "3.7.3"
  }
 },
 "nbformat": 4,
 "nbformat_minor": 1
}
