{
 "cells": [
  {
   "cell_type": "markdown",
   "metadata": {},
   "source": [
    "# Chapter 10 -- Groupby"
   ]
  },
  {
   "cell_type": "markdown",
   "metadata": {},
   "source": [
    "## Topics Covered:\n",
    "\n",
    "<a href=\"http://nbviewer.jupyter.org/github/RandyBetancourt/PythonForSASUsers/blob/master/Chapter%2010%20--%20Groupby.ipynb#Setting-Display-Options\">Setting Display Options</a>\n",
    "\n",
    "<a href=\"http://nbviewer.jupyter.org/github/RandyBetancourt/PythonForSASUsers/blob/master/Chapter%2010%20--%20Groupby.ipynb#Read-'pickled'-DataFrame\">Read 'pickled' DataFrame</a>\n",
    "\n",
    "<a href=\"http://nbviewer.jupyter.org/github/RandyBetancourt/PythonForSASUsers/blob/master/Chapter%2010%20--%20Groupby.ipynb#Create-GroupBy-Object\">Create GroupBy Object</a>\n",
    "\n",
    "<a href=\"http://nbviewer.jupyter.org/github/RandyBetancourt/PythonForSASUsers/blob/master/Chapter%2010%20--%20Groupby.ipynb#GroupBy-with-Aggregations\">GroupBy with Aggregations</a>\n",
    "\n",
    "<a href=\"http://nbviewer.jupyter.org/github/RandyBetancourt/PythonForSASUsers/blob/master/Chapter%2010%20--%20Groupby.ipynb#Understanding-Binning\">Understanding Binning</a>\n",
    "\n",
    "<a href=\"http://nbviewer.jupyter.org/github/RandyBetancourt/PythonForSASUsers/blob/master/Chapter%2010%20--%20Groupby.ipynb#Defining-Functions\">Defining Functions</a>\n",
    "\n",
    "<a href=\"http://nbviewer.jupyter.org/github/RandyBetancourt/PythonForSASUsers/blob/master/Chapter%2010%20--%20Groupby.ipynb#Applying-Functions-to-Groups\">Applying Functions to Groups</a>\n",
    "\n",
    "<a href=\"http://nbviewer.jupyter.org/github/RandyBetancourt/PythonForSASUsers/blob/master/Chapter%2010%20--%20Groupby.ipynb#Applying-Transformations-to-Groups\">Applying Transformations to Groups</a>\n",
    "\n",
    "<a href=\"http://nbviewer.jupyter.org/github/RandyBetancourt/PythonForSASUsers/blob/master/Chapter%2010%20--%20Groupby.ipynb#Top/Bottom-N-processing\">Top/Bottom N processing</a>\n",
    "\n",
    "<a href=\"http://nbviewer.jupyter.org/github/RandyBetancourt/PythonForSASUsers/blob/master/Chapter%2010%20--%20Groupby.ipynb#Resources\">Resources</a>"
   ]
  },
  {
   "cell_type": "code",
   "execution_count": null,
   "metadata": {},
   "outputs": [],
   "source": [
    "import numpy as np\n",
    "import pandas as pd\n",
    "from pandas import Series, DataFrame, Index\n",
    "from IPython.display import Image"
   ]
  },
  {
   "cell_type": "markdown",
   "metadata": {},
   "source": [
    "## Setting Display Options"
   ]
  },
  {
   "cell_type": "markdown",
   "metadata": {},
   "source": [
    "For this notebook, display floats with a field width of 20 and two places left of the decimal."
   ]
  },
  {
   "cell_type": "code",
   "execution_count": null,
   "metadata": {},
   "outputs": [],
   "source": [
    "pd.options.display.float_format = '{:20,.2f}'.format"
   ]
  },
  {
   "cell_type": "markdown",
   "metadata": {},
   "source": [
    " "
   ]
  },
  {
   "cell_type": "markdown",
   "metadata": {},
   "source": [
    "## Read 'pickled' DataFrame"
   ]
  },
  {
   "cell_type": "markdown",
   "metadata": {},
   "source": [
    "The pd.read_pickle() function loads the Lending Club Data Frame created in <a href=\"http://nbviewer.jupyter.org/github/RandyBetancourt/PythonForSASUsers/blob/master/Chapter%2012%20--%20Additional%20Data%20Handling%20.ipynb#Save-to-Disk\"> Chapter 12, Additional Data Handling</a>.  The pd.read_pickle() method is documented <a href=\"http://pandas.pydata.org/pandas-docs/stable/generated/pandas.read_pickle.html\">here</a>. "
   ]
  },
  {
   "cell_type": "code",
   "execution_count": null,
   "metadata": {},
   "outputs": [],
   "source": [
    "loans = pd.read_pickle('lending_club.pkl')\n",
    "loans.shape"
   ]
  },
  {
   "cell_type": "code",
   "execution_count": null,
   "metadata": {},
   "outputs": [],
   "source": [
    "loans.set_index('id', inplace=True)"
   ]
  },
  {
   "cell_type": "markdown",
   "metadata": {},
   "source": [
    " "
   ]
  },
  {
   "cell_type": "markdown",
   "metadata": {},
   "source": [
    "Display attribute information for the 'loans' DataFrame."
   ]
  },
  {
   "cell_type": "code",
   "execution_count": null,
   "metadata": {},
   "outputs": [],
   "source": [
    "loans.info()"
   ]
  },
  {
   "cell_type": "markdown",
   "metadata": {},
   "source": [
    "  "
   ]
  },
  {
   "cell_type": "markdown",
   "metadata": {},
   "source": [
    "## Create GroupBy Object"
   ]
  },
  {
   "cell_type": "markdown",
   "metadata": {},
   "source": [
    "Create the GroupBy object 'grp_grd' using the key column 'grade'. It does not compute anything until an operation is applied to the resulting groups.  One of the simplest aggregation method applied is the len() function used to return the number of groups. The GroupBy: split-apply-combine doc for panda is located <a href=\"http://pandas.pydata.org/pandas-docs/stable/groupby.html\"> here</a>."
   ]
  },
  {
   "cell_type": "code",
   "execution_count": null,
   "metadata": {},
   "outputs": [],
   "source": [
    "grp_grd = loans.groupby('grade')\n",
    "print(type(grp_grd))\n",
    "print(len(grp_grd))"
   ]
  },
  {
   "cell_type": "markdown",
   "metadata": {},
   "source": [
    "The GroupBy object has a number of aggregation methods which can be applied to individual group levels, for example .mean()."
   ]
  },
  {
   "cell_type": "code",
   "execution_count": null,
   "metadata": {},
   "outputs": [],
   "source": [
    "grp_grd['income'].mean()"
   ]
  },
  {
   "cell_type": "markdown",
   "metadata": {},
   "source": [
    " "
   ]
  },
  {
   "cell_type": "markdown",
   "metadata": {},
   "source": [
    "Even if we do not use the GroupBy object created above, we can still render the average income for each level of the column 'grade' by passing the DataFrame column name.  In this case, 'income' grouped by grade to calculate the group mean."
   ]
  },
  {
   "cell_type": "code",
   "execution_count": null,
   "metadata": {},
   "outputs": [],
   "source": [
    "loans.groupby('grade')['income'].mean()"
   ]
  },
  {
   "cell_type": "markdown",
   "metadata": {},
   "source": [
    " "
   ]
  },
  {
   "cell_type": "markdown",
   "metadata": {},
   "source": [
    "Not surprisingly, the pandas GroupBy logic is analogous to SQL's group by syntax.  "
   ]
  },
  {
   "cell_type": "markdown",
   "metadata": {},
   "source": [
    "````\n",
    "    /******************************************************/\n",
    "    /* c10_groupby_grade.sas                              */\n",
    "    /******************************************************/\n",
    "    6       proc sql;\n",
    "    7       select grade label = 'Grade',\n",
    "    8              mean(income) label = 'Mean Income'\n",
    "    9                           \n",
    "    10       from df\n",
    "    11       group by grade\n",
    "    12       order by mean;\n",
    "````"
   ]
  },
  {
   "cell_type": "code",
   "execution_count": null,
   "metadata": {},
   "outputs": [],
   "source": [
    "  Image(filename='output/income_groupby_grade.JPG')  "
   ]
  },
  {
   "cell_type": "markdown",
   "metadata": {},
   "source": [
    "## GroupBy with Aggregations"
   ]
  },
  {
   "cell_type": "markdown",
   "metadata": {},
   "source": [
    "We can use the .aggregate() attribute to apply multiple methods to the group levels."
   ]
  },
  {
   "cell_type": "code",
   "execution_count": null,
   "metadata": {},
   "outputs": [],
   "source": [
    "grp_grd['income'].aggregate(['mean', 'std', 'count'])"
   ]
  },
  {
   "cell_type": "markdown",
   "metadata": {},
   "source": [
    " "
   ]
  },
  {
   "cell_type": "markdown",
   "metadata": {},
   "source": [
    " "
   ]
  },
  {
   "cell_type": "markdown",
   "metadata": {},
   "source": [
    "The analog SAS program using the MEAN, STD, and COUNT function to produce the same results."
   ]
  },
  {
   "cell_type": "markdown",
   "metadata": {},
   "source": [
    "````\n",
    "    /******************************************************/\n",
    "    /* c10_groupby_grade_stats.sas                        */\n",
    "    /******************************************************/\n",
    "    3       proc sql;\n",
    "    4       select grade label = 'Grade'\n",
    "    5              , mean(income) label = 'Mean Income' as mean\n",
    "    6              , std(income) label = 'Standard Deviation'\n",
    "    7              , count(income) label = 'Count'\n",
    "    8       \n",
    "   9       from df\n",
    "   10       group by grade\n",
    "   11       order by mean;\n",
    "````"
   ]
  },
  {
   "cell_type": "code",
   "execution_count": null,
   "metadata": {
    "scrolled": true
   },
   "outputs": [],
   "source": [
    "  Image(filename='output/groupby_income_stats.JPG')  "
   ]
  },
  {
   "cell_type": "markdown",
   "metadata": {},
   "source": [
    " "
   ]
  },
  {
   "cell_type": "markdown",
   "metadata": {},
   "source": [
    "We can requests multiple columns as part of the GroupBy operation.  In this case, loans['income'] and loans['dti'] (debt-to-income ratio).  The .describe() attribute is applied to each of the group levels.  The .stack() .and unstack() attributes are discussed <a href=\"http://nbviewer.jupyter.org/github/RandyBetancourt/PythonForSASUsers/blob/master/Chapter%2006%20--%20Hierarchical%20Indexing.ipynb#stack()-and-unstack()-methods\"> here </a>."
   ]
  },
  {
   "cell_type": "code",
   "execution_count": null,
   "metadata": {},
   "outputs": [],
   "source": [
    "grp_grd['income', 'dti'].describe().unstack()"
   ]
  },
  {
   "cell_type": "markdown",
   "metadata": {},
   "source": [
    " "
   ]
  },
  {
   "cell_type": "markdown",
   "metadata": {},
   "source": [
    "The GroupBy .size() attribute returns a count of the number of values for each level.  Of course, this same information is available as the loans['count'] column from the operation executed in the cell above."
   ]
  },
  {
   "cell_type": "code",
   "execution_count": null,
   "metadata": {},
   "outputs": [],
   "source": [
    "grp_grd.size()"
   ]
  },
  {
   "cell_type": "markdown",
   "metadata": {},
   "source": [
    "The analog SAS program."
   ]
  },
  {
   "cell_type": "markdown",
   "metadata": {},
   "source": [
    "````\n",
    "    /******************************************************/\n",
    "    /* c10_groupby_grade_count.sas                        */\n",
    "    /******************************************************/\n",
    "    21       proc sql;\n",
    "    22       select grade\n",
    "    23              ,count(grade) label='N'\n",
    "    24       from df\n",
    "    25       group by grade;\n",
    "    26       quit;\n",
    "````"
   ]
  },
  {
   "cell_type": "code",
   "execution_count": null,
   "metadata": {},
   "outputs": [],
   "source": [
    "  Image(filename='output/groupby_grade_count.JPG')  "
   ]
  },
  {
   "cell_type": "markdown",
   "metadata": {},
   "source": [
    "  "
   ]
  },
  {
   "cell_type": "markdown",
   "metadata": {},
   "source": [
    "The .get_group attribute returns information about a particular group level.  "
   ]
  },
  {
   "cell_type": "code",
   "execution_count": null,
   "metadata": {},
   "outputs": [],
   "source": [
    "grp_grd.get_group('G').mem_id.count()"
   ]
  },
  {
   "cell_type": "markdown",
   "metadata": {},
   "source": [
    " "
   ]
  },
  {
   "cell_type": "markdown",
   "metadata": {},
   "source": [
    "````\n",
    "    /******************************************************/\n",
    "    /* c10_groupby_grade_where.sas                        */\n",
    "    /******************************************************/\n",
    "    32       proc sql;\n",
    "    33       select count(grade) label='N'\n",
    "    34       from df\n",
    "    35       where grade = 'G'\n",
    "    36       group by grade;\n",
    "    37       \n",
    "    38       quit;\n",
    "````"
   ]
  },
  {
   "cell_type": "code",
   "execution_count": null,
   "metadata": {},
   "outputs": [],
   "source": [
    "  Image(filename='output/groupby_grade_G.JPG') "
   ]
  },
  {
   "cell_type": "markdown",
   "metadata": {},
   "source": [
    " "
   ]
  },
  {
   "cell_type": "markdown",
   "metadata": {},
   "source": [
    "We can chain attributes together to produce the desired results.  Details for sorting values in DataFrames are discussed in <a href=\"http://nbviewer.jupyter.org/github/RandyBetancourt/PythonForSASUsers/blob/master/Chapter%2012%20--%20Additional%20Data%20Handling%20.ipynb#Sort-and-Sort-Sequences\"> Sort and Sort Sequences</a> in Chapter 12--Additional Data Handling."
   ]
  },
  {
   "cell_type": "code",
   "execution_count": null,
   "metadata": {},
   "outputs": [],
   "source": [
    "grp_grd.income.mean().sort_values(ascending=False)"
   ]
  },
  {
   "cell_type": "markdown",
   "metadata": {},
   "source": [
    " "
   ]
  },
  {
   "cell_type": "markdown",
   "metadata": {},
   "source": [
    "The analog SAS PROC SQL example."
   ]
  },
  {
   "cell_type": "markdown",
   "metadata": {},
   "source": [
    "````\n",
    "    /******************************************************/\n",
    "    /* c10_groupby_grade_orderby.sas                      */\n",
    "    /******************************************************/\n",
    "    44       proc sql;\n",
    "    45       select grade\n",
    "    46              ,mean(income) label='Mean Income'\n",
    "    47       from df\n",
    "    48       group by grade\n",
    "    49       order by 2 descending;\n",
    "    50       \n",
    "    51       quit;\n",
    "````"
   ]
  },
  {
   "cell_type": "code",
   "execution_count": null,
   "metadata": {},
   "outputs": [],
   "source": [
    "  Image(filename='output/groupby_grade_income_descend.JPG')"
   ]
  },
  {
   "cell_type": "markdown",
   "metadata": {},
   "source": [
    " "
   ]
  },
  {
   "cell_type": "markdown",
   "metadata": {},
   "source": [
    "## Understanding Binning"
   ]
  },
  {
   "cell_type": "markdown",
   "metadata": {},
   "source": [
    "In this section, we want to create output displaying the statistics, N, mean, and standard deviation for income by binning the values for loan to debt ratio (loans['dti']) into the categories, 'low', 'medium', 'high'. \n",
    "\n",
    "Start by displaying the min and max values for the loans['dti'] column to determine 'bucket' sizes."
   ]
  },
  {
   "cell_type": "code",
   "execution_count": null,
   "metadata": {},
   "outputs": [],
   "source": [
    "print(loans.dti.min())\n",
    "print(loans.dti.max())"
   ]
  },
  {
   "cell_type": "markdown",
   "metadata": {},
   "source": [
    " "
   ]
  },
  {
   "cell_type": "markdown",
   "metadata": {},
   "source": [
    "Return the count of continous values in the column loans['dti']."
   ]
  },
  {
   "cell_type": "code",
   "execution_count": null,
   "metadata": {},
   "outputs": [],
   "source": [
    "loans.dti.count()"
   ]
  },
  {
   "cell_type": "markdown",
   "metadata": {},
   "source": [
    "Use the pd.cut() method to bin continuous vales into discreet values, or categories.  Additional examples for pd.cut() are found in the section \"Binning Continuous Values\" in Chapter 12, located <a href=\"http://nbviewer.jupyter.org/github/RandyBetancourt/PythonForSASUsers/blob/master/Chapter%2012%20--%20Additional%20Data%20Handling%20.ipynb#Binning-Continuous-Values\"> here</a>. pd.cut is analogous to user defined SAS formats. "
   ]
  },
  {
   "cell_type": "code",
   "execution_count": null,
   "metadata": {},
   "outputs": [],
   "source": [
    "bins = [0.0, 10.0, 20.0, 30.0]\n",
    "names=['Low', 'Medium', 'High']"
   ]
  },
  {
   "cell_type": "markdown",
   "metadata": {},
   "source": [
    " "
   ]
  },
  {
   "cell_type": "markdown",
   "metadata": {},
   "source": [
    "Create the new column loans['dti_cat'] in the loans DataFrame."
   ]
  },
  {
   "cell_type": "code",
   "execution_count": null,
   "metadata": {},
   "outputs": [],
   "source": [
    "loans['dti_cat'] = pd.cut(loans['dti'], bins, labels=names)"
   ]
  },
  {
   "cell_type": "markdown",
   "metadata": {},
   "source": [
    " "
   ]
  },
  {
   "cell_type": "markdown",
   "metadata": {},
   "source": [
    "We expect the number of values for both the value count for loans['dti'] and categorical values in the  loans['dti_cat'] column to be the same.  "
   ]
  },
  {
   "cell_type": "code",
   "execution_count": null,
   "metadata": {},
   "outputs": [],
   "source": [
    "loans.dti.count() == loans.dti_cat.count()"
   ]
  },
  {
   "cell_type": "markdown",
   "metadata": {},
   "source": [
    " "
   ]
  },
  {
   "cell_type": "markdown",
   "metadata": {},
   "source": [
    "By default, the pd.cut() method sets the right= argument to True.  From the doc, \"Indicates whether the bins include the rightmost edge or not. If right == True (the default), then the bins [1,2,3,4] indicate (1,2], (2,3], (3,4]\"."
   ]
  },
  {
   "cell_type": "code",
   "execution_count": null,
   "metadata": {},
   "outputs": [],
   "source": [
    "loans['dti_cat'] = pd.cut(loans['dti'], bins, right=False, labels=names)"
   ]
  },
  {
   "cell_type": "code",
   "execution_count": null,
   "metadata": {},
   "outputs": [],
   "source": [
    "loans.dti.count() == loans.dti_cat.count()"
   ]
  },
  {
   "cell_type": "markdown",
   "metadata": {},
   "source": [
    " "
   ]
  },
  {
   "cell_type": "markdown",
   "metadata": {},
   "source": [
    "## Defining Functions "
   ]
  },
  {
   "cell_type": "markdown",
   "metadata": {},
   "source": [
    "Define the function 'stats' which returns the desired statistics, mean, std (standard deviation), and count (N).  The type() method returns the object's type."
   ]
  },
  {
   "cell_type": "code",
   "execution_count": null,
   "metadata": {},
   "outputs": [],
   "source": [
    "def stats(grp):\n",
    "    return {'mean': grp.mean(), 'std': grp.std(), 'count':grp.count()}\n",
    "type(stats)"
   ]
  },
  {
   "cell_type": "markdown",
   "metadata": {},
   "source": [
    "  "
   ]
  },
  {
   "cell_type": "markdown",
   "metadata": {},
   "source": [
    "## Applying Functions to Groups"
   ]
  },
  {
   "cell_type": "markdown",
   "metadata": {},
   "source": [
    " "
   ]
  },
  {
   "cell_type": "markdown",
   "metadata": {},
   "source": [
    "Putting these together, the 'income' column is grouped-by the loans['dti_cat'] column displaying the rows labeled, 'Low', 'Medium', and 'High'.  The .apply() attribute applies the 'stats' function to create the columns, 'count', 'mean', 'std'.  The .unstack() attribute places the output in a 'tall and skinny' format."
   ]
  },
  {
   "cell_type": "code",
   "execution_count": null,
   "metadata": {},
   "outputs": [],
   "source": [
    "loans['income'].groupby(loans['dti_cat']).apply(stats).unstack()"
   ]
  },
  {
   "cell_type": "markdown",
   "metadata": {},
   "source": [
    " "
   ]
  },
  {
   "cell_type": "markdown",
   "metadata": {},
   "source": [
    " "
   ]
  },
  {
   "cell_type": "markdown",
   "metadata": {},
   "source": [
    "The analog SAS program uses PROC SQL to find min and man for the 'dti' column, performs the aggregation funtions, and uses the CASE statement to define 'bins' for the new column 'dti_cat'."
   ]
  },
  {
   "cell_type": "markdown",
   "metadata": {},
   "source": [
    "````\n",
    "    /******************************************************/\n",
    "    /* c10_groupby_dti_cat.sas                            */\n",
    "    /******************************************************/\n",
    "    29      proc sql;\n",
    "    30      select min(dti) as dit_min\n",
    "    31            ,max(dti) as dti_max\n",
    "    32      from df;\n",
    "    33      \n",
    "    34      select count(income) as count\n",
    "    35            ,mean(income) as mean\n",
    "    36            ,std(income) as std\n",
    "    37            ,\n",
    "    38      case\n",
    "    39         when dti < 10 then       'Low'\n",
    "    40         when 10 <= dti < 20 then 'Medium'\n",
    "    41         else                     'High'\n",
    "    42      end as dti_cat\n",
    "    43      from df\n",
    "    44      group by calculated dti_cat;\n",
    "    45      quit;\n",
    "````"
   ]
  },
  {
   "cell_type": "code",
   "execution_count": null,
   "metadata": {},
   "outputs": [],
   "source": [
    "Image(filename='output/groupby_dti_cat_income.JPG') "
   ]
  },
  {
   "cell_type": "markdown",
   "metadata": {},
   "source": [
    " "
   ]
  },
  {
   "cell_type": "markdown",
   "metadata": {},
   "source": [
    "For another example define the 'max_min' function for calculating a range and apply it income values grouped by loans['dti_cat'] levels nested inside loans['grade'] levels."
   ]
  },
  {
   "cell_type": "code",
   "execution_count": null,
   "metadata": {
    "scrolled": true
   },
   "outputs": [],
   "source": [
    " def max_min(x):\n",
    "        return x.max() - x.min()\n",
    "dti_grd_grp = loans.groupby(['grade', 'dti_cat'])\n",
    "dti_grd_grp.income.agg(max_min).unstack()"
   ]
  },
  {
   "cell_type": "markdown",
   "metadata": {},
   "source": [
    "  "
   ]
  },
  {
   "cell_type": "markdown",
   "metadata": {},
   "source": [
    "The range for the income values is large with extremes in both directions.  Rather than 'bucketing' these values into arbitrary sizes, another approach is to place values into deciles.  "
   ]
  },
  {
   "cell_type": "code",
   "execution_count": null,
   "metadata": {},
   "outputs": [],
   "source": [
    "print(loans.income.min())\n",
    "print(loans.income.max())"
   ]
  },
  {
   "cell_type": "markdown",
   "metadata": {},
   "source": [
    " "
   ]
  },
  {
   "cell_type": "markdown",
   "metadata": {},
   "source": [
    "Similar to the pd.cut() method is the pd.qcut() method for creating deciles which is documented <a href=\"http://pandas.pydata.org/pandas-docs/version/0.15.0/generated/pandas.qcut.html\"> here</a>.  The operation below creates the new column loans['inc_cat_dec'] for the 'loans' DataFrame."
   ]
  },
  {
   "cell_type": "code",
   "execution_count": null,
   "metadata": {},
   "outputs": [],
   "source": [
    "loans['inc_cat_dec'] = pd.qcut(loans['income'], q=10)"
   ]
  },
  {
   "cell_type": "markdown",
   "metadata": {},
   "source": [
    " "
   ]
  },
  {
   "cell_type": "markdown",
   "metadata": {},
   "source": [
    "Using the income deciles, return a count for each level in descending sorted order."
   ]
  },
  {
   "cell_type": "code",
   "execution_count": null,
   "metadata": {},
   "outputs": [],
   "source": [
    "pd.value_counts(loans['inc_cat_dec'].sort_values())"
   ]
  },
  {
   "cell_type": "markdown",
   "metadata": {},
   "source": [
    " "
   ]
  },
  {
   "cell_type": "markdown",
   "metadata": {},
   "source": [
    "The bin value ranges are a bit unwieldy.  An alternative is to map the bin value ranges into category codes."
   ]
  },
  {
   "cell_type": "code",
   "execution_count": null,
   "metadata": {},
   "outputs": [],
   "source": [
    "loans['inc_cat_dec'] = pd.qcut(loans['income'].values, 10).codes\n",
    "pd.value_counts(loans['inc_cat_dec'].sort_values())"
   ]
  },
  {
   "cell_type": "code",
   "execution_count": null,
   "metadata": {},
   "outputs": [],
   "source": [
    "loans.income.count() == loans.inc_cat_dec.count()"
   ]
  },
  {
   "cell_type": "markdown",
   "metadata": {},
   "source": [
    "With SAS, the traditional method for creating deciles is through PROC RANK as illustrated below."
   ]
  },
  {
   "cell_type": "markdown",
   "metadata": {},
   "source": [
    "````\n",
    "    /******************************************************/\n",
    "    /* c10_default_deciles.sas                            */\n",
    "    /******************************************************/\n",
    "    98      proc rank data=df groups=10 out=r_df;\n",
    "    99           var income;\n",
    "    100           ranks r_income;\n",
    "    NOTE: Data set \"WORK.r_df\" has 42595 observation(s) and 23 variable(s)\n",
    "    101      \n",
    "    102      proc sql;\n",
    "    103         select count(r_income) label='Income Deciles' as count\n",
    "    104      from r_df\n",
    "    105      group by r_income\n",
    "    106      order by count descending;\n",
    "    107      quit;\n",
    "````"
   ]
  },
  {
   "cell_type": "markdown",
   "metadata": {},
   "source": [
    " "
   ]
  },
  {
   "cell_type": "markdown",
   "metadata": {},
   "source": [
    "However, the **default** results between pd.qcut() method and PROC RANK are different."
   ]
  },
  {
   "cell_type": "code",
   "execution_count": null,
   "metadata": {},
   "outputs": [],
   "source": [
    " Image(filename='output/default_income_deciles.JPG') "
   ]
  },
  {
   "cell_type": "markdown",
   "metadata": {},
   "source": [
    " "
   ]
  },
  {
   "cell_type": "markdown",
   "metadata": {},
   "source": [
    "The difference are attributable to the method by which PROC RANK handles 'tied' values.  PROC RANK provides the TIES= option and when set to LOW, the results are the same as the pd.qcut() method.  You can read more about how PROC RANK treats tied values <a href=\"https://support.sas.com/documentation/cdl/en/proc/65145/HTML/default/viewer.htm#n1pe8iekjrnnfin1hdw34ik02tcw.htm#p1lkzb8a7dpbkxn1k6bspo5f9680\"> here</a>."
   ]
  },
  {
   "cell_type": "markdown",
   "metadata": {},
   "source": [
    "````\n",
    "    /******************************************************/\n",
    "    /* c10_deciles_ties_low.sas                           */\n",
    "    /******************************************************/\n",
    "57      proc rank data=df groups=10 ties=low out=r_df;\n",
    "58           var income;\n",
    "59           ranks r_income;\n",
    "NOTE: Data set \"WORK.r_df\" has 42595 observation(s) and 23 variable(s)\n",
    "60      \n",
    "61      proc sql;\n",
    "62         select count(r_income) label='Income Deciles' as count\n",
    "63      from r_df\n",
    "64      group by r_income\n",
    "65      order by count descending;\n",
    "66      quit;\n",
    "````"
   ]
  },
  {
   "cell_type": "code",
   "execution_count": null,
   "metadata": {},
   "outputs": [],
   "source": [
    " Image(filename='output/deciles_ties_low.JPG') "
   ]
  },
  {
   "cell_type": "markdown",
   "metadata": {},
   "source": [
    " "
   ]
  },
  {
   "cell_type": "markdown",
   "metadata": {},
   "source": [
    "Use the created column loans['inc_cat_dec'] for income deciles to display statistics provided by the 'stats' function created above to return count, mean, and standard deviation.  "
   ]
  },
  {
   "cell_type": "code",
   "execution_count": null,
   "metadata": {},
   "outputs": [],
   "source": [
    " loans['income'].groupby(loans['inc_cat_dec']).apply(stats).unstack()"
   ]
  },
  {
   "cell_type": "markdown",
   "metadata": {
    "collapsed": true
   },
   "source": [
    " "
   ]
  },
  {
   "cell_type": "markdown",
   "metadata": {},
   "source": [
    "pandas crosstabs is another method for accessing GroupBy processing using two factors, or categorical columns.  In the example below, the values= argument is monthly payments loans['income'] column using the aggregation function count.  Additional crosstab examples are found in the <a href=\"http://nbviewer.jupyter.org/github/RandyBetancourt/PythonForSASUsers/blob/master/Chapter%2012%20--%20Additional%20Data%20Handling%20.ipynb#Crosstabs\"> crosstabs</a> section of Chapter, 12--Additional Data Handling."
   ]
  },
  {
   "cell_type": "code",
   "execution_count": null,
   "metadata": {
    "scrolled": true
   },
   "outputs": [],
   "source": [
    " pd.crosstab([loans.dti_cat], [loans.inc_cat_dec], \\\n",
    "             values=loans.income, aggfunc='count', margins=True, colnames=['Income Deciles'], rownames=['Debt/Income Ratio'])"
   ]
  },
  {
   "cell_type": "markdown",
   "metadata": {},
   "source": [
    " "
   ]
  },
  {
   "cell_type": "markdown",
   "metadata": {},
   "source": [
    " "
   ]
  },
  {
   "cell_type": "markdown",
   "metadata": {},
   "source": [
    "The analog SAS program uses PROC FREQ."
   ]
  },
  {
   "cell_type": "markdown",
   "metadata": {},
   "source": [
    "````    \n",
    "    /******************************************************/\n",
    "    /* c10_pd.crosstabs.sas                               */\n",
    "    /******************************************************/\n",
    "    5      proc rank data=df groups=10 ties=low out=r_df;\n",
    "    6          var income;\n",
    "    7           ranks r_income;\n",
    "    8\n",
    "    9      data tables;\n",
    "    10         set r_df (keep = r_income dti);\n",
    "    11      length dti_cat $ 6;\n",
    "    12      if dti < 10 then dti_cat = 'Low';\n",
    "    13          else if dti < 20 then dti_cat = 'Medium';\n",
    "    14         else dti_cat = 'High';\n",
    "    15      \n",
    "    16      proc freq data=tables order=formatted;\n",
    "    17      tables dti_cat * r_income /nocol nocum norow nopercent;\n",
    "````"
   ]
  },
  {
   "cell_type": "code",
   "execution_count": null,
   "metadata": {},
   "outputs": [],
   "source": [
    " Image(filename='output/pd_crosstab.JPG') "
   ]
  },
  {
   "cell_type": "markdown",
   "metadata": {},
   "source": [
    "## Applying Transformations to Groups"
   ]
  },
  {
   "cell_type": "markdown",
   "metadata": {},
   "source": [
    "A fairly common pattern is standardization and transformation of values.  In the cell below, the new column loans['iz_all'] is added to the 'loans' DataFrame.  It computes a zscore by subtracting the mean value for income from income and dividing by the standard deviation.   "
   ]
  },
  {
   "cell_type": "code",
   "execution_count": null,
   "metadata": {},
   "outputs": [],
   "source": [
    "loans['iz_all'] = (loans.income - loans.income.mean()) / loans.income.std() "
   ]
  },
  {
   "cell_type": "code",
   "execution_count": null,
   "metadata": {},
   "outputs": [],
   "source": [
    "loans['iz_all'].isnull().sum()"
   ]
  },
  {
   "cell_type": "markdown",
   "metadata": {},
   "source": [
    " "
   ]
  },
  {
   "cell_type": "markdown",
   "metadata": {},
   "source": [
    "However, we want to calculate zscores by deciles rather than the overall mean for income.  Start by creating the grouper for the loans['inc_cat'] column which is the deciles created with the pd.qcut() method above."
   ]
  },
  {
   "cell_type": "code",
   "execution_count": null,
   "metadata": {},
   "outputs": [],
   "source": [
    "grp_inc_cat = loans.groupby('inc_cat')"
   ]
  },
  {
   "cell_type": "markdown",
   "metadata": {},
   "source": [
    " "
   ]
  },
  {
   "cell_type": "markdown",
   "metadata": {},
   "source": [
    "Create the zcore function using lambda as an anonymous function."
   ]
  },
  {
   "cell_type": "code",
   "execution_count": null,
   "metadata": {},
   "outputs": [],
   "source": [
    "zscore = lambda x: (x - x.mean()) / x.std()\n",
    "type(zscore)"
   ]
  },
  {
   "cell_type": "markdown",
   "metadata": {},
   "source": [
    " "
   ]
  },
  {
   "cell_type": "markdown",
   "metadata": {},
   "source": [
    "Using the 'grp_inc_cat' grouper created above, call the .transform() attribute to apply the zscore function and assign the results to a new DataFrame called 't_loans'."
   ]
  },
  {
   "cell_type": "code",
   "execution_count": null,
   "metadata": {},
   "outputs": [],
   "source": [
    "t_loans = grp_inc_cat.transform(zscore)"
   ]
  },
  {
   "cell_type": "markdown",
   "metadata": {},
   "source": [
    " "
   ]
  },
  {
   "cell_type": "markdown",
   "metadata": {},
   "source": [
    "The zscore function is applied to all of the numeric columns in the 'loans' DataFrame, so extract the transformed t_loans['income'] column from the 't_loans' DataFrame and assign it as the column loans['iz_grp'] in the 'loans' DataFrame."
   ]
  },
  {
   "cell_type": "code",
   "execution_count": null,
   "metadata": {},
   "outputs": [],
   "source": [
    "loans['iz_grp'] = t_loans['income']"
   ]
  },
  {
   "cell_type": "markdown",
   "metadata": {},
   "source": [
    " "
   ]
  },
  {
   "cell_type": "markdown",
   "metadata": {},
   "source": [
    "Display the transformed income values."
   ]
  },
  {
   "cell_type": "code",
   "execution_count": null,
   "metadata": {
    "scrolled": false
   },
   "outputs": [],
   "source": [
    "print(loans['iz_all'].sort_values(ascending=False).head(10), \n",
    "      loans['iz_grp'].sort_values(ascending=False).head(10))"
   ]
  },
  {
   "cell_type": "markdown",
   "metadata": {},
   "source": [
    " "
   ]
  },
  {
   "cell_type": "markdown",
   "metadata": {},
   "source": [
    "We would like to display the transformed income values side-by-side.  Create the new DataFrame 'prt' by extracting the loans['iz_all'] column (income zscores computed with column mean) and the loans['iz_grp'] (income zscores computed with the group mean). "
   ]
  },
  {
   "cell_type": "code",
   "execution_count": null,
   "metadata": {},
   "outputs": [],
   "source": [
    "prt = loans[['iz_all', 'iz_grp']]\n",
    "type(prt)"
   ]
  },
  {
   "cell_type": "markdown",
   "metadata": {},
   "source": [
    " "
   ]
  },
  {
   "cell_type": "markdown",
   "metadata": {},
   "source": [
    "Provide descriptive column names."
   ]
  },
  {
   "cell_type": "code",
   "execution_count": null,
   "metadata": {},
   "outputs": [],
   "source": [
    "prt.columns = ['zscore w/ overall mean','zscore with group mean']"
   ]
  },
  {
   "cell_type": "markdown",
   "metadata": {},
   "source": [
    " "
   ]
  },
  {
   "cell_type": "markdown",
   "metadata": {},
   "source": [
    "Display the transformed income values."
   ]
  },
  {
   "cell_type": "code",
   "execution_count": null,
   "metadata": {},
   "outputs": [],
   "source": [
    "prt.sort_values('zscore w/ overall mean', ascending=False).head(10)"
   ]
  },
  {
   "cell_type": "markdown",
   "metadata": {},
   "source": [
    "  "
   ]
  },
  {
   "cell_type": "markdown",
   "metadata": {},
   "source": [
    "The analog SAS program combines the creating of income deciles using PROC RANK and PROC SQL to calculate income zscores based on overall mean and income decile group mean."
   ]
  },
  {
   "cell_type": "markdown",
   "metadata": {},
   "source": [
    "````\n",
    "    /******************************************************/\n",
    "    /* c10_zscore_all_bygroup.sas                         */\n",
    "    /******************************************************/\n",
    "    48      proc rank data=df groups=10 ties=low out=r_df;\n",
    "    49           var income;\n",
    "    50           ranks r_income;\n",
    "    51      \n",
    "    52      proc sql ;\n",
    "    53      create table all_mean as\n",
    "    54      select id\n",
    "    55            ,(income - mean) / std as iz_all format=6.2\n",
    "    56         from\n",
    "    57            (select id\n",
    "    58                    ,income\n",
    "    59                    ,mean(income) as mean\n",
    "    60                    ,std(income) as std\n",
    "    61         from r_df)\n",
    "    62      order by iz_all desc;\n",
    "    63      \n",
    "    64      create table grp_mean as\n",
    "    65      select id\n",
    "    66            ,(income - mean) / std as iz_grp format=6.2\n",
    "    67         from\n",
    "    68            (select id\n",
    "    69                    ,income\n",
    "    70                    ,mean(income) as mean\n",
    "    71                    ,std(income) as std\n",
    "    72             from r_df\n",
    "    73             group by r_income)\n",
    "    74      order by iz_grp descending;\n",
    "    75      \n",
    "    76      create table all(drop=old_id) as\n",
    "    77      select coalesce(all_mean.old_id, grp_mean.old_id) as id\n",
    "    78            ,*\n",
    "    79         from all_mean (rename=(id=old_id))\n",
    "    80      full join grp_mean (rename=(id=old_id))\n",
    "    81          on all_mean.old_id = grp_mean.old_id\n",
    "    82      order by iz_all desc;\n",
    "    83      \n",
    "    84      select *\n",
    "    85         from all(obs=10);\n",
    "    86      quit;\n",
    "````"
   ]
  },
  {
   "cell_type": "code",
   "execution_count": null,
   "metadata": {},
   "outputs": [],
   "source": [
    " Image(filename='output/income_zcore_table.JPG') "
   ]
  },
  {
   "cell_type": "markdown",
   "metadata": {
    "collapsed": true
   },
   "source": [
    "  "
   ]
  },
  {
   "cell_type": "markdown",
   "metadata": {},
   "source": [
    " ## Top/Bottom N processing"
   ]
  },
  {
   "cell_type": "markdown",
   "metadata": {},
   "source": [
    "Start by defining a function with 3 argument values.  First one is positional (df) followed by two named arguments (n=, and sort_col=).  The function returns a Series of n= values in descending sort order."
   ]
  },
  {
   "cell_type": "code",
   "execution_count": null,
   "metadata": {},
   "outputs": [],
   "source": [
    "def topn(df, n=3, sort_col='income'):\n",
    "    return pd.Series(df[sort_col]).sort_values(ascending=False).head(n)"
   ]
  },
  {
   "cell_type": "markdown",
   "metadata": {},
   "source": [
    " "
   ]
  },
  {
   "cell_type": "markdown",
   "metadata": {},
   "source": [
    "Call the 'topn' function."
   ]
  },
  {
   "cell_type": "code",
   "execution_count": null,
   "metadata": {},
   "outputs": [],
   "source": [
    "topn(loans, sort_col='dti', n=5)"
   ]
  },
  {
   "cell_type": "markdown",
   "metadata": {},
   "source": [
    " "
   ]
  },
  {
   "cell_type": "markdown",
   "metadata": {},
   "source": [
    "The function can be applied to levels of a GroupBy object using the .apply() attribute."
   ]
  },
  {
   "cell_type": "code",
   "execution_count": null,
   "metadata": {},
   "outputs": [],
   "source": [
    "loans.groupby('grade').apply(topn)"
   ]
  },
  {
   "cell_type": "markdown",
   "metadata": {},
   "source": [
    " "
   ]
  },
  {
   "cell_type": "markdown",
   "metadata": {},
   "source": [
    "Not surprisingly, we did not need to create this function since the .nlargest() and .nsmallest() attributes performs the same operation."
   ]
  },
  {
   "cell_type": "code",
   "execution_count": null,
   "metadata": {},
   "outputs": [],
   "source": [
    "grp_grd['income'].nlargest(3)"
   ]
  },
  {
   "cell_type": "markdown",
   "metadata": {},
   "source": [
    " "
   ]
  },
  {
   "cell_type": "markdown",
   "metadata": {},
   "source": [
    "Return the 3 smallest income values for each debt-to-income loans['dti_cat'] column levels."
   ]
  },
  {
   "cell_type": "code",
   "execution_count": null,
   "metadata": {},
   "outputs": [],
   "source": [
    "grp_grd['income'].nsmallest(3)"
   ]
  },
  {
   "cell_type": "markdown",
   "metadata": {},
   "source": [
    " "
   ]
  },
  {
   "cell_type": "markdown",
   "metadata": {},
   "source": [
    "## Resources\n",
    "\n",
    "The GroupBy: split-apply-combine for panda is located <a href=\"http://pandas.pydata.org/pandas-docs/stable/groupby.html\"> here</a>.\n",
    "\n",
    "Apply Operations to Groups in Pandas, by Chris Albon, located <a href=\"http://chrisalbon.com/python/pandas_apply_operations_to_groups.html\"> here.</a>\n",
    "\n",
    "GroupBy-fu: improvements in grouping and aggregating data in pandas, by Wes McKinney, located <a href=\"http://wesmckinney.com/blog/groupby-fu-improvements-in-grouping-and-aggregating-data-in-pandas/\"> here</a>.\n",
    "\n",
    "MERGING vs. JOINING: Comparing the DATA Step with SQL, by Malachy J. Foley, University of North Carolina at Chapel Hill, located <a href=\"http://www2.sas.com/proceedings/sugi30/249-30.pdf\"> here</a>."
   ]
  },
  {
   "cell_type": "markdown",
   "metadata": {},
   "source": [
    " "
   ]
  },
  {
   "cell_type": "markdown",
   "metadata": {},
   "source": [
    "## Navigation\n",
    "\n",
    "<a href=\"http://nbviewer.jupyter.org/github/RandyBetancourt/PythonForSASUsers/tree/master/\">Return to Chapter List</a>"
   ]
  }
 ],
 "metadata": {
  "kernelspec": {
   "display_name": "Python 3",
   "language": "python",
   "name": "python3"
  },
  "language_info": {
   "codemirror_mode": {
    "name": "ipython",
    "version": 3
   },
   "file_extension": ".py",
   "mimetype": "text/x-python",
   "name": "python",
   "nbconvert_exporter": "python",
   "pygments_lexer": "ipython3",
   "version": "3.7.3"
  }
 },
 "nbformat": 4,
 "nbformat_minor": 1
}
