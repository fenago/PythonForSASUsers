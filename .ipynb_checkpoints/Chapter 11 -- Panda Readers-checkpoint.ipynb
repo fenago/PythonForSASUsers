{
 "cells": [
  {
   "cell_type": "markdown",
   "metadata": {},
   "source": [
    "# Chapter 11 -- Panda Readers "
   ]
  },
  {
   "cell_type": "markdown",
   "metadata": {},
   "source": [
    "## Topics Covered"
   ]
  },
  {
   "cell_type": "markdown",
   "metadata": {},
   "source": [
    "<a href=\"http://nbviewer.jupyter.org/github/RandyBetancourt/PythonForSASUsers/blob/master/Chapter%2011%20--%20Panda%20Readers.ipynb#pd.read_csv(URL)-method\">pd.read_csv(URL) method</a>\n",
    "\n",
    "<a href=\"http://nbviewer.jupyter.org/github/RandyBetancourt/PythonForSASUsers/blob/master/Chapter%2011%20--%20Panda%20Readers.ipynb#SQLAlchemy-Under-the-Covers\">SQL Alchemy Under the Covers</a>\n",
    "\n",
    "<a href=\"http://nbviewer.jupyter.org/github/RandyBetancourt/PythonForSASUsers/blob/master/Chapter%2011%20--%20Panda%20Readers#read_sql_table.ipynb\"> read_sql_table </a>\n",
    "\n",
    "<a href=\"http://nbviewer.jupyter.org/github/RandyBetancourt/PythonForSASUsers/blob/master/Chapter%2011%20--%20Panda%20Readers#read_sql_query.ipynb\"> read_sql_query </a>\n",
    "\n",
    "<a href=\"http://nbviewer.jupyter.org/github/RandyBetancourt/PythonForSASUsers/blob/master/Chapter%2011%20--%20Panda%20Readers.ipynb#DataFrame.to_sql\">DataFrame.to_sql </a>\n",
    "\n",
    "<a href=\"http://nbviewer.jupyter.org/github/RandyBetancourt/PythonForSASUsers/blob/master/Chapter%2011%20--%20Panda%20Readers.ipynb#pd.read_sas\">pd.read_sas() method</a>\n",
    "\n",
    "<a href=\"http://nbviewer.jupyter.org/github/RandyBetancourt/PythonForSASUsers/blob/master/Chapter%2011%20--%20Panda%20Readers.ipynb#Resources\">Resources</a>"
   ]
  },
  {
   "cell_type": "markdown",
   "metadata": {},
   "source": [
    " "
   ]
  },
  {
   "cell_type": "code",
   "execution_count": null,
   "metadata": {},
   "outputs": [],
   "source": [
    "import pyodbc\n",
    "import sys\n",
    "import pandas as pd\n",
    "import numpy as np\n",
    "from sqlalchemy import create_engine, MetaData, Table, select\n",
    "from IPython.display import Image"
   ]
  },
  {
   "cell_type": "markdown",
   "metadata": {},
   "source": [
    " "
   ]
  },
  {
   "cell_type": "markdown",
   "metadata": {},
   "source": [
    "Return the Python and panda version being used since the database library drivers need to be properly aligned."
   ]
  },
  {
   "cell_type": "code",
   "execution_count": null,
   "metadata": {},
   "outputs": [],
   "source": [
    "print('Python version ' + sys.version)\n",
    "print('Pandas version ' + pd.__version__)"
   ]
  },
  {
   "cell_type": "markdown",
   "metadata": {},
   "source": [
    " "
   ]
  },
  {
   "cell_type": "markdown",
   "metadata": {},
   "source": [
    "## pd.read_csv(URL) method "
   ]
  },
  {
   "cell_type": "markdown",
   "metadata": {},
   "source": [
    "This notebook contains several examples of the pd.read_csv() method.  Additional examples are used in Chapter 04--Pandas, Part 1, located <a href=\"http://nbviewer.jupyter.org/github/RandyBetancourt/PythonForSASUsers/blob/master/Chapter%2004%20--%20Pandas%2C%20Part%201.ipynb#pd.read_csv()\">here</a>, and 2 additional examples in Chapter 09--Pandas Time Series and Date Handling, located <a href=\"http://nbviewer.jupyter.org/github/RandyBetancourt/PythonForSASUsers/blob/master/Chapter%2009%20--%20Panda%20Time%20Series%20and%20Date%20Handling.ipynb#Part-1-of-.csv-File-to-Construct-the-'df_us'-DataFrame\"> here</a>.\n"
   ]
  },
  {
   "cell_type": "markdown",
   "metadata": {},
   "source": [
    "The pd.read_csv() method accepts a range of file format types.  In the example below, a URL is given as the input source.  In the SAS example that follows, the FILENAME URL access method is utilized to the same effect."
   ]
  },
  {
   "cell_type": "code",
   "execution_count": null,
   "metadata": {},
   "outputs": [],
   "source": [
    "fips = pd.read_csv('http://www2.census.gov/geo/docs/reference/codes/files/national_county.txt',\n",
    "                              header=None,names=['state','state_fips','county_fips','county','fips_class_code'])\n",
    "fips.shape"
   ]
  },
  {
   "cell_type": "markdown",
   "metadata": {},
   "source": [
    " "
   ]
  },
  {
   "cell_type": "markdown",
   "metadata": {},
   "source": [
    "````\n",
    "    /******************************************************/\n",
    "    /* c11_read_csv_url_method.sas                        */\n",
    "    /******************************************************/\n",
    "    44       filename ctyfips url \"http://www2.census.gov/geo/docs/reference/codes/files/national_c\n",
    "    44     ! ounty.txt\";\n",
    "    45       \n",
    "    46       data cnty_fips;\n",
    "    47       length county_nm $ 40\n",
    "    48              st_name $ 32 ;\n",
    "    49       \n",
    "    50          infile ctyfips dlm=',';\n",
    "    51          input st_abrev $\n",
    "    52                st_fips $\n",
    "    53                cnty_fips $\n",
    "    54                county_nm $\n",
    "    55                ;\n",
    "    56       \n",
    "    57       st_name = fipnamel(st_fips);\n",
    "\n",
    "````"
   ]
  },
  {
   "cell_type": "markdown",
   "metadata": {},
   "source": [
    "## SQLAlchemy Under the Covers"
   ]
  },
  {
   "cell_type": "markdown",
   "metadata": {},
   "source": [
    "The clever folks who brought you pandas also figured out they can avoid re-inventing so they utilize <a href=\"http://www.sqlalchemy.org/\"> SQLAlchemy </a> as an abstraction layer to the usual databases out there.  This approach reduces the amount of database-dependent code pandas need internally.\n",
    "\n",
    "Using SQLAlchemy you can pass SQLAlchemy Expression language constructs which are database-agnostic.  This is analogous to PROC SQL's behavior of general SQL constructs being translated to specific a database without you having to know the specific SQL dialect.\n",
    "\n",
    "Two parts needed.  You need the SQLAlchemy package.  Im my case, it was a part of the Anaconda 4.1 distribution for Windows.  \n",
    "\n",
    "The second is the driver library for the target database.  In my case, I am using MS SQL/Server, 2016.  The target database used below is AdventureWorksDW2012 which Microsoft provides to illustrate their Analytical Services. \n",
    "\n",
    "The examples are analogous to SAS' SQL pass-thru approach where PROC SQL is a wrapper to pass-thru the SQL dialect specific to the database.   \n",
    "\n",
    "To connect to the database with SQLAlchemy, you construct a connection string to the database (uri) using the create_engine() method.  The SQLAlchemy doc for the various databases are <a href=\"http://docs.sqlalchemy.org/en/rel_1_1/core/connections.html\"> here </a>. This only needs to be executed once for the connection shown as:\n",
    "\n",
    "    ServerName = \"homeoffice2\"\n",
    "    Database = \"AdventureWorksDW2012?driver=SQL+Server+Native+Client+11.0\"\n",
    "    TableName = \"DimCustomer\"\n",
    "\n",
    "    engine = create_engine('mssql+pyodbc://' + ServerName + '/' + Database, legacy_schema_aliasing=False)\n",
    "    \n",
    "The string:\n",
    " \n",
    "  ?driver=SQL+Server+Native+Client+11.0\n",
    "  \n",
    "was needed to inform SQLAlchemy the name of the specific database client library.  This is found on the Driver's tab of the ODBC Data Source Adminstrator."
   ]
  },
  {
   "cell_type": "code",
   "execution_count": null,
   "metadata": {},
   "outputs": [],
   "source": [
    "Image(filename='output/odbc.JPG')"
   ]
  },
  {
   "cell_type": "markdown",
   "metadata": {},
   "source": [
    " "
   ]
  },
  {
   "cell_type": "markdown",
   "metadata": {},
   "source": [
    " "
   ]
  },
  {
   "cell_type": "markdown",
   "metadata": {},
   "source": [
    "Next, create a tuple of parameter values to pass to the create_engine= assignment to identify the Python package used on the client-side as well as the database server name, target database, and target table. "
   ]
  },
  {
   "cell_type": "code",
   "execution_count": null,
   "metadata": {},
   "outputs": [],
   "source": [
    "ServerName = \"homeoffice2\"\n",
    "Database = \"AdventureWorksDW2012?driver=SQL+Server+Native+Client+11.0\"\n",
    "TableName = \"DimCustomer\"\n",
    "\n",
    "engine = create_engine('mssql+pyodbc://' + ServerName + '/' + Database, legacy_schema_aliasing=False)\n",
    "conn = engine.connect()\n",
    "\n",
    "metadata = MetaData(conn)"
   ]
  },
  {
   "cell_type": "markdown",
   "metadata": {},
   "source": [
    " "
   ]
  },
  {
   "cell_type": "markdown",
   "metadata": {},
   "source": [
    "## read_sql_table()"
   ]
  },
  {
   "cell_type": "markdown",
   "metadata": {},
   "source": [
    "The read_sql_table() method reads a database table and optionally a subset of columns.  The syntax is documented <a href=\"http://pandas.pydata.org/pandas-docs/stable/generated/pandas.read_sql_table.html#pandas.read_sql_table\"> here </a>."
   ]
  },
  {
   "cell_type": "markdown",
   "metadata": {},
   "source": [
    "For clarity, we build a <a href=\"http://nbviewer.jupyter.org/github/RandyBetancourt/PythonForSASUsers/blob/master/Chapter%2002%20--%20Data%20Structures.ipynb#list\">list</a> of columns we want to have returned along with a table name that are used as arguments in the next set of examples."
   ]
  },
  {
   "cell_type": "code",
   "execution_count": null,
   "metadata": {},
   "outputs": [],
   "source": [
    "col_names = ['FirstName', 'LastName', 'BirthDate', 'Gender', 'YearlyIncome', 'CustomerKey']\n",
    "tbl = 'DimCustomer'"
   ]
  },
  {
   "cell_type": "code",
   "execution_count": null,
   "metadata": {},
   "outputs": [],
   "source": [
    "t0 = pd.read_sql_table(tbl, engine, columns=col_names)\n",
    "t0.info()"
   ]
  },
  {
   "cell_type": "markdown",
   "metadata": {},
   "source": [
    " "
   ]
  },
  {
   "cell_type": "markdown",
   "metadata": {},
   "source": [
    "Designate an incoming column to be used as the DataFrame index with the index_col= argument."
   ]
  },
  {
   "cell_type": "code",
   "execution_count": null,
   "metadata": {},
   "outputs": [],
   "source": [
    "t1 = pd.read_sql_table(tbl, engine, columns=col_names, index_col='CustomerKey')\n",
    "t1.index"
   ]
  },
  {
   "cell_type": "markdown",
   "metadata": {},
   "source": [
    " "
   ]
  },
  {
   "cell_type": "markdown",
   "metadata": {},
   "source": [
    "Coerce date strings into date objects.  The example below is redundant since the query engine was smart enough to determine t0['BirthDate'] is a date column.  This is shown by examining output from t0.info() call showing the column as type datetime64."
   ]
  },
  {
   "cell_type": "code",
   "execution_count": null,
   "metadata": {},
   "outputs": [],
   "source": [
    "t2 = pd.read_sql_table(tbl, engine, columns=col_names, index_col='CustomerKey', \\\n",
    "                       parse_dates={'BirthDate': {'format': '%Y-%m-%d'}})\n"
   ]
  },
  {
   "cell_type": "markdown",
   "metadata": {},
   "source": [
    " "
   ]
  },
  {
   "cell_type": "markdown",
   "metadata": {},
   "source": [
    "Review the incoming columns and their attributes."
   ]
  },
  {
   "cell_type": "code",
   "execution_count": null,
   "metadata": {},
   "outputs": [],
   "source": [
    "t2.info()"
   ]
  },
  {
   "cell_type": "markdown",
   "metadata": {},
   "source": [
    " "
   ]
  },
  {
   "cell_type": "markdown",
   "metadata": {},
   "source": [
    "Review the customer index key values."
   ]
  },
  {
   "cell_type": "code",
   "execution_count": null,
   "metadata": {},
   "outputs": [],
   "source": [
    "t2.index"
   ]
  },
  {
   "cell_type": "markdown",
   "metadata": {},
   "source": [
    " "
   ]
  },
  {
   "cell_type": "markdown",
   "metadata": {},
   "source": [
    "Display the first 5 rows for the the 'BirthDate' column.  Also notice above, from the .info() method how the t2['BirthDate'] column was read as datetime timestamps."
   ]
  },
  {
   "cell_type": "code",
   "execution_count": null,
   "metadata": {},
   "outputs": [],
   "source": [
    "t2[\"BirthDate\"].head(5)"
   ]
  },
  {
   "cell_type": "markdown",
   "metadata": {},
   "source": [
    " "
   ]
  },
  {
   "cell_type": "markdown",
   "metadata": {},
   "source": [
    "The SAS program below reads the same input table from SQL/Server called DimCustomer.  Under the covers, SAS constructs the appropriate TSQL statements to retrieve rows and columns forming the SAS data set WORK.CUSTOMERS.\n",
    "\n",
    "In this case, SAS reads the 'BirthDate' variable as a string.  The SAS/Access product line provide an array of SAS Data Set options to map data types between SAS and SQL/Server described<a href=\"https://support.sas.com/documentation/cdl/en/acreldb/63647/HTML/default/viewer.htm#a001405621.htm\"> here</a>.  SAS/Access products are outside the scope of these examples.  "
   ]
  },
  {
   "cell_type": "markdown",
   "metadata": {},
   "source": [
    "````\n",
    "    /******************************************************/\n",
    "    /* c11_pd.read_sql_table.sas                          */\n",
    "    /******************************************************/\n",
    "    4         proc pwencode in=XXXXXXXXX;\n",
    "    {sas001}UG9yc2hjZSMx\n",
    "    5         \n",
    "    6         libname sqlsrvr odbc\n",
    "    7                  uid=randy\n",
    "    8                  pwd=XXXXXXXXXXXXXXXXXXXX\n",
    "    9                  datasrc=mssql\n",
    "    10                 bulkload=yes;\n",
    "    11        \n",
    "    12        proc sql;\n",
    "    13           create table customers as\n",
    "    14           select FirstName,\n",
    "    15                  LastName,\n",
    "    16                  BirthDate,\n",
    "    17                  Gender,\n",
    "    18                  YearlyIncome,\n",
    "    19                  CustomerKey\n",
    "    20           from sqlsrvr.DimCustomer;\n",
    "    NOTE: Data set \"WORK.customers\" has 18484 observation(s) and 6 variable(s)\n",
    "    21        quit;\n",
    "    22        \n",
    "    23        data _null_;\n",
    "    24           set customers(obs=5);\n",
    "    25        \n",
    "    26        bdate = input(birthdate, yymmdd10.);\n",
    "    27        bd_f = put(bdate, yydddd10.);\n",
    "    28        \n",
    "    29        put bd_f;\n",
    "\n",
    "    1966-04-08\n",
    "    1965-05-14\n",
    "    1965-08-12\n",
    "    1968-02-15\n",
    "    1968-08-08\n",
    "````"
   ]
  },
  {
   "cell_type": "markdown",
   "metadata": {},
   "source": [
    " "
   ]
  },
  {
   "cell_type": "markdown",
   "metadata": {},
   "source": [
    "## read_sql_query() method"
   ]
  },
  {
   "cell_type": "markdown",
   "metadata": {},
   "source": [
    "The read_sql_query() method returns a DataFrame based on the evaluation of a query string. It is similiar to the read_sql_table() method described above.  \n",
    "\n",
    "You must use the appropriate SQL dialect for the target database.  This is analogous to SAS' SQL pass-thru."
   ]
  },
  {
   "cell_type": "code",
   "execution_count": null,
   "metadata": {},
   "outputs": [],
   "source": [
    "q1 = pd.read_sql_query('SELECT FirstName, LastName, Gender, BirthDate, YearlyIncome '\n",
    "                 'FROM dbo.DimCustomer '\n",
    "                 'WHERE YearlyIncome > 50000;'\n",
    "                        , engine)"
   ]
  },
  {
   "cell_type": "markdown",
   "metadata": {},
   "source": [
    " "
   ]
  },
  {
   "cell_type": "code",
   "execution_count": null,
   "metadata": {},
   "outputs": [],
   "source": [
    "\n",
    "q1.info()"
   ]
  },
  {
   "cell_type": "markdown",
   "metadata": {},
   "source": [
    "  "
   ]
  },
  {
   "cell_type": "markdown",
   "metadata": {},
   "source": [
    " "
   ]
  },
  {
   "cell_type": "markdown",
   "metadata": {},
   "source": [
    "The SAS analog example for pd.read_sql_query in cell #12 above is shown below.  Similiar to the create_engine() method, the connect to ODBC statement uses a series of arguments to used to make authenicated calls into the database.  All of the SQL statements inside the parethensized expression is not scanned by the SAS tokenizer/parser and is passed to the database for execution.  Returning rows and columns are returned by the ODBC api."
   ]
  },
  {
   "cell_type": "markdown",
   "metadata": {},
   "source": [
    "````\n",
    "    15       LIBNAME in_sql ODBC DSN=\"mssql\";\n",
    "    16       \n",
    "    17       proc sql;\n",
    "    18       connect to odbc(datasrc=mssql uid=randy password=XXXXXXXX);\n",
    "    NOTE: Successfully connected to database ODBC as alias ODBC.\n",
    "    19           create table q1 as\n",
    "    20          select * from connection to odbc\n",
    "    21          (select FirstName,\n",
    "    22                  LastName,\n",
    "    23                  Gender,\n",
    "    24                  BirthDate,\n",
    "    25                  YearlyIncome\n",
    "    26           from dbo.DimCustomer\n",
    "    27           where YearlyIncome > 50000);\n",
    "    NOTE: Data set \"WORK.q1\" has 9858 observation(s) and 5 variable(s)\n",
    "````"
   ]
  },
  {
   "cell_type": "markdown",
   "metadata": {},
   "source": [
    " "
   ]
  },
  {
   "cell_type": "markdown",
   "metadata": {},
   "source": [
    "...or pass a DocStrings to the pd.read_sql_query() method."
   ]
  },
  {
   "cell_type": "code",
   "execution_count": null,
   "metadata": {},
   "outputs": [],
   "source": [
    "sql_str = '''SELECT\n",
    "                    FirstName,\n",
    "                    LastName,\n",
    "                    Gender,\n",
    "                    CustomerKey,\n",
    "                    BirthDate\n",
    "             FROM DimCustomer  \n",
    "             WHERE YearlyIncome > 120000''' \n",
    "\n",
    "q2 = pd.read_sql_query(sql_str, engine, index_col='CustomerKey')"
   ]
  },
  {
   "cell_type": "markdown",
   "metadata": {},
   "source": [
    " "
   ]
  },
  {
   "cell_type": "code",
   "execution_count": null,
   "metadata": {},
   "outputs": [],
   "source": [
    "q2.info()"
   ]
  },
  {
   "cell_type": "markdown",
   "metadata": {},
   "source": [
    " "
   ]
  },
  {
   "cell_type": "markdown",
   "metadata": {},
   "source": [
    "You can execute a query without returning a dataframe with execute(). This is useful for queries that don’t return values, such as a DROP TABLE statement.  You must use the SQL dialect appropriate for the target database."
   ]
  },
  {
   "cell_type": "code",
   "execution_count": null,
   "metadata": {},
   "outputs": [],
   "source": [
    "from pandas.io import sql\n",
    "sql.execute('DROP TABLE dbo.df2', engine)"
   ]
  },
  {
   "cell_type": "markdown",
   "metadata": {},
   "source": [
    " "
   ]
  },
  {
   "cell_type": "markdown",
   "metadata": {},
   "source": [
    "## DataFrame.to_sql"
   ]
  },
  {
   "cell_type": "markdown",
   "metadata": {},
   "source": [
    "Construct the DataFrame to load into SQL/Server."
   ]
  },
  {
   "cell_type": "code",
   "execution_count": null,
   "metadata": {},
   "outputs": [],
   "source": [
    "df = pd.DataFrame([['cold','slow', np.nan, 2., 6., 3.], \n",
    "                   ['warm', 'medium', 4, 5, 7, 9],\n",
    "                   ['hot', 'fast', 9, 4, np.nan, 6],\n",
    "                   ['cool', None, np.nan, np.nan, 17, 89],\n",
    "                   ['cool', 'medium', 16, 44, 21, 13],\n",
    "                   ['cold', 'slow', np.nan, 29, 33, 17]],\n",
    "                   columns=['col1', 'col2', 'col3', 'col4', 'col5', 'col6'],\n",
    "                   index=(list('abcdef')))"
   ]
  },
  {
   "cell_type": "markdown",
   "metadata": {},
   "source": [
    " "
   ]
  },
  {
   "cell_type": "markdown",
   "metadata": {},
   "source": [
    "The .DataFrame.to_sql method loads a target DBMS table with the rows and columns from a DataFrame.  The syntax is documented <a href=\"http://pandas.pydata.org/pandas-docs/stable/generated/pandas.DataFrame.to_sql.html\"> here </a>.  The method has the chunksize= parameter where the default None writes all rows at once.  The doc does not specify how the writes take place, either through SQL INSERT statements or uses a bulk copy interface."
   ]
  },
  {
   "cell_type": "code",
   "execution_count": null,
   "metadata": {},
   "outputs": [],
   "source": [
    "df.to_sql('dbo.DF2', engine, if_exists='replace',index=False)"
   ]
  },
  {
   "cell_type": "markdown",
   "metadata": {},
   "source": [
    " "
   ]
  },
  {
   "cell_type": "markdown",
   "metadata": {},
   "source": [
    "The analog SAS program to copy a SAS data set to the target DBMS is below.  Note the PROC PWENCODE used to encode strings to prevent passwords from being stored in clear text.  Also notice the LIBNAME option bulkload=yes.  This causes the load operation to go through the RDBMS' bulk load interface."
   ]
  },
  {
   "cell_type": "markdown",
   "metadata": {},
   "source": [
    "````\n",
    "    /******************************************************/\n",
    "    /* c11_DataFrame.to_sql.sas                           */\n",
    "    /******************************************************/\n",
    "\n",
    "    56       proc pwencode in=XXXXXXXXX;\n",
    "    {sas001}UG9yc2hjZSMx\n",
    "    57       \n",
    "    58       libname sqlsrvr odbc\n",
    "    59                uid=randy\n",
    "    60                pwd=XXXXXXXXXXXXXXXXXXXX\n",
    "    61                datasrc=mssql\n",
    "    62                bulkload=yes;\n",
    "\n",
    "    63       \n",
    "    64       data sqlsrvr.tickets;\n",
    "    65          set tickets;\n",
    "\n",
    "   NOTE: 72 observations were read from \"WORK.tickets\"\n",
    "   NOTE: Data set \"SQLSRVR.tickets\" has an unknown number of observation(s) and 5 variable(s)\n",
    "   \n",
    "````"
   ]
  },
  {
   "cell_type": "markdown",
   "metadata": {},
   "source": [
    " "
   ]
  },
  {
   "cell_type": "markdown",
   "metadata": {},
   "source": [
    "## pd.read_sas"
   ]
  },
  {
   "cell_type": "markdown",
   "metadata": {},
   "source": [
    "The pd.read_sas() method maps either a SAS data set (.sas7bdat file) or a SAS transport data set (.xpt file) directly into a DataFrame.  The syntax details are located <a href=\"http://pandas.pydata.org/pandas-docs/stable/generated/pandas.read_sas.html\">here</a>.  This is a SAS data set created by Base SAS software and not WPS."
   ]
  },
  {
   "cell_type": "code",
   "execution_count": null,
   "metadata": {},
   "outputs": [],
   "source": [
    "df4 = pd.read_sas(\"c:\\\\Data\\\\accident.sas7bdat\", format='SAS7BDAT')"
   ]
  },
  {
   "cell_type": "code",
   "execution_count": null,
   "metadata": {},
   "outputs": [],
   "source": [
    "df4.info()"
   ]
  },
  {
   "cell_type": "markdown",
   "metadata": {},
   "source": [
    " "
   ]
  },
  {
   "cell_type": "markdown",
   "metadata": {},
   "source": [
    "The following SAS program was used to create both a SAS data and a SAS transport SAS data set.  Both were created with Version: 3.2.2 of the WPS Workbench for Windows.  The SAS data DATA.COMPANY failed to be read with the pd.read_sas() method.  The SAS transport file was read correctly below."
   ]
  },
  {
   "cell_type": "markdown",
   "metadata": {
    "collapsed": true
   },
   "source": [
    "````\n",
    "    /******************************************************/\n",
    "    /* c11_write_export_file.sas                          */\n",
    "    /******************************************************/\n",
    "     93       libname data 'data';\n",
    "     94       libname xptout xport \"data/company.xpt\";\n",
    "     95       \n",
    "     96              data data.company;\n",
    "     97                 input Name $ 1-25 Age 27-28 Gender $ 30;\n",
    "     98                 datalines;\n",
    "     99       \n",
    "    100       Vincent, Martina          34 F\n",
    "    101       Phillipon, Marie-Odile    28 F\n",
    "    102       Gunter, Thomas            27 M\n",
    "    103       Harbinger, Nicholas       36 M\n",
    "    104       Benito, Gisela            32 F\n",
    "    105       Rudelich, Herbert         39 M\n",
    "    106       Sirignano, Emily          12 F\n",
    "    107       Morrison, Michael         32 M\n",
    "    108       ;;;;\n",
    "    109       \n",
    "    110       proc copy in = data\n",
    "    111                 out = xptout;\n",
    "    112       select company;\n",
    "\n",
    "    NOTE: Member \"DATA.COMPANY.DATA\" (memtype=DATA) copied\n",
    "    NOTE: 1 member copied\n",
    "````"
   ]
  },
  {
   "cell_type": "markdown",
   "metadata": {},
   "source": [
    " "
   ]
  },
  {
   "cell_type": "markdown",
   "metadata": {},
   "source": [
    "Using Version: 3.2.2 of the WPS Workbench for Windows to create its .wpd format as input to the pd.read_sas() method fails.  That is because the binary file format chosen by WPS does not match those from SAS.  "
   ]
  },
  {
   "cell_type": "code",
   "execution_count": null,
   "metadata": {},
   "outputs": [],
   "source": [
    "df5 = pd.read_sas(\"c:\\\\Data\\\\company.wpd\", format='SAS7BDAT')"
   ]
  },
  {
   "cell_type": "markdown",
   "metadata": {},
   "source": [
    " "
   ]
  },
  {
   "cell_type": "markdown",
   "metadata": {},
   "source": [
    "Using Version: 3.2.2 of the WPS Workbench for Windows to create a SAS transport file (.xpt) as input to the pd.read_sas() method works."
   ]
  },
  {
   "cell_type": "code",
   "execution_count": null,
   "metadata": {},
   "outputs": [],
   "source": [
    "df6 = pd.read_sas(\"c:\\\\Data\\\\company.xpt\", format='xport')"
   ]
  },
  {
   "cell_type": "code",
   "execution_count": null,
   "metadata": {},
   "outputs": [],
   "source": [
    "df6.info()"
   ]
  },
  {
   "cell_type": "markdown",
   "metadata": {},
   "source": [
    " "
   ]
  },
  {
   "cell_type": "markdown",
   "metadata": {},
   "source": [
    "## Resources\n",
    "\n",
    "<a href=\"http://pandas.pydata.org/pandas-docs/stable/io.html#sql-queries\"> SQL Queries </a>, from the pandas.org doc.\n",
    "\n",
    "<a href=\"http://nbviewer.jupyter.org/urls/bitbucket.org/hrojas/learn-pandas/raw/master/lessons/08%20-%20Lesson.ipynb\"> How to pull data from a microsoft sql database </a>\n",
    "\n",
    "<a href=\"http://docs.sqlalchemy.org/en/rel_1_1/core/connections.html\"> defining the create_engine() method </a> from the SQLAlchemy doc."
   ]
  },
  {
   "cell_type": "markdown",
   "metadata": {},
   "source": [
    "## Navigation\n",
    "\n",
    "<a href=\"http://nbviewer.jupyter.org/github/RandyBetancourt/PythonForSASUsers/tree/master/\"> Return to Chapter List </a>"
   ]
  }
 ],
 "metadata": {
  "anaconda-cloud": {},
  "kernelspec": {
   "display_name": "Python 3",
   "language": "python",
   "name": "python3"
  },
  "language_info": {
   "codemirror_mode": {
    "name": "ipython",
    "version": 3
   },
   "file_extension": ".py",
   "mimetype": "text/x-python",
   "name": "python",
   "nbconvert_exporter": "python",
   "pygments_lexer": "ipython3",
   "version": "3.7.3"
  }
 },
 "nbformat": 4,
 "nbformat_minor": 1
}
